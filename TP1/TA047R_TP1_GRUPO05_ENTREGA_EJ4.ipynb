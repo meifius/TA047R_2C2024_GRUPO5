{
  "nbformat": 4,
  "nbformat_minor": 0,
  "metadata": {
    "colab": {
      "provenance": [],
      "toc_visible": true
    },
    "kernelspec": {
      "name": "python3",
      "display_name": "Python 3"
    },
    "language_info": {
      "name": "python"
    }
  },
  "cells": [
    {
      "cell_type": "markdown",
      "source": [
        "# TP1 - EJ4 - Agrupamiento(Clustering)"
      ],
      "metadata": {
        "id": "IBWIW3uXJFVJ"
      }
    },
    {
      "cell_type": "markdown",
      "source": [
        "## Integrantes:\n",
        "\n",
        "\n",
        "*   Mejia Alan Roberto - 91161"
      ],
      "metadata": {
        "id": "DMyBI2WwJduI"
      }
    },
    {
      "cell_type": "markdown",
      "source": [
        "## Objetivos"
      ],
      "metadata": {
        "id": "_NXutxXBJgs4"
      }
    },
    {
      "cell_type": "markdown",
      "source": [
        "El objetivo de este ejercicio es buscar los posibles agrupamientos de los datos en funcion de algun criterio.\n",
        "\n",
        "Los datos a utilizar contiene informacion de algunas tracks(canciones) de Spotify."
      ],
      "metadata": {
        "id": "VPgukzcJJLYt"
      }
    },
    {
      "cell_type": "markdown",
      "source": [
        "# Importaciones"
      ],
      "metadata": {
        "id": "Hm-VQI1nJ95q"
      }
    },
    {
      "cell_type": "markdown",
      "source": [
        "## Instalaciones"
      ],
      "metadata": {
        "id": "ZnLSE-XAKADa"
      }
    },
    {
      "cell_type": "code",
      "source": [
        "#"
      ],
      "metadata": {
        "id": "EpSAuDIWK-uZ"
      },
      "execution_count": 4,
      "outputs": []
    },
    {
      "cell_type": "markdown",
      "source": [
        "## Bibliotecas"
      ],
      "metadata": {
        "id": "XG-RQJ4gKCJ3"
      }
    },
    {
      "cell_type": "code",
      "source": [
        "#Librerías para manejo de datos\n",
        "import pandas as pd\n",
        "import numpy as np\n",
        "\n",
        "#Librerías para gráficos\n",
        "import matplotlib.pyplot as plt\n",
        "import seaborn as sns\n",
        "\n",
        "#Otras librerías\n",
        "import os\n",
        "import warnings\n",
        "warnings.simplefilter(action='ignore', category=FutureWarning)\n",
        "warnings.simplefilter(action='ignore', category=UserWarning)"
      ],
      "metadata": {
        "id": "bwK6EG8eKIBO"
      },
      "execution_count": 1,
      "outputs": []
    },
    {
      "cell_type": "markdown",
      "source": [
        "Bibliotecas con modelos"
      ],
      "metadata": {
        "id": "ckYrGr0lLCoa"
      }
    },
    {
      "cell_type": "code",
      "source": [
        "from sklearn.model_selection import train_test_split, cross_val_score\n",
        "from sklearn.cluster import KMeans"
      ],
      "metadata": {
        "id": "vqyUtV8hLCWv"
      },
      "execution_count": 2,
      "outputs": []
    },
    {
      "cell_type": "markdown",
      "source": [
        "## Datasets"
      ],
      "metadata": {
        "id": "llkEOeIuKEUI"
      }
    },
    {
      "cell_type": "code",
      "execution_count": 3,
      "metadata": {
        "id": "fWDVrQugI9g0"
      },
      "outputs": [],
      "source": [
        "df = pd.read_csv('playlist_spotify.csv')\n"
      ]
    },
    {
      "cell_type": "markdown",
      "source": [
        "# Analisis exploratorio"
      ],
      "metadata": {
        "id": "NEUEJnMSLS3c"
      }
    },
    {
      "cell_type": "markdown",
      "source": [
        "En esta seccion se realiza un analisis necesario para comprender el dominio del problema."
      ],
      "metadata": {
        "id": "cw3iqk-fLYRZ"
      }
    },
    {
      "cell_type": "markdown",
      "source": [
        "## Forma del dataset"
      ],
      "metadata": {
        "id": "BW1ZSUN6LaOR"
      }
    },
    {
      "cell_type": "code",
      "source": [
        "df.shape"
      ],
      "metadata": {
        "colab": {
          "base_uri": "https://localhost:8080/"
        },
        "id": "EhJMFBAaLWpM",
        "outputId": "e2d94fc6-aa19-4319-d7b5-176de6ac9db8"
      },
      "execution_count": 6,
      "outputs": [
        {
          "output_type": "execute_result",
          "data": {
            "text/plain": [
              "(750, 13)"
            ]
          },
          "metadata": {},
          "execution_count": 6
        }
      ]
    },
    {
      "cell_type": "code",
      "source": [
        "(registros, variables) = df.shape\n",
        "print(\"Cantidad de registros: \" + str(registros))\n",
        "print(\"Cantidad de variables: \" + str(variables))"
      ],
      "metadata": {
        "colab": {
          "base_uri": "https://localhost:8080/"
        },
        "id": "j29dczWTLe6M",
        "outputId": "1a2b0555-94d0-44b5-8cd1-8feef0816bdd"
      },
      "execution_count": 7,
      "outputs": [
        {
          "output_type": "stream",
          "name": "stdout",
          "text": [
            "Cantidad de registros: 750\n",
            "Cantidad de variables: 13\n"
          ]
        }
      ]
    },
    {
      "cell_type": "markdown",
      "source": [
        "## Variables"
      ],
      "metadata": {
        "id": "wU8pTbK0LhAD"
      }
    },
    {
      "cell_type": "code",
      "source": [
        "variables = df.columns.to_list()\n",
        "variables"
      ],
      "metadata": {
        "colab": {
          "base_uri": "https://localhost:8080/"
        },
        "id": "eRblPIw8LiC1",
        "outputId": "3aadfe50-1a7b-4f24-e5e7-afed8652b16b"
      },
      "execution_count": 8,
      "outputs": [
        {
          "output_type": "execute_result",
          "data": {
            "text/plain": [
              "['acousticness',\n",
              " 'danceability',\n",
              " 'duration',\n",
              " 'energy',\n",
              " 'instrumentalness',\n",
              " 'key',\n",
              " 'liveness',\n",
              " 'loudness',\n",
              " 'mode',\n",
              " 'speechiness',\n",
              " 'tempo',\n",
              " 'time_signature',\n",
              " 'valence']"
            ]
          },
          "metadata": {},
          "execution_count": 8
        }
      ]
    },
    {
      "cell_type": "markdown",
      "source": [
        "## Datos nulos"
      ],
      "metadata": {
        "id": "PXrXVApHQDJi"
      }
    },
    {
      "cell_type": "code",
      "source": [
        "(df.isnull().sum() / len(df)) * 100"
      ],
      "metadata": {
        "colab": {
          "base_uri": "https://localhost:8080/",
          "height": 492
        },
        "id": "eA0mPfpnQEm9",
        "outputId": "d5ce41c0-72bc-4e56-f34c-6a8ccb2422fd"
      },
      "execution_count": 9,
      "outputs": [
        {
          "output_type": "execute_result",
          "data": {
            "text/plain": [
              "acousticness        0.0\n",
              "danceability        0.0\n",
              "duration            0.0\n",
              "energy              0.0\n",
              "instrumentalness    0.0\n",
              "key                 0.0\n",
              "liveness            0.0\n",
              "loudness            0.0\n",
              "mode                0.0\n",
              "speechiness         0.0\n",
              "tempo               0.0\n",
              "time_signature      0.0\n",
              "valence             0.0\n",
              "dtype: float64"
            ],
            "text/html": [
              "<div>\n",
              "<style scoped>\n",
              "    .dataframe tbody tr th:only-of-type {\n",
              "        vertical-align: middle;\n",
              "    }\n",
              "\n",
              "    .dataframe tbody tr th {\n",
              "        vertical-align: top;\n",
              "    }\n",
              "\n",
              "    .dataframe thead th {\n",
              "        text-align: right;\n",
              "    }\n",
              "</style>\n",
              "<table border=\"1\" class=\"dataframe\">\n",
              "  <thead>\n",
              "    <tr style=\"text-align: right;\">\n",
              "      <th></th>\n",
              "      <th>0</th>\n",
              "    </tr>\n",
              "  </thead>\n",
              "  <tbody>\n",
              "    <tr>\n",
              "      <th>acousticness</th>\n",
              "      <td>0.0</td>\n",
              "    </tr>\n",
              "    <tr>\n",
              "      <th>danceability</th>\n",
              "      <td>0.0</td>\n",
              "    </tr>\n",
              "    <tr>\n",
              "      <th>duration</th>\n",
              "      <td>0.0</td>\n",
              "    </tr>\n",
              "    <tr>\n",
              "      <th>energy</th>\n",
              "      <td>0.0</td>\n",
              "    </tr>\n",
              "    <tr>\n",
              "      <th>instrumentalness</th>\n",
              "      <td>0.0</td>\n",
              "    </tr>\n",
              "    <tr>\n",
              "      <th>key</th>\n",
              "      <td>0.0</td>\n",
              "    </tr>\n",
              "    <tr>\n",
              "      <th>liveness</th>\n",
              "      <td>0.0</td>\n",
              "    </tr>\n",
              "    <tr>\n",
              "      <th>loudness</th>\n",
              "      <td>0.0</td>\n",
              "    </tr>\n",
              "    <tr>\n",
              "      <th>mode</th>\n",
              "      <td>0.0</td>\n",
              "    </tr>\n",
              "    <tr>\n",
              "      <th>speechiness</th>\n",
              "      <td>0.0</td>\n",
              "    </tr>\n",
              "    <tr>\n",
              "      <th>tempo</th>\n",
              "      <td>0.0</td>\n",
              "    </tr>\n",
              "    <tr>\n",
              "      <th>time_signature</th>\n",
              "      <td>0.0</td>\n",
              "    </tr>\n",
              "    <tr>\n",
              "      <th>valence</th>\n",
              "      <td>0.0</td>\n",
              "    </tr>\n",
              "  </tbody>\n",
              "</table>\n",
              "</div><br><label><b>dtype:</b> float64</label>"
            ]
          },
          "metadata": {},
          "execution_count": 9
        }
      ]
    },
    {
      "cell_type": "markdown",
      "source": [
        "Observaciones: No existen datos nulos"
      ],
      "metadata": {
        "id": "bu-RM0YEQG9E"
      }
    },
    {
      "cell_type": "markdown",
      "source": [
        "## Tipos de datos de las variables del dataset"
      ],
      "metadata": {
        "id": "kT-OBpIWQZNp"
      }
    },
    {
      "cell_type": "code",
      "source": [
        "tipos = df.dtypes\n",
        "print(tipos)"
      ],
      "metadata": {
        "colab": {
          "base_uri": "https://localhost:8080/"
        },
        "id": "uawEjNXgQaG7",
        "outputId": "8dc0a9ba-8b31-4b04-f53e-8cd253f10734"
      },
      "execution_count": 10,
      "outputs": [
        {
          "output_type": "stream",
          "name": "stdout",
          "text": [
            "acousticness        float64\n",
            "danceability        float64\n",
            "duration              int64\n",
            "energy              float64\n",
            "instrumentalness    float64\n",
            "key                   int64\n",
            "liveness            float64\n",
            "loudness            float64\n",
            "mode                  int64\n",
            "speechiness         float64\n",
            "tempo               float64\n",
            "time_signature        int64\n",
            "valence             float64\n",
            "dtype: object\n"
          ]
        }
      ]
    },
    {
      "cell_type": "markdown",
      "source": [
        "## Inspeccion de registros"
      ],
      "metadata": {
        "id": "psl1_FYzQgmk"
      }
    },
    {
      "cell_type": "code",
      "source": [
        "df.head()"
      ],
      "metadata": {
        "colab": {
          "base_uri": "https://localhost:8080/",
          "height": 206
        },
        "id": "Mefe6ugjQhht",
        "outputId": "83d98efe-8f4d-438e-8ed7-b5a779920134"
      },
      "execution_count": 11,
      "outputs": [
        {
          "output_type": "execute_result",
          "data": {
            "text/plain": [
              "   acousticness  danceability  duration  energy  instrumentalness  key  \\\n",
              "0         0.713         0.514    100125   0.521          0.816000    8   \n",
              "1         0.192         0.714    207019   0.614          0.000000    4   \n",
              "2         0.333         0.630    216200   0.455          0.000004    5   \n",
              "3         0.601         0.810    136413   0.221          0.210000    5   \n",
              "4         0.883         0.465    181440   0.459          0.000173    6   \n",
              "\n",
              "   liveness  loudness  mode  speechiness    tempo  time_signature  valence  \n",
              "0    0.1120   -14.835     0       0.0444  119.879               4    0.143  \n",
              "1    0.2630    -6.935     1       0.0319  123.969               4    0.582  \n",
              "2    0.1270    -9.290     1       0.0292  139.931               4    0.199  \n",
              "3    0.1840   -11.005     1       0.0429  109.960               4    0.798  \n",
              "4    0.0692    -8.137     0       0.0351   90.807               4    0.288  "
            ],
            "text/html": [
              "\n",
              "  <div id=\"df-ba2bc2dc-82b5-431b-b9e7-bc4351d4ce9b\" class=\"colab-df-container\">\n",
              "    <div>\n",
              "<style scoped>\n",
              "    .dataframe tbody tr th:only-of-type {\n",
              "        vertical-align: middle;\n",
              "    }\n",
              "\n",
              "    .dataframe tbody tr th {\n",
              "        vertical-align: top;\n",
              "    }\n",
              "\n",
              "    .dataframe thead th {\n",
              "        text-align: right;\n",
              "    }\n",
              "</style>\n",
              "<table border=\"1\" class=\"dataframe\">\n",
              "  <thead>\n",
              "    <tr style=\"text-align: right;\">\n",
              "      <th></th>\n",
              "      <th>acousticness</th>\n",
              "      <th>danceability</th>\n",
              "      <th>duration</th>\n",
              "      <th>energy</th>\n",
              "      <th>instrumentalness</th>\n",
              "      <th>key</th>\n",
              "      <th>liveness</th>\n",
              "      <th>loudness</th>\n",
              "      <th>mode</th>\n",
              "      <th>speechiness</th>\n",
              "      <th>tempo</th>\n",
              "      <th>time_signature</th>\n",
              "      <th>valence</th>\n",
              "    </tr>\n",
              "  </thead>\n",
              "  <tbody>\n",
              "    <tr>\n",
              "      <th>0</th>\n",
              "      <td>0.713</td>\n",
              "      <td>0.514</td>\n",
              "      <td>100125</td>\n",
              "      <td>0.521</td>\n",
              "      <td>0.816000</td>\n",
              "      <td>8</td>\n",
              "      <td>0.1120</td>\n",
              "      <td>-14.835</td>\n",
              "      <td>0</td>\n",
              "      <td>0.0444</td>\n",
              "      <td>119.879</td>\n",
              "      <td>4</td>\n",
              "      <td>0.143</td>\n",
              "    </tr>\n",
              "    <tr>\n",
              "      <th>1</th>\n",
              "      <td>0.192</td>\n",
              "      <td>0.714</td>\n",
              "      <td>207019</td>\n",
              "      <td>0.614</td>\n",
              "      <td>0.000000</td>\n",
              "      <td>4</td>\n",
              "      <td>0.2630</td>\n",
              "      <td>-6.935</td>\n",
              "      <td>1</td>\n",
              "      <td>0.0319</td>\n",
              "      <td>123.969</td>\n",
              "      <td>4</td>\n",
              "      <td>0.582</td>\n",
              "    </tr>\n",
              "    <tr>\n",
              "      <th>2</th>\n",
              "      <td>0.333</td>\n",
              "      <td>0.630</td>\n",
              "      <td>216200</td>\n",
              "      <td>0.455</td>\n",
              "      <td>0.000004</td>\n",
              "      <td>5</td>\n",
              "      <td>0.1270</td>\n",
              "      <td>-9.290</td>\n",
              "      <td>1</td>\n",
              "      <td>0.0292</td>\n",
              "      <td>139.931</td>\n",
              "      <td>4</td>\n",
              "      <td>0.199</td>\n",
              "    </tr>\n",
              "    <tr>\n",
              "      <th>3</th>\n",
              "      <td>0.601</td>\n",
              "      <td>0.810</td>\n",
              "      <td>136413</td>\n",
              "      <td>0.221</td>\n",
              "      <td>0.210000</td>\n",
              "      <td>5</td>\n",
              "      <td>0.1840</td>\n",
              "      <td>-11.005</td>\n",
              "      <td>1</td>\n",
              "      <td>0.0429</td>\n",
              "      <td>109.960</td>\n",
              "      <td>4</td>\n",
              "      <td>0.798</td>\n",
              "    </tr>\n",
              "    <tr>\n",
              "      <th>4</th>\n",
              "      <td>0.883</td>\n",
              "      <td>0.465</td>\n",
              "      <td>181440</td>\n",
              "      <td>0.459</td>\n",
              "      <td>0.000173</td>\n",
              "      <td>6</td>\n",
              "      <td>0.0692</td>\n",
              "      <td>-8.137</td>\n",
              "      <td>0</td>\n",
              "      <td>0.0351</td>\n",
              "      <td>90.807</td>\n",
              "      <td>4</td>\n",
              "      <td>0.288</td>\n",
              "    </tr>\n",
              "  </tbody>\n",
              "</table>\n",
              "</div>\n",
              "    <div class=\"colab-df-buttons\">\n",
              "\n",
              "  <div class=\"colab-df-container\">\n",
              "    <button class=\"colab-df-convert\" onclick=\"convertToInteractive('df-ba2bc2dc-82b5-431b-b9e7-bc4351d4ce9b')\"\n",
              "            title=\"Convert this dataframe to an interactive table.\"\n",
              "            style=\"display:none;\">\n",
              "\n",
              "  <svg xmlns=\"http://www.w3.org/2000/svg\" height=\"24px\" viewBox=\"0 -960 960 960\">\n",
              "    <path d=\"M120-120v-720h720v720H120Zm60-500h600v-160H180v160Zm220 220h160v-160H400v160Zm0 220h160v-160H400v160ZM180-400h160v-160H180v160Zm440 0h160v-160H620v160ZM180-180h160v-160H180v160Zm440 0h160v-160H620v160Z\"/>\n",
              "  </svg>\n",
              "    </button>\n",
              "\n",
              "  <style>\n",
              "    .colab-df-container {\n",
              "      display:flex;\n",
              "      gap: 12px;\n",
              "    }\n",
              "\n",
              "    .colab-df-convert {\n",
              "      background-color: #E8F0FE;\n",
              "      border: none;\n",
              "      border-radius: 50%;\n",
              "      cursor: pointer;\n",
              "      display: none;\n",
              "      fill: #1967D2;\n",
              "      height: 32px;\n",
              "      padding: 0 0 0 0;\n",
              "      width: 32px;\n",
              "    }\n",
              "\n",
              "    .colab-df-convert:hover {\n",
              "      background-color: #E2EBFA;\n",
              "      box-shadow: 0px 1px 2px rgba(60, 64, 67, 0.3), 0px 1px 3px 1px rgba(60, 64, 67, 0.15);\n",
              "      fill: #174EA6;\n",
              "    }\n",
              "\n",
              "    .colab-df-buttons div {\n",
              "      margin-bottom: 4px;\n",
              "    }\n",
              "\n",
              "    [theme=dark] .colab-df-convert {\n",
              "      background-color: #3B4455;\n",
              "      fill: #D2E3FC;\n",
              "    }\n",
              "\n",
              "    [theme=dark] .colab-df-convert:hover {\n",
              "      background-color: #434B5C;\n",
              "      box-shadow: 0px 1px 3px 1px rgba(0, 0, 0, 0.15);\n",
              "      filter: drop-shadow(0px 1px 2px rgba(0, 0, 0, 0.3));\n",
              "      fill: #FFFFFF;\n",
              "    }\n",
              "  </style>\n",
              "\n",
              "    <script>\n",
              "      const buttonEl =\n",
              "        document.querySelector('#df-ba2bc2dc-82b5-431b-b9e7-bc4351d4ce9b button.colab-df-convert');\n",
              "      buttonEl.style.display =\n",
              "        google.colab.kernel.accessAllowed ? 'block' : 'none';\n",
              "\n",
              "      async function convertToInteractive(key) {\n",
              "        const element = document.querySelector('#df-ba2bc2dc-82b5-431b-b9e7-bc4351d4ce9b');\n",
              "        const dataTable =\n",
              "          await google.colab.kernel.invokeFunction('convertToInteractive',\n",
              "                                                    [key], {});\n",
              "        if (!dataTable) return;\n",
              "\n",
              "        const docLinkHtml = 'Like what you see? Visit the ' +\n",
              "          '<a target=\"_blank\" href=https://colab.research.google.com/notebooks/data_table.ipynb>data table notebook</a>'\n",
              "          + ' to learn more about interactive tables.';\n",
              "        element.innerHTML = '';\n",
              "        dataTable['output_type'] = 'display_data';\n",
              "        await google.colab.output.renderOutput(dataTable, element);\n",
              "        const docLink = document.createElement('div');\n",
              "        docLink.innerHTML = docLinkHtml;\n",
              "        element.appendChild(docLink);\n",
              "      }\n",
              "    </script>\n",
              "  </div>\n",
              "\n",
              "\n",
              "<div id=\"df-1e0555e1-3b21-4508-a52a-e01451f54d48\">\n",
              "  <button class=\"colab-df-quickchart\" onclick=\"quickchart('df-1e0555e1-3b21-4508-a52a-e01451f54d48')\"\n",
              "            title=\"Suggest charts\"\n",
              "            style=\"display:none;\">\n",
              "\n",
              "<svg xmlns=\"http://www.w3.org/2000/svg\" height=\"24px\"viewBox=\"0 0 24 24\"\n",
              "     width=\"24px\">\n",
              "    <g>\n",
              "        <path d=\"M19 3H5c-1.1 0-2 .9-2 2v14c0 1.1.9 2 2 2h14c1.1 0 2-.9 2-2V5c0-1.1-.9-2-2-2zM9 17H7v-7h2v7zm4 0h-2V7h2v10zm4 0h-2v-4h2v4z\"/>\n",
              "    </g>\n",
              "</svg>\n",
              "  </button>\n",
              "\n",
              "<style>\n",
              "  .colab-df-quickchart {\n",
              "      --bg-color: #E8F0FE;\n",
              "      --fill-color: #1967D2;\n",
              "      --hover-bg-color: #E2EBFA;\n",
              "      --hover-fill-color: #174EA6;\n",
              "      --disabled-fill-color: #AAA;\n",
              "      --disabled-bg-color: #DDD;\n",
              "  }\n",
              "\n",
              "  [theme=dark] .colab-df-quickchart {\n",
              "      --bg-color: #3B4455;\n",
              "      --fill-color: #D2E3FC;\n",
              "      --hover-bg-color: #434B5C;\n",
              "      --hover-fill-color: #FFFFFF;\n",
              "      --disabled-bg-color: #3B4455;\n",
              "      --disabled-fill-color: #666;\n",
              "  }\n",
              "\n",
              "  .colab-df-quickchart {\n",
              "    background-color: var(--bg-color);\n",
              "    border: none;\n",
              "    border-radius: 50%;\n",
              "    cursor: pointer;\n",
              "    display: none;\n",
              "    fill: var(--fill-color);\n",
              "    height: 32px;\n",
              "    padding: 0;\n",
              "    width: 32px;\n",
              "  }\n",
              "\n",
              "  .colab-df-quickchart:hover {\n",
              "    background-color: var(--hover-bg-color);\n",
              "    box-shadow: 0 1px 2px rgba(60, 64, 67, 0.3), 0 1px 3px 1px rgba(60, 64, 67, 0.15);\n",
              "    fill: var(--button-hover-fill-color);\n",
              "  }\n",
              "\n",
              "  .colab-df-quickchart-complete:disabled,\n",
              "  .colab-df-quickchart-complete:disabled:hover {\n",
              "    background-color: var(--disabled-bg-color);\n",
              "    fill: var(--disabled-fill-color);\n",
              "    box-shadow: none;\n",
              "  }\n",
              "\n",
              "  .colab-df-spinner {\n",
              "    border: 2px solid var(--fill-color);\n",
              "    border-color: transparent;\n",
              "    border-bottom-color: var(--fill-color);\n",
              "    animation:\n",
              "      spin 1s steps(1) infinite;\n",
              "  }\n",
              "\n",
              "  @keyframes spin {\n",
              "    0% {\n",
              "      border-color: transparent;\n",
              "      border-bottom-color: var(--fill-color);\n",
              "      border-left-color: var(--fill-color);\n",
              "    }\n",
              "    20% {\n",
              "      border-color: transparent;\n",
              "      border-left-color: var(--fill-color);\n",
              "      border-top-color: var(--fill-color);\n",
              "    }\n",
              "    30% {\n",
              "      border-color: transparent;\n",
              "      border-left-color: var(--fill-color);\n",
              "      border-top-color: var(--fill-color);\n",
              "      border-right-color: var(--fill-color);\n",
              "    }\n",
              "    40% {\n",
              "      border-color: transparent;\n",
              "      border-right-color: var(--fill-color);\n",
              "      border-top-color: var(--fill-color);\n",
              "    }\n",
              "    60% {\n",
              "      border-color: transparent;\n",
              "      border-right-color: var(--fill-color);\n",
              "    }\n",
              "    80% {\n",
              "      border-color: transparent;\n",
              "      border-right-color: var(--fill-color);\n",
              "      border-bottom-color: var(--fill-color);\n",
              "    }\n",
              "    90% {\n",
              "      border-color: transparent;\n",
              "      border-bottom-color: var(--fill-color);\n",
              "    }\n",
              "  }\n",
              "</style>\n",
              "\n",
              "  <script>\n",
              "    async function quickchart(key) {\n",
              "      const quickchartButtonEl =\n",
              "        document.querySelector('#' + key + ' button');\n",
              "      quickchartButtonEl.disabled = true;  // To prevent multiple clicks.\n",
              "      quickchartButtonEl.classList.add('colab-df-spinner');\n",
              "      try {\n",
              "        const charts = await google.colab.kernel.invokeFunction(\n",
              "            'suggestCharts', [key], {});\n",
              "      } catch (error) {\n",
              "        console.error('Error during call to suggestCharts:', error);\n",
              "      }\n",
              "      quickchartButtonEl.classList.remove('colab-df-spinner');\n",
              "      quickchartButtonEl.classList.add('colab-df-quickchart-complete');\n",
              "    }\n",
              "    (() => {\n",
              "      let quickchartButtonEl =\n",
              "        document.querySelector('#df-1e0555e1-3b21-4508-a52a-e01451f54d48 button');\n",
              "      quickchartButtonEl.style.display =\n",
              "        google.colab.kernel.accessAllowed ? 'block' : 'none';\n",
              "    })();\n",
              "  </script>\n",
              "</div>\n",
              "\n",
              "    </div>\n",
              "  </div>\n"
            ],
            "application/vnd.google.colaboratory.intrinsic+json": {
              "type": "dataframe",
              "variable_name": "df",
              "summary": "{\n  \"name\": \"df\",\n  \"rows\": 750,\n  \"fields\": [\n    {\n      \"column\": \"acousticness\",\n      \"properties\": {\n        \"dtype\": \"number\",\n        \"std\": 0.3384052776221886,\n        \"min\": 1.17e-06,\n        \"max\": 0.994,\n        \"num_unique_values\": 596,\n        \"samples\": [\n          0.885,\n          0.0322,\n          0.791\n        ],\n        \"semantic_type\": \"\",\n        \"description\": \"\"\n      }\n    },\n    {\n      \"column\": \"danceability\",\n      \"properties\": {\n        \"dtype\": \"number\",\n        \"std\": 0.172036411671512,\n        \"min\": 0.107,\n        \"max\": 0.986,\n        \"num_unique_values\": 458,\n        \"samples\": [\n          0.302,\n          0.407,\n          0.76\n        ],\n        \"semantic_type\": \"\",\n        \"description\": \"\"\n      }\n    },\n    {\n      \"column\": \"duration\",\n      \"properties\": {\n        \"dtype\": \"number\",\n        \"std\": 65587,\n        \"min\": 33840,\n        \"max\": 675360,\n        \"num_unique_values\": 717,\n        \"samples\": [\n          254510,\n          260670,\n          174785\n        ],\n        \"semantic_type\": \"\",\n        \"description\": \"\"\n      }\n    },\n    {\n      \"column\": \"energy\",\n      \"properties\": {\n        \"dtype\": \"number\",\n        \"std\": 0.25330130299281806,\n        \"min\": 0.00925,\n        \"max\": 0.995,\n        \"num_unique_values\": 502,\n        \"samples\": [\n          0.654,\n          0.497,\n          0.387\n        ],\n        \"semantic_type\": \"\",\n        \"description\": \"\"\n      }\n    },\n    {\n      \"column\": \"instrumentalness\",\n      \"properties\": {\n        \"dtype\": \"number\",\n        \"std\": 0.25992145476369927,\n        \"min\": 0.0,\n        \"max\": 0.967,\n        \"num_unique_values\": 431,\n        \"samples\": [\n          0.52,\n          3.13e-05,\n          1.67e-06\n        ],\n        \"semantic_type\": \"\",\n        \"description\": \"\"\n      }\n    },\n    {\n      \"column\": \"key\",\n      \"properties\": {\n        \"dtype\": \"number\",\n        \"std\": 3,\n        \"min\": 0,\n        \"max\": 11,\n        \"num_unique_values\": 12,\n        \"samples\": [\n          3,\n          11,\n          8\n        ],\n        \"semantic_type\": \"\",\n        \"description\": \"\"\n      }\n    },\n    {\n      \"column\": \"liveness\",\n      \"properties\": {\n        \"dtype\": \"number\",\n        \"std\": 0.1776086158691543,\n        \"min\": 0.024,\n        \"max\": 0.979,\n        \"num_unique_values\": 445,\n        \"samples\": [\n          0.0859,\n          0.0619,\n          0.0894\n        ],\n        \"semantic_type\": \"\",\n        \"description\": \"\"\n      }\n    },\n    {\n      \"column\": \"loudness\",\n      \"properties\": {\n        \"dtype\": \"number\",\n        \"std\": 5.039488426627019,\n        \"min\": -29.601,\n        \"max\": -0.533,\n        \"num_unique_values\": 710,\n        \"samples\": [\n          -7.254,\n          -20.153,\n          -7.795\n        ],\n        \"semantic_type\": \"\",\n        \"description\": \"\"\n      }\n    },\n    {\n      \"column\": \"mode\",\n      \"properties\": {\n        \"dtype\": \"number\",\n        \"std\": 0,\n        \"min\": 0,\n        \"max\": 1,\n        \"num_unique_values\": 2,\n        \"samples\": [\n          1,\n          0\n        ],\n        \"semantic_type\": \"\",\n        \"description\": \"\"\n      }\n    },\n    {\n      \"column\": \"speechiness\",\n      \"properties\": {\n        \"dtype\": \"number\",\n        \"std\": 0.10471451593989692,\n        \"min\": 0.0234,\n        \"max\": 0.721,\n        \"num_unique_values\": 457,\n        \"samples\": [\n          0.0455,\n          0.0311\n        ],\n        \"semantic_type\": \"\",\n        \"description\": \"\"\n      }\n    },\n    {\n      \"column\": \"tempo\",\n      \"properties\": {\n        \"dtype\": \"number\",\n        \"std\": 28.37811642083557,\n        \"min\": 55.747,\n        \"max\": 204.162,\n        \"num_unique_values\": 729,\n        \"samples\": [\n          138.211,\n          170.15\n        ],\n        \"semantic_type\": \"\",\n        \"description\": \"\"\n      }\n    },\n    {\n      \"column\": \"time_signature\",\n      \"properties\": {\n        \"dtype\": \"number\",\n        \"std\": 0,\n        \"min\": 1,\n        \"max\": 5,\n        \"num_unique_values\": 4,\n        \"samples\": [\n          3,\n          1\n        ],\n        \"semantic_type\": \"\",\n        \"description\": \"\"\n      }\n    },\n    {\n      \"column\": \"valence\",\n      \"properties\": {\n        \"dtype\": \"number\",\n        \"std\": 0.23961490066356228,\n        \"min\": 0.0332,\n        \"max\": 0.975,\n        \"num_unique_values\": 487,\n        \"samples\": [\n          0.498,\n          0.424\n        ],\n        \"semantic_type\": \"\",\n        \"description\": \"\"\n      }\n    }\n  ]\n}"
            }
          },
          "metadata": {},
          "execution_count": 11
        }
      ]
    },
    {
      "cell_type": "code",
      "source": [
        "df.tail()"
      ],
      "metadata": {
        "colab": {
          "base_uri": "https://localhost:8080/",
          "height": 206
        },
        "id": "tZg_PWZNQi4k",
        "outputId": "36368f44-7b77-4ef4-ea99-ebea5453084c"
      },
      "execution_count": 12,
      "outputs": [
        {
          "output_type": "execute_result",
          "data": {
            "text/plain": [
              "     acousticness  danceability  duration  energy  instrumentalness  key  \\\n",
              "745      0.000175         0.374    333827   0.943          0.000156    6   \n",
              "746      0.001970         0.487    213000   0.867          0.006020   10   \n",
              "747      0.916000         0.605    125867   0.314          0.000000    0   \n",
              "748      0.168000         0.700    249493   0.823          0.000028    3   \n",
              "749      0.015500         0.477    276720   0.776          0.003140    1   \n",
              "\n",
              "     liveness  loudness  mode  speechiness    tempo  time_signature  valence  \n",
              "745    0.1250    -4.108     0       0.0556  112.084               4    0.338  \n",
              "746    0.0968    -3.293     0       0.0543  160.048               4    0.403  \n",
              "747    0.3590    -7.631     1       0.0327  138.148               4    0.836  \n",
              "748    0.1220    -6.892     1       0.0373  144.060               4    0.745  \n",
              "749    0.2030    -5.056     1       0.0349  131.004               4    0.429  "
            ],
            "text/html": [
              "\n",
              "  <div id=\"df-20a4cdf7-2ac4-4068-92ef-2495a4fa5aed\" class=\"colab-df-container\">\n",
              "    <div>\n",
              "<style scoped>\n",
              "    .dataframe tbody tr th:only-of-type {\n",
              "        vertical-align: middle;\n",
              "    }\n",
              "\n",
              "    .dataframe tbody tr th {\n",
              "        vertical-align: top;\n",
              "    }\n",
              "\n",
              "    .dataframe thead th {\n",
              "        text-align: right;\n",
              "    }\n",
              "</style>\n",
              "<table border=\"1\" class=\"dataframe\">\n",
              "  <thead>\n",
              "    <tr style=\"text-align: right;\">\n",
              "      <th></th>\n",
              "      <th>acousticness</th>\n",
              "      <th>danceability</th>\n",
              "      <th>duration</th>\n",
              "      <th>energy</th>\n",
              "      <th>instrumentalness</th>\n",
              "      <th>key</th>\n",
              "      <th>liveness</th>\n",
              "      <th>loudness</th>\n",
              "      <th>mode</th>\n",
              "      <th>speechiness</th>\n",
              "      <th>tempo</th>\n",
              "      <th>time_signature</th>\n",
              "      <th>valence</th>\n",
              "    </tr>\n",
              "  </thead>\n",
              "  <tbody>\n",
              "    <tr>\n",
              "      <th>745</th>\n",
              "      <td>0.000175</td>\n",
              "      <td>0.374</td>\n",
              "      <td>333827</td>\n",
              "      <td>0.943</td>\n",
              "      <td>0.000156</td>\n",
              "      <td>6</td>\n",
              "      <td>0.1250</td>\n",
              "      <td>-4.108</td>\n",
              "      <td>0</td>\n",
              "      <td>0.0556</td>\n",
              "      <td>112.084</td>\n",
              "      <td>4</td>\n",
              "      <td>0.338</td>\n",
              "    </tr>\n",
              "    <tr>\n",
              "      <th>746</th>\n",
              "      <td>0.001970</td>\n",
              "      <td>0.487</td>\n",
              "      <td>213000</td>\n",
              "      <td>0.867</td>\n",
              "      <td>0.006020</td>\n",
              "      <td>10</td>\n",
              "      <td>0.0968</td>\n",
              "      <td>-3.293</td>\n",
              "      <td>0</td>\n",
              "      <td>0.0543</td>\n",
              "      <td>160.048</td>\n",
              "      <td>4</td>\n",
              "      <td>0.403</td>\n",
              "    </tr>\n",
              "    <tr>\n",
              "      <th>747</th>\n",
              "      <td>0.916000</td>\n",
              "      <td>0.605</td>\n",
              "      <td>125867</td>\n",
              "      <td>0.314</td>\n",
              "      <td>0.000000</td>\n",
              "      <td>0</td>\n",
              "      <td>0.3590</td>\n",
              "      <td>-7.631</td>\n",
              "      <td>1</td>\n",
              "      <td>0.0327</td>\n",
              "      <td>138.148</td>\n",
              "      <td>4</td>\n",
              "      <td>0.836</td>\n",
              "    </tr>\n",
              "    <tr>\n",
              "      <th>748</th>\n",
              "      <td>0.168000</td>\n",
              "      <td>0.700</td>\n",
              "      <td>249493</td>\n",
              "      <td>0.823</td>\n",
              "      <td>0.000028</td>\n",
              "      <td>3</td>\n",
              "      <td>0.1220</td>\n",
              "      <td>-6.892</td>\n",
              "      <td>1</td>\n",
              "      <td>0.0373</td>\n",
              "      <td>144.060</td>\n",
              "      <td>4</td>\n",
              "      <td>0.745</td>\n",
              "    </tr>\n",
              "    <tr>\n",
              "      <th>749</th>\n",
              "      <td>0.015500</td>\n",
              "      <td>0.477</td>\n",
              "      <td>276720</td>\n",
              "      <td>0.776</td>\n",
              "      <td>0.003140</td>\n",
              "      <td>1</td>\n",
              "      <td>0.2030</td>\n",
              "      <td>-5.056</td>\n",
              "      <td>1</td>\n",
              "      <td>0.0349</td>\n",
              "      <td>131.004</td>\n",
              "      <td>4</td>\n",
              "      <td>0.429</td>\n",
              "    </tr>\n",
              "  </tbody>\n",
              "</table>\n",
              "</div>\n",
              "    <div class=\"colab-df-buttons\">\n",
              "\n",
              "  <div class=\"colab-df-container\">\n",
              "    <button class=\"colab-df-convert\" onclick=\"convertToInteractive('df-20a4cdf7-2ac4-4068-92ef-2495a4fa5aed')\"\n",
              "            title=\"Convert this dataframe to an interactive table.\"\n",
              "            style=\"display:none;\">\n",
              "\n",
              "  <svg xmlns=\"http://www.w3.org/2000/svg\" height=\"24px\" viewBox=\"0 -960 960 960\">\n",
              "    <path d=\"M120-120v-720h720v720H120Zm60-500h600v-160H180v160Zm220 220h160v-160H400v160Zm0 220h160v-160H400v160ZM180-400h160v-160H180v160Zm440 0h160v-160H620v160ZM180-180h160v-160H180v160Zm440 0h160v-160H620v160Z\"/>\n",
              "  </svg>\n",
              "    </button>\n",
              "\n",
              "  <style>\n",
              "    .colab-df-container {\n",
              "      display:flex;\n",
              "      gap: 12px;\n",
              "    }\n",
              "\n",
              "    .colab-df-convert {\n",
              "      background-color: #E8F0FE;\n",
              "      border: none;\n",
              "      border-radius: 50%;\n",
              "      cursor: pointer;\n",
              "      display: none;\n",
              "      fill: #1967D2;\n",
              "      height: 32px;\n",
              "      padding: 0 0 0 0;\n",
              "      width: 32px;\n",
              "    }\n",
              "\n",
              "    .colab-df-convert:hover {\n",
              "      background-color: #E2EBFA;\n",
              "      box-shadow: 0px 1px 2px rgba(60, 64, 67, 0.3), 0px 1px 3px 1px rgba(60, 64, 67, 0.15);\n",
              "      fill: #174EA6;\n",
              "    }\n",
              "\n",
              "    .colab-df-buttons div {\n",
              "      margin-bottom: 4px;\n",
              "    }\n",
              "\n",
              "    [theme=dark] .colab-df-convert {\n",
              "      background-color: #3B4455;\n",
              "      fill: #D2E3FC;\n",
              "    }\n",
              "\n",
              "    [theme=dark] .colab-df-convert:hover {\n",
              "      background-color: #434B5C;\n",
              "      box-shadow: 0px 1px 3px 1px rgba(0, 0, 0, 0.15);\n",
              "      filter: drop-shadow(0px 1px 2px rgba(0, 0, 0, 0.3));\n",
              "      fill: #FFFFFF;\n",
              "    }\n",
              "  </style>\n",
              "\n",
              "    <script>\n",
              "      const buttonEl =\n",
              "        document.querySelector('#df-20a4cdf7-2ac4-4068-92ef-2495a4fa5aed button.colab-df-convert');\n",
              "      buttonEl.style.display =\n",
              "        google.colab.kernel.accessAllowed ? 'block' : 'none';\n",
              "\n",
              "      async function convertToInteractive(key) {\n",
              "        const element = document.querySelector('#df-20a4cdf7-2ac4-4068-92ef-2495a4fa5aed');\n",
              "        const dataTable =\n",
              "          await google.colab.kernel.invokeFunction('convertToInteractive',\n",
              "                                                    [key], {});\n",
              "        if (!dataTable) return;\n",
              "\n",
              "        const docLinkHtml = 'Like what you see? Visit the ' +\n",
              "          '<a target=\"_blank\" href=https://colab.research.google.com/notebooks/data_table.ipynb>data table notebook</a>'\n",
              "          + ' to learn more about interactive tables.';\n",
              "        element.innerHTML = '';\n",
              "        dataTable['output_type'] = 'display_data';\n",
              "        await google.colab.output.renderOutput(dataTable, element);\n",
              "        const docLink = document.createElement('div');\n",
              "        docLink.innerHTML = docLinkHtml;\n",
              "        element.appendChild(docLink);\n",
              "      }\n",
              "    </script>\n",
              "  </div>\n",
              "\n",
              "\n",
              "<div id=\"df-ee71405f-09f2-4ffe-a2ce-4b492edc2a5c\">\n",
              "  <button class=\"colab-df-quickchart\" onclick=\"quickchart('df-ee71405f-09f2-4ffe-a2ce-4b492edc2a5c')\"\n",
              "            title=\"Suggest charts\"\n",
              "            style=\"display:none;\">\n",
              "\n",
              "<svg xmlns=\"http://www.w3.org/2000/svg\" height=\"24px\"viewBox=\"0 0 24 24\"\n",
              "     width=\"24px\">\n",
              "    <g>\n",
              "        <path d=\"M19 3H5c-1.1 0-2 .9-2 2v14c0 1.1.9 2 2 2h14c1.1 0 2-.9 2-2V5c0-1.1-.9-2-2-2zM9 17H7v-7h2v7zm4 0h-2V7h2v10zm4 0h-2v-4h2v4z\"/>\n",
              "    </g>\n",
              "</svg>\n",
              "  </button>\n",
              "\n",
              "<style>\n",
              "  .colab-df-quickchart {\n",
              "      --bg-color: #E8F0FE;\n",
              "      --fill-color: #1967D2;\n",
              "      --hover-bg-color: #E2EBFA;\n",
              "      --hover-fill-color: #174EA6;\n",
              "      --disabled-fill-color: #AAA;\n",
              "      --disabled-bg-color: #DDD;\n",
              "  }\n",
              "\n",
              "  [theme=dark] .colab-df-quickchart {\n",
              "      --bg-color: #3B4455;\n",
              "      --fill-color: #D2E3FC;\n",
              "      --hover-bg-color: #434B5C;\n",
              "      --hover-fill-color: #FFFFFF;\n",
              "      --disabled-bg-color: #3B4455;\n",
              "      --disabled-fill-color: #666;\n",
              "  }\n",
              "\n",
              "  .colab-df-quickchart {\n",
              "    background-color: var(--bg-color);\n",
              "    border: none;\n",
              "    border-radius: 50%;\n",
              "    cursor: pointer;\n",
              "    display: none;\n",
              "    fill: var(--fill-color);\n",
              "    height: 32px;\n",
              "    padding: 0;\n",
              "    width: 32px;\n",
              "  }\n",
              "\n",
              "  .colab-df-quickchart:hover {\n",
              "    background-color: var(--hover-bg-color);\n",
              "    box-shadow: 0 1px 2px rgba(60, 64, 67, 0.3), 0 1px 3px 1px rgba(60, 64, 67, 0.15);\n",
              "    fill: var(--button-hover-fill-color);\n",
              "  }\n",
              "\n",
              "  .colab-df-quickchart-complete:disabled,\n",
              "  .colab-df-quickchart-complete:disabled:hover {\n",
              "    background-color: var(--disabled-bg-color);\n",
              "    fill: var(--disabled-fill-color);\n",
              "    box-shadow: none;\n",
              "  }\n",
              "\n",
              "  .colab-df-spinner {\n",
              "    border: 2px solid var(--fill-color);\n",
              "    border-color: transparent;\n",
              "    border-bottom-color: var(--fill-color);\n",
              "    animation:\n",
              "      spin 1s steps(1) infinite;\n",
              "  }\n",
              "\n",
              "  @keyframes spin {\n",
              "    0% {\n",
              "      border-color: transparent;\n",
              "      border-bottom-color: var(--fill-color);\n",
              "      border-left-color: var(--fill-color);\n",
              "    }\n",
              "    20% {\n",
              "      border-color: transparent;\n",
              "      border-left-color: var(--fill-color);\n",
              "      border-top-color: var(--fill-color);\n",
              "    }\n",
              "    30% {\n",
              "      border-color: transparent;\n",
              "      border-left-color: var(--fill-color);\n",
              "      border-top-color: var(--fill-color);\n",
              "      border-right-color: var(--fill-color);\n",
              "    }\n",
              "    40% {\n",
              "      border-color: transparent;\n",
              "      border-right-color: var(--fill-color);\n",
              "      border-top-color: var(--fill-color);\n",
              "    }\n",
              "    60% {\n",
              "      border-color: transparent;\n",
              "      border-right-color: var(--fill-color);\n",
              "    }\n",
              "    80% {\n",
              "      border-color: transparent;\n",
              "      border-right-color: var(--fill-color);\n",
              "      border-bottom-color: var(--fill-color);\n",
              "    }\n",
              "    90% {\n",
              "      border-color: transparent;\n",
              "      border-bottom-color: var(--fill-color);\n",
              "    }\n",
              "  }\n",
              "</style>\n",
              "\n",
              "  <script>\n",
              "    async function quickchart(key) {\n",
              "      const quickchartButtonEl =\n",
              "        document.querySelector('#' + key + ' button');\n",
              "      quickchartButtonEl.disabled = true;  // To prevent multiple clicks.\n",
              "      quickchartButtonEl.classList.add('colab-df-spinner');\n",
              "      try {\n",
              "        const charts = await google.colab.kernel.invokeFunction(\n",
              "            'suggestCharts', [key], {});\n",
              "      } catch (error) {\n",
              "        console.error('Error during call to suggestCharts:', error);\n",
              "      }\n",
              "      quickchartButtonEl.classList.remove('colab-df-spinner');\n",
              "      quickchartButtonEl.classList.add('colab-df-quickchart-complete');\n",
              "    }\n",
              "    (() => {\n",
              "      let quickchartButtonEl =\n",
              "        document.querySelector('#df-ee71405f-09f2-4ffe-a2ce-4b492edc2a5c button');\n",
              "      quickchartButtonEl.style.display =\n",
              "        google.colab.kernel.accessAllowed ? 'block' : 'none';\n",
              "    })();\n",
              "  </script>\n",
              "</div>\n",
              "\n",
              "    </div>\n",
              "  </div>\n"
            ],
            "application/vnd.google.colaboratory.intrinsic+json": {
              "type": "dataframe",
              "summary": "{\n  \"name\": \"df\",\n  \"rows\": 5,\n  \"fields\": [\n    {\n      \"column\": \"acousticness\",\n      \"properties\": {\n        \"dtype\": \"number\",\n        \"std\": 0.39522140007848766,\n        \"min\": 0.000175,\n        \"max\": 0.916,\n        \"num_unique_values\": 5,\n        \"samples\": [\n          0.00197,\n          0.0155,\n          0.916\n        ],\n        \"semantic_type\": \"\",\n        \"description\": \"\"\n      }\n    },\n    {\n      \"column\": \"danceability\",\n      \"properties\": {\n        \"dtype\": \"number\",\n        \"std\": 0.12600515862455788,\n        \"min\": 0.374,\n        \"max\": 0.7,\n        \"num_unique_values\": 5,\n        \"samples\": [\n          0.487,\n          0.477,\n          0.605\n        ],\n        \"semantic_type\": \"\",\n        \"description\": \"\"\n      }\n    },\n    {\n      \"column\": \"duration\",\n      \"properties\": {\n        \"dtype\": \"number\",\n        \"std\": 77454,\n        \"min\": 125867,\n        \"max\": 333827,\n        \"num_unique_values\": 5,\n        \"samples\": [\n          213000,\n          276720,\n          125867\n        ],\n        \"semantic_type\": \"\",\n        \"description\": \"\"\n      }\n    },\n    {\n      \"column\": \"energy\",\n      \"properties\": {\n        \"dtype\": \"number\",\n        \"std\": 0.24844174367444774,\n        \"min\": 0.314,\n        \"max\": 0.943,\n        \"num_unique_values\": 5,\n        \"samples\": [\n          0.867,\n          0.776,\n          0.314\n        ],\n        \"semantic_type\": \"\",\n        \"description\": \"\"\n      }\n    },\n    {\n      \"column\": \"instrumentalness\",\n      \"properties\": {\n        \"dtype\": \"number\",\n        \"std\": 0.0026768771286706456,\n        \"min\": 0.0,\n        \"max\": 0.00602,\n        \"num_unique_values\": 5,\n        \"samples\": [\n          0.00602,\n          0.00314,\n          0.0\n        ],\n        \"semantic_type\": \"\",\n        \"description\": \"\"\n      }\n    },\n    {\n      \"column\": \"key\",\n      \"properties\": {\n        \"dtype\": \"number\",\n        \"std\": 4,\n        \"min\": 0,\n        \"max\": 10,\n        \"num_unique_values\": 5,\n        \"samples\": [\n          10,\n          1,\n          0\n        ],\n        \"semantic_type\": \"\",\n        \"description\": \"\"\n      }\n    },\n    {\n      \"column\": \"liveness\",\n      \"properties\": {\n        \"dtype\": \"number\",\n        \"std\": 0.10709168034912889,\n        \"min\": 0.0968,\n        \"max\": 0.359,\n        \"num_unique_values\": 5,\n        \"samples\": [\n          0.0968,\n          0.203,\n          0.359\n        ],\n        \"semantic_type\": \"\",\n        \"description\": \"\"\n      }\n    },\n    {\n      \"column\": \"loudness\",\n      \"properties\": {\n        \"dtype\": \"number\",\n        \"std\": 1.8323750980626212,\n        \"min\": -7.631,\n        \"max\": -3.293,\n        \"num_unique_values\": 5,\n        \"samples\": [\n          -3.293,\n          -5.056,\n          -7.631\n        ],\n        \"semantic_type\": \"\",\n        \"description\": \"\"\n      }\n    },\n    {\n      \"column\": \"mode\",\n      \"properties\": {\n        \"dtype\": \"number\",\n        \"std\": 0,\n        \"min\": 0,\n        \"max\": 1,\n        \"num_unique_values\": 2,\n        \"samples\": [\n          1,\n          0\n        ],\n        \"semantic_type\": \"\",\n        \"description\": \"\"\n      }\n    },\n    {\n      \"column\": \"speechiness\",\n      \"properties\": {\n        \"dtype\": \"number\",\n        \"std\": 0.011075107222957256,\n        \"min\": 0.0327,\n        \"max\": 0.0556,\n        \"num_unique_values\": 5,\n        \"samples\": [\n          0.0543,\n          0.0349\n        ],\n        \"semantic_type\": \"\",\n        \"description\": \"\"\n      }\n    },\n    {\n      \"column\": \"tempo\",\n      \"properties\": {\n        \"dtype\": \"number\",\n        \"std\": 17.600477357162788,\n        \"min\": 112.084,\n        \"max\": 160.048,\n        \"num_unique_values\": 5,\n        \"samples\": [\n          160.048,\n          131.004\n        ],\n        \"semantic_type\": \"\",\n        \"description\": \"\"\n      }\n    },\n    {\n      \"column\": \"time_signature\",\n      \"properties\": {\n        \"dtype\": \"number\",\n        \"std\": 0,\n        \"min\": 4,\n        \"max\": 4,\n        \"num_unique_values\": 1,\n        \"samples\": [\n          4\n        ],\n        \"semantic_type\": \"\",\n        \"description\": \"\"\n      }\n    },\n    {\n      \"column\": \"valence\",\n      \"properties\": {\n        \"dtype\": \"number\",\n        \"std\": 0.22417337040781626,\n        \"min\": 0.338,\n        \"max\": 0.836,\n        \"num_unique_values\": 5,\n        \"samples\": [\n          0.403\n        ],\n        \"semantic_type\": \"\",\n        \"description\": \"\"\n      }\n    }\n  ]\n}"
            }
          },
          "metadata": {},
          "execution_count": 12
        }
      ]
    },
    {
      "cell_type": "markdown",
      "source": [
        "## Lista variables categoricas"
      ],
      "metadata": {
        "id": "OSD44swsRVQ0"
      }
    },
    {
      "cell_type": "markdown",
      "source": [
        "> ToDo: Revisar que variables podrian ser categoricas"
      ],
      "metadata": {
        "id": "8umY-NWiRvyu"
      }
    },
    {
      "cell_type": "code",
      "source": [
        "variables_categoricas = []"
      ],
      "metadata": {
        "id": "NYHSyt2ERWWo"
      },
      "execution_count": 13,
      "outputs": []
    },
    {
      "cell_type": "markdown",
      "source": [],
      "metadata": {
        "id": "JESzA1stRYjw"
      }
    },
    {
      "cell_type": "markdown",
      "source": [
        "## Lista variables Numericas"
      ],
      "metadata": {
        "id": "0f_iUh3VRrqE"
      }
    },
    {
      "cell_type": "code",
      "source": [
        "variables_numericas = [variable for variable in variables if variable not in variables_categoricas]\n",
        "variables_numericas"
      ],
      "metadata": {
        "colab": {
          "base_uri": "https://localhost:8080/"
        },
        "id": "Ntqel9TORsgl",
        "outputId": "cc52d162-7713-441e-c57f-bbb0b90522c3"
      },
      "execution_count": 14,
      "outputs": [
        {
          "output_type": "execute_result",
          "data": {
            "text/plain": [
              "['acousticness',\n",
              " 'danceability',\n",
              " 'duration',\n",
              " 'energy',\n",
              " 'instrumentalness',\n",
              " 'key',\n",
              " 'liveness',\n",
              " 'loudness',\n",
              " 'mode',\n",
              " 'speechiness',\n",
              " 'tempo',\n",
              " 'time_signature',\n",
              " 'valence']"
            ]
          },
          "metadata": {},
          "execution_count": 14
        }
      ]
    },
    {
      "cell_type": "markdown",
      "source": [
        "## Estadisticos de variables numericas"
      ],
      "metadata": {
        "id": "NIvxaTKIR7n2"
      }
    },
    {
      "cell_type": "code",
      "source": [
        "df.describe()"
      ],
      "metadata": {
        "colab": {
          "base_uri": "https://localhost:8080/",
          "height": 300
        },
        "id": "LpTN1XJqR8dO",
        "outputId": "f537f0d5-1bba-4513-d6a1-d277a5e7d293"
      },
      "execution_count": 15,
      "outputs": [
        {
          "output_type": "execute_result",
          "data": {
            "text/plain": [
              "       acousticness  danceability       duration      energy  \\\n",
              "count    750.000000    750.000000     750.000000  750.000000   \n",
              "mean       0.357394      0.596439  220112.733333    0.594188   \n",
              "std        0.338405      0.172036   65587.690483    0.253301   \n",
              "min        0.000001      0.107000   33840.000000    0.009250   \n",
              "25%        0.037150      0.480000  185490.250000    0.423250   \n",
              "50%        0.244500      0.606000  215108.500000    0.631500   \n",
              "75%        0.678500      0.715750  244236.750000    0.804750   \n",
              "max        0.994000      0.986000  675360.000000    0.995000   \n",
              "\n",
              "       instrumentalness         key    liveness    loudness        mode  \\\n",
              "count        750.000000  750.000000  750.000000  750.000000  750.000000   \n",
              "mean           0.100245    4.829333    0.203376   -8.509339    0.741333   \n",
              "std            0.259921    3.636001    0.177609    5.039488    0.438194   \n",
              "min            0.000000    0.000000    0.024000  -29.601000    0.000000   \n",
              "25%            0.000000    1.000000    0.094550  -10.173500    0.000000   \n",
              "50%            0.000010    5.000000    0.129000   -7.270000    1.000000   \n",
              "75%            0.002245    8.000000    0.264750   -5.097750    1.000000   \n",
              "max            0.967000   11.000000    0.979000   -0.533000    1.000000   \n",
              "\n",
              "       speechiness       tempo  time_signature     valence  \n",
              "count   750.000000  750.000000      750.000000  750.000000  \n",
              "mean      0.098966  120.405761        3.902667    0.497321  \n",
              "std       0.104715   28.378116        0.400091    0.239615  \n",
              "min       0.023400   55.747000        1.000000    0.033200  \n",
              "25%       0.035900   98.998000        4.000000    0.297000  \n",
              "50%       0.048750  120.104500        4.000000    0.483000  \n",
              "75%       0.113000  138.074750        4.000000    0.684500  \n",
              "max       0.721000  204.162000        5.000000    0.975000  "
            ],
            "text/html": [
              "\n",
              "  <div id=\"df-e2487c69-c904-4e90-8e86-52557e7eecdb\" class=\"colab-df-container\">\n",
              "    <div>\n",
              "<style scoped>\n",
              "    .dataframe tbody tr th:only-of-type {\n",
              "        vertical-align: middle;\n",
              "    }\n",
              "\n",
              "    .dataframe tbody tr th {\n",
              "        vertical-align: top;\n",
              "    }\n",
              "\n",
              "    .dataframe thead th {\n",
              "        text-align: right;\n",
              "    }\n",
              "</style>\n",
              "<table border=\"1\" class=\"dataframe\">\n",
              "  <thead>\n",
              "    <tr style=\"text-align: right;\">\n",
              "      <th></th>\n",
              "      <th>acousticness</th>\n",
              "      <th>danceability</th>\n",
              "      <th>duration</th>\n",
              "      <th>energy</th>\n",
              "      <th>instrumentalness</th>\n",
              "      <th>key</th>\n",
              "      <th>liveness</th>\n",
              "      <th>loudness</th>\n",
              "      <th>mode</th>\n",
              "      <th>speechiness</th>\n",
              "      <th>tempo</th>\n",
              "      <th>time_signature</th>\n",
              "      <th>valence</th>\n",
              "    </tr>\n",
              "  </thead>\n",
              "  <tbody>\n",
              "    <tr>\n",
              "      <th>count</th>\n",
              "      <td>750.000000</td>\n",
              "      <td>750.000000</td>\n",
              "      <td>750.000000</td>\n",
              "      <td>750.000000</td>\n",
              "      <td>750.000000</td>\n",
              "      <td>750.000000</td>\n",
              "      <td>750.000000</td>\n",
              "      <td>750.000000</td>\n",
              "      <td>750.000000</td>\n",
              "      <td>750.000000</td>\n",
              "      <td>750.000000</td>\n",
              "      <td>750.000000</td>\n",
              "      <td>750.000000</td>\n",
              "    </tr>\n",
              "    <tr>\n",
              "      <th>mean</th>\n",
              "      <td>0.357394</td>\n",
              "      <td>0.596439</td>\n",
              "      <td>220112.733333</td>\n",
              "      <td>0.594188</td>\n",
              "      <td>0.100245</td>\n",
              "      <td>4.829333</td>\n",
              "      <td>0.203376</td>\n",
              "      <td>-8.509339</td>\n",
              "      <td>0.741333</td>\n",
              "      <td>0.098966</td>\n",
              "      <td>120.405761</td>\n",
              "      <td>3.902667</td>\n",
              "      <td>0.497321</td>\n",
              "    </tr>\n",
              "    <tr>\n",
              "      <th>std</th>\n",
              "      <td>0.338405</td>\n",
              "      <td>0.172036</td>\n",
              "      <td>65587.690483</td>\n",
              "      <td>0.253301</td>\n",
              "      <td>0.259921</td>\n",
              "      <td>3.636001</td>\n",
              "      <td>0.177609</td>\n",
              "      <td>5.039488</td>\n",
              "      <td>0.438194</td>\n",
              "      <td>0.104715</td>\n",
              "      <td>28.378116</td>\n",
              "      <td>0.400091</td>\n",
              "      <td>0.239615</td>\n",
              "    </tr>\n",
              "    <tr>\n",
              "      <th>min</th>\n",
              "      <td>0.000001</td>\n",
              "      <td>0.107000</td>\n",
              "      <td>33840.000000</td>\n",
              "      <td>0.009250</td>\n",
              "      <td>0.000000</td>\n",
              "      <td>0.000000</td>\n",
              "      <td>0.024000</td>\n",
              "      <td>-29.601000</td>\n",
              "      <td>0.000000</td>\n",
              "      <td>0.023400</td>\n",
              "      <td>55.747000</td>\n",
              "      <td>1.000000</td>\n",
              "      <td>0.033200</td>\n",
              "    </tr>\n",
              "    <tr>\n",
              "      <th>25%</th>\n",
              "      <td>0.037150</td>\n",
              "      <td>0.480000</td>\n",
              "      <td>185490.250000</td>\n",
              "      <td>0.423250</td>\n",
              "      <td>0.000000</td>\n",
              "      <td>1.000000</td>\n",
              "      <td>0.094550</td>\n",
              "      <td>-10.173500</td>\n",
              "      <td>0.000000</td>\n",
              "      <td>0.035900</td>\n",
              "      <td>98.998000</td>\n",
              "      <td>4.000000</td>\n",
              "      <td>0.297000</td>\n",
              "    </tr>\n",
              "    <tr>\n",
              "      <th>50%</th>\n",
              "      <td>0.244500</td>\n",
              "      <td>0.606000</td>\n",
              "      <td>215108.500000</td>\n",
              "      <td>0.631500</td>\n",
              "      <td>0.000010</td>\n",
              "      <td>5.000000</td>\n",
              "      <td>0.129000</td>\n",
              "      <td>-7.270000</td>\n",
              "      <td>1.000000</td>\n",
              "      <td>0.048750</td>\n",
              "      <td>120.104500</td>\n",
              "      <td>4.000000</td>\n",
              "      <td>0.483000</td>\n",
              "    </tr>\n",
              "    <tr>\n",
              "      <th>75%</th>\n",
              "      <td>0.678500</td>\n",
              "      <td>0.715750</td>\n",
              "      <td>244236.750000</td>\n",
              "      <td>0.804750</td>\n",
              "      <td>0.002245</td>\n",
              "      <td>8.000000</td>\n",
              "      <td>0.264750</td>\n",
              "      <td>-5.097750</td>\n",
              "      <td>1.000000</td>\n",
              "      <td>0.113000</td>\n",
              "      <td>138.074750</td>\n",
              "      <td>4.000000</td>\n",
              "      <td>0.684500</td>\n",
              "    </tr>\n",
              "    <tr>\n",
              "      <th>max</th>\n",
              "      <td>0.994000</td>\n",
              "      <td>0.986000</td>\n",
              "      <td>675360.000000</td>\n",
              "      <td>0.995000</td>\n",
              "      <td>0.967000</td>\n",
              "      <td>11.000000</td>\n",
              "      <td>0.979000</td>\n",
              "      <td>-0.533000</td>\n",
              "      <td>1.000000</td>\n",
              "      <td>0.721000</td>\n",
              "      <td>204.162000</td>\n",
              "      <td>5.000000</td>\n",
              "      <td>0.975000</td>\n",
              "    </tr>\n",
              "  </tbody>\n",
              "</table>\n",
              "</div>\n",
              "    <div class=\"colab-df-buttons\">\n",
              "\n",
              "  <div class=\"colab-df-container\">\n",
              "    <button class=\"colab-df-convert\" onclick=\"convertToInteractive('df-e2487c69-c904-4e90-8e86-52557e7eecdb')\"\n",
              "            title=\"Convert this dataframe to an interactive table.\"\n",
              "            style=\"display:none;\">\n",
              "\n",
              "  <svg xmlns=\"http://www.w3.org/2000/svg\" height=\"24px\" viewBox=\"0 -960 960 960\">\n",
              "    <path d=\"M120-120v-720h720v720H120Zm60-500h600v-160H180v160Zm220 220h160v-160H400v160Zm0 220h160v-160H400v160ZM180-400h160v-160H180v160Zm440 0h160v-160H620v160ZM180-180h160v-160H180v160Zm440 0h160v-160H620v160Z\"/>\n",
              "  </svg>\n",
              "    </button>\n",
              "\n",
              "  <style>\n",
              "    .colab-df-container {\n",
              "      display:flex;\n",
              "      gap: 12px;\n",
              "    }\n",
              "\n",
              "    .colab-df-convert {\n",
              "      background-color: #E8F0FE;\n",
              "      border: none;\n",
              "      border-radius: 50%;\n",
              "      cursor: pointer;\n",
              "      display: none;\n",
              "      fill: #1967D2;\n",
              "      height: 32px;\n",
              "      padding: 0 0 0 0;\n",
              "      width: 32px;\n",
              "    }\n",
              "\n",
              "    .colab-df-convert:hover {\n",
              "      background-color: #E2EBFA;\n",
              "      box-shadow: 0px 1px 2px rgba(60, 64, 67, 0.3), 0px 1px 3px 1px rgba(60, 64, 67, 0.15);\n",
              "      fill: #174EA6;\n",
              "    }\n",
              "\n",
              "    .colab-df-buttons div {\n",
              "      margin-bottom: 4px;\n",
              "    }\n",
              "\n",
              "    [theme=dark] .colab-df-convert {\n",
              "      background-color: #3B4455;\n",
              "      fill: #D2E3FC;\n",
              "    }\n",
              "\n",
              "    [theme=dark] .colab-df-convert:hover {\n",
              "      background-color: #434B5C;\n",
              "      box-shadow: 0px 1px 3px 1px rgba(0, 0, 0, 0.15);\n",
              "      filter: drop-shadow(0px 1px 2px rgba(0, 0, 0, 0.3));\n",
              "      fill: #FFFFFF;\n",
              "    }\n",
              "  </style>\n",
              "\n",
              "    <script>\n",
              "      const buttonEl =\n",
              "        document.querySelector('#df-e2487c69-c904-4e90-8e86-52557e7eecdb button.colab-df-convert');\n",
              "      buttonEl.style.display =\n",
              "        google.colab.kernel.accessAllowed ? 'block' : 'none';\n",
              "\n",
              "      async function convertToInteractive(key) {\n",
              "        const element = document.querySelector('#df-e2487c69-c904-4e90-8e86-52557e7eecdb');\n",
              "        const dataTable =\n",
              "          await google.colab.kernel.invokeFunction('convertToInteractive',\n",
              "                                                    [key], {});\n",
              "        if (!dataTable) return;\n",
              "\n",
              "        const docLinkHtml = 'Like what you see? Visit the ' +\n",
              "          '<a target=\"_blank\" href=https://colab.research.google.com/notebooks/data_table.ipynb>data table notebook</a>'\n",
              "          + ' to learn more about interactive tables.';\n",
              "        element.innerHTML = '';\n",
              "        dataTable['output_type'] = 'display_data';\n",
              "        await google.colab.output.renderOutput(dataTable, element);\n",
              "        const docLink = document.createElement('div');\n",
              "        docLink.innerHTML = docLinkHtml;\n",
              "        element.appendChild(docLink);\n",
              "      }\n",
              "    </script>\n",
              "  </div>\n",
              "\n",
              "\n",
              "<div id=\"df-9c31660f-57c8-4abd-bdd0-daf4567f7fef\">\n",
              "  <button class=\"colab-df-quickchart\" onclick=\"quickchart('df-9c31660f-57c8-4abd-bdd0-daf4567f7fef')\"\n",
              "            title=\"Suggest charts\"\n",
              "            style=\"display:none;\">\n",
              "\n",
              "<svg xmlns=\"http://www.w3.org/2000/svg\" height=\"24px\"viewBox=\"0 0 24 24\"\n",
              "     width=\"24px\">\n",
              "    <g>\n",
              "        <path d=\"M19 3H5c-1.1 0-2 .9-2 2v14c0 1.1.9 2 2 2h14c1.1 0 2-.9 2-2V5c0-1.1-.9-2-2-2zM9 17H7v-7h2v7zm4 0h-2V7h2v10zm4 0h-2v-4h2v4z\"/>\n",
              "    </g>\n",
              "</svg>\n",
              "  </button>\n",
              "\n",
              "<style>\n",
              "  .colab-df-quickchart {\n",
              "      --bg-color: #E8F0FE;\n",
              "      --fill-color: #1967D2;\n",
              "      --hover-bg-color: #E2EBFA;\n",
              "      --hover-fill-color: #174EA6;\n",
              "      --disabled-fill-color: #AAA;\n",
              "      --disabled-bg-color: #DDD;\n",
              "  }\n",
              "\n",
              "  [theme=dark] .colab-df-quickchart {\n",
              "      --bg-color: #3B4455;\n",
              "      --fill-color: #D2E3FC;\n",
              "      --hover-bg-color: #434B5C;\n",
              "      --hover-fill-color: #FFFFFF;\n",
              "      --disabled-bg-color: #3B4455;\n",
              "      --disabled-fill-color: #666;\n",
              "  }\n",
              "\n",
              "  .colab-df-quickchart {\n",
              "    background-color: var(--bg-color);\n",
              "    border: none;\n",
              "    border-radius: 50%;\n",
              "    cursor: pointer;\n",
              "    display: none;\n",
              "    fill: var(--fill-color);\n",
              "    height: 32px;\n",
              "    padding: 0;\n",
              "    width: 32px;\n",
              "  }\n",
              "\n",
              "  .colab-df-quickchart:hover {\n",
              "    background-color: var(--hover-bg-color);\n",
              "    box-shadow: 0 1px 2px rgba(60, 64, 67, 0.3), 0 1px 3px 1px rgba(60, 64, 67, 0.15);\n",
              "    fill: var(--button-hover-fill-color);\n",
              "  }\n",
              "\n",
              "  .colab-df-quickchart-complete:disabled,\n",
              "  .colab-df-quickchart-complete:disabled:hover {\n",
              "    background-color: var(--disabled-bg-color);\n",
              "    fill: var(--disabled-fill-color);\n",
              "    box-shadow: none;\n",
              "  }\n",
              "\n",
              "  .colab-df-spinner {\n",
              "    border: 2px solid var(--fill-color);\n",
              "    border-color: transparent;\n",
              "    border-bottom-color: var(--fill-color);\n",
              "    animation:\n",
              "      spin 1s steps(1) infinite;\n",
              "  }\n",
              "\n",
              "  @keyframes spin {\n",
              "    0% {\n",
              "      border-color: transparent;\n",
              "      border-bottom-color: var(--fill-color);\n",
              "      border-left-color: var(--fill-color);\n",
              "    }\n",
              "    20% {\n",
              "      border-color: transparent;\n",
              "      border-left-color: var(--fill-color);\n",
              "      border-top-color: var(--fill-color);\n",
              "    }\n",
              "    30% {\n",
              "      border-color: transparent;\n",
              "      border-left-color: var(--fill-color);\n",
              "      border-top-color: var(--fill-color);\n",
              "      border-right-color: var(--fill-color);\n",
              "    }\n",
              "    40% {\n",
              "      border-color: transparent;\n",
              "      border-right-color: var(--fill-color);\n",
              "      border-top-color: var(--fill-color);\n",
              "    }\n",
              "    60% {\n",
              "      border-color: transparent;\n",
              "      border-right-color: var(--fill-color);\n",
              "    }\n",
              "    80% {\n",
              "      border-color: transparent;\n",
              "      border-right-color: var(--fill-color);\n",
              "      border-bottom-color: var(--fill-color);\n",
              "    }\n",
              "    90% {\n",
              "      border-color: transparent;\n",
              "      border-bottom-color: var(--fill-color);\n",
              "    }\n",
              "  }\n",
              "</style>\n",
              "\n",
              "  <script>\n",
              "    async function quickchart(key) {\n",
              "      const quickchartButtonEl =\n",
              "        document.querySelector('#' + key + ' button');\n",
              "      quickchartButtonEl.disabled = true;  // To prevent multiple clicks.\n",
              "      quickchartButtonEl.classList.add('colab-df-spinner');\n",
              "      try {\n",
              "        const charts = await google.colab.kernel.invokeFunction(\n",
              "            'suggestCharts', [key], {});\n",
              "      } catch (error) {\n",
              "        console.error('Error during call to suggestCharts:', error);\n",
              "      }\n",
              "      quickchartButtonEl.classList.remove('colab-df-spinner');\n",
              "      quickchartButtonEl.classList.add('colab-df-quickchart-complete');\n",
              "    }\n",
              "    (() => {\n",
              "      let quickchartButtonEl =\n",
              "        document.querySelector('#df-9c31660f-57c8-4abd-bdd0-daf4567f7fef button');\n",
              "      quickchartButtonEl.style.display =\n",
              "        google.colab.kernel.accessAllowed ? 'block' : 'none';\n",
              "    })();\n",
              "  </script>\n",
              "</div>\n",
              "\n",
              "    </div>\n",
              "  </div>\n"
            ],
            "application/vnd.google.colaboratory.intrinsic+json": {
              "type": "dataframe",
              "summary": "{\n  \"name\": \"df\",\n  \"rows\": 8,\n  \"fields\": [\n    {\n      \"column\": \"acousticness\",\n      \"properties\": {\n        \"dtype\": \"number\",\n        \"std\": 265.0314019901769,\n        \"min\": 1.17e-06,\n        \"max\": 750.0,\n        \"num_unique_values\": 8,\n        \"samples\": [\n          0.35739417323999995,\n          0.2445,\n          750.0\n        ],\n        \"semantic_type\": \"\",\n        \"description\": \"\"\n      }\n    },\n    {\n      \"column\": \"danceability\",\n      \"properties\": {\n        \"dtype\": \"number\",\n        \"std\": 264.98017360071015,\n        \"min\": 0.107,\n        \"max\": 750.0,\n        \"num_unique_values\": 8,\n        \"samples\": [\n          0.5964386666666667,\n          0.606,\n          750.0\n        ],\n        \"semantic_type\": \"\",\n        \"description\": \"\"\n      }\n    },\n    {\n      \"column\": \"duration\",\n      \"properties\": {\n        \"dtype\": \"number\",\n        \"std\": 211774.4182602735,\n        \"min\": 750.0,\n        \"max\": 675360.0,\n        \"num_unique_values\": 8,\n        \"samples\": [\n          220112.73333333334,\n          215108.5,\n          750.0\n        ],\n        \"semantic_type\": \"\",\n        \"description\": \"\"\n      }\n    },\n    {\n      \"column\": \"energy\",\n      \"properties\": {\n        \"dtype\": \"number\",\n        \"std\": 264.9777763910165,\n        \"min\": 0.00925,\n        \"max\": 750.0,\n        \"num_unique_values\": 8,\n        \"samples\": [\n          0.5941879333333333,\n          0.6315,\n          750.0\n        ],\n        \"semantic_type\": \"\",\n        \"description\": \"\"\n      }\n    },\n    {\n      \"column\": \"instrumentalness\",\n      \"properties\": {\n        \"dtype\": \"number\",\n        \"std\": 265.0981018568321,\n        \"min\": 0.0,\n        \"max\": 750.0,\n        \"num_unique_values\": 7,\n        \"samples\": [\n          750.0,\n          0.10024481392,\n          0.002245\n        ],\n        \"semantic_type\": \"\",\n        \"description\": \"\"\n      }\n    },\n    {\n      \"column\": \"key\",\n      \"properties\": {\n        \"dtype\": \"number\",\n        \"std\": 263.4985231132499,\n        \"min\": 0.0,\n        \"max\": 750.0,\n        \"num_unique_values\": 8,\n        \"samples\": [\n          4.8293333333333335,\n          5.0,\n          750.0\n        ],\n        \"semantic_type\": \"\",\n        \"description\": \"\"\n      }\n    },\n    {\n      \"column\": \"liveness\",\n      \"properties\": {\n        \"dtype\": \"number\",\n        \"std\": 265.0706471935329,\n        \"min\": 0.024,\n        \"max\": 750.0,\n        \"num_unique_values\": 8,\n        \"samples\": [\n          0.20337613333333332,\n          0.129,\n          750.0\n        ],\n        \"semantic_type\": \"\",\n        \"description\": \"\"\n      }\n    },\n    {\n      \"column\": \"loudness\",\n      \"properties\": {\n        \"dtype\": \"number\",\n        \"std\": 268.1889847784169,\n        \"min\": -29.601,\n        \"max\": 750.0,\n        \"num_unique_values\": 8,\n        \"samples\": [\n          -8.509338666666668,\n          -7.27,\n          750.0\n        ],\n        \"semantic_type\": \"\",\n        \"description\": \"\"\n      }\n    },\n    {\n      \"column\": \"mode\",\n      \"properties\": {\n        \"dtype\": \"number\",\n        \"std\": 264.9542808546455,\n        \"min\": 0.0,\n        \"max\": 750.0,\n        \"num_unique_values\": 5,\n        \"samples\": [\n          0.7413333333333333,\n          1.0,\n          0.43819429618663935\n        ],\n        \"semantic_type\": \"\",\n        \"description\": \"\"\n      }\n    },\n    {\n      \"column\": \"speechiness\",\n      \"properties\": {\n        \"dtype\": \"number\",\n        \"std\": 265.10727450634215,\n        \"min\": 0.0234,\n        \"max\": 750.0,\n        \"num_unique_values\": 8,\n        \"samples\": [\n          0.09896626666666668,\n          0.04875,\n          750.0\n        ],\n        \"semantic_type\": \"\",\n        \"description\": \"\"\n      }\n    },\n    {\n      \"column\": \"tempo\",\n      \"properties\": {\n        \"dtype\": \"number\",\n        \"std\": 232.57879343552946,\n        \"min\": 28.37811642083557,\n        \"max\": 750.0,\n        \"num_unique_values\": 8,\n        \"samples\": [\n          120.40576133333333,\n          120.1045,\n          750.0\n        ],\n        \"semantic_type\": \"\",\n        \"description\": \"\"\n      }\n    },\n    {\n      \"column\": \"time_signature\",\n      \"properties\": {\n        \"dtype\": \"number\",\n        \"std\": 264.0435427158949,\n        \"min\": 0.40009122235288375,\n        \"max\": 750.0,\n        \"num_unique_values\": 6,\n        \"samples\": [\n          750.0,\n          3.9026666666666667,\n          5.0\n        ],\n        \"semantic_type\": \"\",\n        \"description\": \"\"\n      }\n    },\n    {\n      \"column\": \"valence\",\n      \"properties\": {\n        \"dtype\": \"number\",\n        \"std\": 265.00308676635024,\n        \"min\": 0.0332,\n        \"max\": 750.0,\n        \"num_unique_values\": 8,\n        \"samples\": [\n          0.4973214666666667,\n          0.483,\n          750.0\n        ],\n        \"semantic_type\": \"\",\n        \"description\": \"\"\n      }\n    }\n  ]\n}"
            }
          },
          "metadata": {},
          "execution_count": 15
        }
      ]
    },
    {
      "cell_type": "markdown",
      "source": [
        "## Cantidad de Nulos"
      ],
      "metadata": {
        "id": "xNP13zWWSBYP"
      }
    },
    {
      "cell_type": "code",
      "source": [
        "df.isnull().sum()"
      ],
      "metadata": {
        "colab": {
          "base_uri": "https://localhost:8080/",
          "height": 492
        },
        "id": "d5FExLzmSCXC",
        "outputId": "367a4e03-67ef-4531-9beb-c70a3f9ef2bd"
      },
      "execution_count": 16,
      "outputs": [
        {
          "output_type": "execute_result",
          "data": {
            "text/plain": [
              "acousticness        0\n",
              "danceability        0\n",
              "duration            0\n",
              "energy              0\n",
              "instrumentalness    0\n",
              "key                 0\n",
              "liveness            0\n",
              "loudness            0\n",
              "mode                0\n",
              "speechiness         0\n",
              "tempo               0\n",
              "time_signature      0\n",
              "valence             0\n",
              "dtype: int64"
            ],
            "text/html": [
              "<div>\n",
              "<style scoped>\n",
              "    .dataframe tbody tr th:only-of-type {\n",
              "        vertical-align: middle;\n",
              "    }\n",
              "\n",
              "    .dataframe tbody tr th {\n",
              "        vertical-align: top;\n",
              "    }\n",
              "\n",
              "    .dataframe thead th {\n",
              "        text-align: right;\n",
              "    }\n",
              "</style>\n",
              "<table border=\"1\" class=\"dataframe\">\n",
              "  <thead>\n",
              "    <tr style=\"text-align: right;\">\n",
              "      <th></th>\n",
              "      <th>0</th>\n",
              "    </tr>\n",
              "  </thead>\n",
              "  <tbody>\n",
              "    <tr>\n",
              "      <th>acousticness</th>\n",
              "      <td>0</td>\n",
              "    </tr>\n",
              "    <tr>\n",
              "      <th>danceability</th>\n",
              "      <td>0</td>\n",
              "    </tr>\n",
              "    <tr>\n",
              "      <th>duration</th>\n",
              "      <td>0</td>\n",
              "    </tr>\n",
              "    <tr>\n",
              "      <th>energy</th>\n",
              "      <td>0</td>\n",
              "    </tr>\n",
              "    <tr>\n",
              "      <th>instrumentalness</th>\n",
              "      <td>0</td>\n",
              "    </tr>\n",
              "    <tr>\n",
              "      <th>key</th>\n",
              "      <td>0</td>\n",
              "    </tr>\n",
              "    <tr>\n",
              "      <th>liveness</th>\n",
              "      <td>0</td>\n",
              "    </tr>\n",
              "    <tr>\n",
              "      <th>loudness</th>\n",
              "      <td>0</td>\n",
              "    </tr>\n",
              "    <tr>\n",
              "      <th>mode</th>\n",
              "      <td>0</td>\n",
              "    </tr>\n",
              "    <tr>\n",
              "      <th>speechiness</th>\n",
              "      <td>0</td>\n",
              "    </tr>\n",
              "    <tr>\n",
              "      <th>tempo</th>\n",
              "      <td>0</td>\n",
              "    </tr>\n",
              "    <tr>\n",
              "      <th>time_signature</th>\n",
              "      <td>0</td>\n",
              "    </tr>\n",
              "    <tr>\n",
              "      <th>valence</th>\n",
              "      <td>0</td>\n",
              "    </tr>\n",
              "  </tbody>\n",
              "</table>\n",
              "</div><br><label><b>dtype:</b> int64</label>"
            ]
          },
          "metadata": {},
          "execution_count": 16
        }
      ]
    },
    {
      "cell_type": "markdown",
      "source": [
        "No existen datos nulos. Es un dataset limpios de ellos."
      ],
      "metadata": {
        "id": "5cLim2iBSEeh"
      }
    },
    {
      "cell_type": "markdown",
      "source": [
        "# Entrenamiento y Agrupamiento"
      ],
      "metadata": {
        "id": "bJtCN900SKo7"
      }
    },
    {
      "cell_type": "markdown",
      "source": [
        "## Preprocesamiento"
      ],
      "metadata": {
        "id": "v536_hgqSw35"
      }
    },
    {
      "cell_type": "markdown",
      "source": [
        "Dado que es importante el tema de las distancia. Se pasa a escalar las variables."
      ],
      "metadata": {
        "id": "EAXsePPlS0sD"
      }
    },
    {
      "cell_type": "code",
      "source": [],
      "metadata": {
        "id": "GAL-95_XS0Hy"
      },
      "execution_count": null,
      "outputs": []
    },
    {
      "cell_type": "markdown",
      "source": [
        "## Metodo de Elbow"
      ],
      "metadata": {
        "id": "gUlJ_cLrShDg"
      }
    },
    {
      "cell_type": "code",
      "source": [],
      "metadata": {
        "id": "aFcRs2LgSEFG"
      },
      "execution_count": null,
      "outputs": []
    },
    {
      "cell_type": "markdown",
      "source": [
        "## Silhouette"
      ],
      "metadata": {
        "id": "-V8LGE-kSjOx"
      }
    },
    {
      "cell_type": "code",
      "source": [],
      "metadata": {
        "id": "4qqbIlU1Sl2v"
      },
      "execution_count": null,
      "outputs": []
    },
    {
      "cell_type": "markdown",
      "source": [
        "## Hopkins: Tendencia al clustering"
      ],
      "metadata": {
        "id": "5tYe3pl_SqFm"
      }
    },
    {
      "cell_type": "code",
      "source": [],
      "metadata": {
        "id": "Edgzm4-ySrNz"
      },
      "execution_count": null,
      "outputs": []
    }
  ]
}