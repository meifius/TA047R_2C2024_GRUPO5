{
 "cells": [
  {
   "cell_type": "code",
   "execution_count": 1,
   "id": "e66db342-5486-42d1-a63a-e3cd907d33a5",
   "metadata": {},
   "outputs": [],
   "source": [
    "import pandas as pd\n",
    "import numpy as np\n",
    "import joblib\n",
    "\n",
    "#Visualización\n",
    "import matplotlib.pyplot as plt\n",
    "import matplotlib.colors as mcolors\n",
    "import seaborn as sns\n",
    "\n",
    "#Métricas\n",
    "import sklearn as sk\n",
    "from sklearn import tree\n",
    "from sklearn.model_selection import train_test_split, cross_val_score\n",
    "from sklearn.metrics import root_mean_squared_error\n",
    "from sklearn.metrics import confusion_matrix, classification_report, make_scorer\n",
    "\n",
    "#Configuración Warnings\n",
    "import warnings\n",
    "warnings.simplefilter(action='ignore', category=FutureWarning)\n",
    "warnings.simplefilter(action='ignore', category=UserWarning)\n",
    "\n",
    "#Regressors\n",
    "from sklearn.ensemble import StackingRegressor\n",
    "from sklearn.linear_model import ElasticNet\n",
    "from sklearn.ensemble import RandomForestRegressor, GradientBoostingRegressor\n",
    "from xgboost import XGBRegressor\n",
    "from sklearn.model_selection import GridSearchCV, RandomizedSearchCV, StratifiedKFold, KFold\n",
    "\n",
    "#Análisis de Sentimientos\n",
    "from sklearn.feature_extraction.text import CountVectorizer, TfidfVectorizer, TfidfTransformer\n",
    "from sklearn.decomposition import TruncatedSVD\n",
    "from sklearn.pipeline import make_pipeline"
   ]
  },
  {
   "cell_type": "code",
   "execution_count": 2,
   "id": "36689fed",
   "metadata": {
    "id": "36689fed",
    "scrolled": true
   },
   "outputs": [],
   "source": [
    "user_stories_train = pd.read_csv('data/train.csv', low_memory=False)\n",
    "user_stories_test = pd.read_csv('data/test.csv', low_memory=False)"
   ]
  },
  {
   "cell_type": "code",
   "execution_count": 3,
   "id": "cc1ec14b-d2eb-471f-853c-d0a0d6a372a5",
   "metadata": {},
   "outputs": [
    {
     "data": {
      "text/plain": [
       "storypoint\n",
       "3     23.392405\n",
       "5     21.430380\n",
       "1     20.620253\n",
       "2     16.151899\n",
       "8     12.974684\n",
       "4      2.101266\n",
       "13     1.949367\n",
       "10     0.405063\n",
       "20     0.392405\n",
       "6      0.215190\n",
       "16     0.088608\n",
       "12     0.075949\n",
       "40     0.063291\n",
       "21     0.037975\n",
       "15     0.025316\n",
       "7      0.025316\n",
       "32     0.012658\n",
       "34     0.012658\n",
       "14     0.012658\n",
       "24     0.012658\n",
       "Name: proportion, dtype: float64"
      ]
     },
     "execution_count": 3,
     "metadata": {},
     "output_type": "execute_result"
    }
   ],
   "source": [
    "#Verifico balanceo de clases\n",
    "user_stories_train['storypoint'].value_counts(normalize=True)*100"
   ]
  },
  {
   "cell_type": "code",
   "execution_count": 4,
   "id": "ca9bb49c-f4c6-41ea-a0e9-dc13951a652a",
   "metadata": {},
   "outputs": [],
   "source": [
    "#Creamos un dataset con features a usar para clasificar\n",
    "user_stories_x = user_stories_train['description'].copy()\n",
    "user_stories_test_x = user_stories_test['description'].copy()\n",
    "\n",
    "#Creamos un dataset con la variable target 'storypoint'\n",
    "user_stories_y = user_stories_train['storypoint'].copy()"
   ]
  },
  {
   "cell_type": "code",
   "execution_count": 5,
   "id": "d0435f93-7b52-4fa1-9cda-a4571f98548d",
   "metadata": {},
   "outputs": [],
   "source": [
    "import nltk\n",
    "from nltk.corpus import stopwords\n",
    "from nltk.tokenize import word_tokenize\n",
    "from nltk.stem import WordNetLemmatizer\n",
    "\n",
    "def lemmatizationAndStopwords(text):\n",
    "    wordNetLemmatizer = WordNetLemmatizer()\n",
    "    stopwordSets = set(stopwords.words('english'))\n",
    "    words = word_tokenize(text)\n",
    "    wordsFilter = [wordNetLemmatizer.lemmatize(word.lower()) for word in words if word.lower() not in stopwordSets and word.isalpha()]\n",
    "    return ' '.join(wordsFilter)"
   ]
  },
  {
   "cell_type": "code",
   "execution_count": 6,
   "id": "Ax4_Pm0D_BeB",
   "metadata": {
    "id": "Ax4_Pm0D_BeB"
   },
   "outputs": [],
   "source": [
    "#The Best: 2.9470424378844795\n",
    "# {'tfidf__use_idf': False,\n",
    "#  'tfidf__sublinear_tf': False,\n",
    "#  'tfidf__stop_words': ['english'],\n",
    "#  'tfidf__ngram_range': (1, 2),\n",
    "#  'tfidf__min_df': 2,\n",
    "#  'tfidf__max_features': 2000,\n",
    "#  'tfidf__max_df': 0.8,\n",
    "#  'tfidf__analyzer': 'word',\n",
    "#  'svd__random_state': 42,\n",
    "#  'svd__n_components': 100,\n",
    "#  'stacking__xgb_regressor__random_state': 42,\n",
    "#  'stacking__xgb_regressor__objective': 'reg:squarederror',\n",
    "#  'stacking__xgb_regressor__n_estimators': 100,\n",
    "#  'stacking__xgb_regressor__max_depth': 3,\n",
    "#  'stacking__xgb_regressor__learning_rate': 0.01,\n",
    "#  'stacking__rnd_regressor__random_state': 42,\n",
    "#  'stacking__rnd_regressor__n_jobs': -1,\n",
    "#  'stacking__rnd_regressor__n_estimators': 300,\n",
    "#  'stacking__rnd_regressor__min_samples_split': 2,\n",
    "#  'stacking__rnd_regressor__min_samples_leaf': 1,\n",
    "#  'stacking__rnd_regressor__max_features': 'sqrt',\n",
    "#  'stacking__rnd_regressor__max_depth': 7,\n",
    "#  'stacking__rnd_regressor__criterion': 'poisson',\n",
    "#  'stacking__rnd_regressor__bootstrap': True,\n",
    "#  'stacking__final_estimator__random_state': 42,\n",
    "#  'stacking__final_estimator__n_estimators': 200,\n",
    "#  'stacking__final_estimator__max_depth': 4,\n",
    "#  'stacking__elasticnet__random_state': 42,\n",
    "#  'stacking__elasticnet__l1_ratio': 0.1,\n",
    "#  'stacking__elasticnet__alpha': 1.0}\n",
    "\n",
    "#Creo el modelo y lo entreno\n",
    "xgb_regressor = XGBRegressor(\n",
    "                       random_state=42,\n",
    "                       objective='reg:squarederror',\n",
    "                       n_estimators=100,\n",
    "                       max_depth=3,\n",
    "                       learning_rate=0.01,\n",
    "                       colsample_bytree=1\n",
    "                      )\n",
    "\n",
    "rnd_regressor = RandomForestRegressor(max_features='sqrt',\n",
    "                             random_state=42,\n",
    "                             n_jobs=-1,\n",
    "                             criterion=\"poisson\", \n",
    "                             min_samples_leaf=1,\n",
    "                             min_samples_split=2,\n",
    "                             max_depth=7,\n",
    "                             n_estimators=200,\n",
    "                             bootstrap=True)\n",
    "\n",
    "elasticnet = ElasticNet(\n",
    "                    random_state=42,\n",
    "                    l1_ratio=0.1,\n",
    "                    alpha=1.0)\n",
    "\n",
    "svd = TruncatedSVD(\n",
    "                    random_state=42,\n",
    "                    n_components=100\n",
    "                  )\n",
    "\n",
    "stacking_model = make_pipeline(TfidfVectorizer(\n",
    "                                        analyzer=\"word\",\n",
    "                                        stop_words=['english'],\n",
    "                                        max_features=2000,\n",
    "                                        ngram_range=(1, 1),\n",
    "                                        min_df=2,\n",
    "                                        max_df=0.8,\n",
    "                                        use_idf=False,\n",
    "                                        sublinear_tf=False,\n",
    "                                        preprocessor=lemmatizationAndStopwords), \n",
    "                                    svd,\n",
    "                                    StackingRegressor(\n",
    "                                        estimators=[\n",
    "                                            ('xgb_regressor', xgb_regressor),\n",
    "                                            ('rnd_regressor', rnd_regressor),\n",
    "                                            ('elasticnet', elasticnet)\n",
    "                                        ],\n",
    "                                        final_estimator=GradientBoostingRegressor(\n",
    "                                                                        random_state=42,\n",
    "                                                                        n_estimators=200,\n",
    "                                                                        max_depth=4)\n",
    "                                    )\n",
    "                                )\n",
    "\n",
    "#Entrenamos el modelo\n",
    "stacking_model = stacking_model.fit(user_stories_x, user_stories_y)"
   ]
  },
  {
   "cell_type": "code",
   "execution_count": 7,
   "id": "n9MjyN8iFw1V",
   "metadata": {
    "colab": {
     "base_uri": "https://localhost:8080/"
    },
    "id": "n9MjyN8iFw1V",
    "outputId": "e3571a74-b5f0-4d74-8c59-49de50148611"
   },
   "outputs": [
    {
     "data": {
      "text/plain": [
       "array([5.32280993, 2.63482475, 2.5608731 , ..., 2.48607716, 6.79887887,\n",
       "       3.01796721])"
      ]
     },
     "execution_count": 7,
     "metadata": {},
     "output_type": "execute_result"
    }
   ],
   "source": [
    "#Realizamos una predicción sobre el set de test\n",
    "y_pred = stacking_model.predict(user_stories_test_x)\n",
    "#Valores Predichos\n",
    "y_pred"
   ]
  },
  {
   "cell_type": "code",
   "execution_count": 8,
   "id": "JsWoAHk8GGcA",
   "metadata": {
    "colab": {
     "base_uri": "https://localhost:8080/"
    },
    "id": "JsWoAHk8GGcA",
    "outputId": "608975e3-93bd-4bfd-d93e-713842cdd073"
   },
   "outputs": [
    {
     "data": {
      "text/plain": [
       "(1975,)"
      ]
     },
     "execution_count": 8,
     "metadata": {},
     "output_type": "execute_result"
    }
   ],
   "source": [
    "y_pred.shape"
   ]
  },
  {
   "cell_type": "markdown",
   "id": "SMz_T4aUWiTh",
   "metadata": {
    "id": "SMz_T4aUWiTh"
   },
   "source": [
    "###Generamos el dataset de predicción para submitir a kaggle"
   ]
  },
  {
   "cell_type": "code",
   "execution_count": 9,
   "id": "uu29wc9vua80",
   "metadata": {
    "colab": {
     "base_uri": "https://localhost:8080/",
     "height": 442
    },
    "id": "uu29wc9vua80",
    "outputId": "a80369bd-98fb-431e-cd2a-020230c17137"
   },
   "outputs": [
    {
     "name": "stdout",
     "output_type": "stream",
     "text": [
      "(1975, 2)\n"
     ]
    },
    {
     "data": {
      "text/html": [
       "<div>\n",
       "<style scoped>\n",
       "    .dataframe tbody tr th:only-of-type {\n",
       "        vertical-align: middle;\n",
       "    }\n",
       "\n",
       "    .dataframe tbody tr th {\n",
       "        vertical-align: top;\n",
       "    }\n",
       "\n",
       "    .dataframe thead th {\n",
       "        text-align: right;\n",
       "    }\n",
       "</style>\n",
       "<table border=\"1\" class=\"dataframe\">\n",
       "  <thead>\n",
       "    <tr style=\"text-align: right;\">\n",
       "      <th></th>\n",
       "      <th>id</th>\n",
       "      <th>storypoint</th>\n",
       "    </tr>\n",
       "  </thead>\n",
       "  <tbody>\n",
       "    <tr>\n",
       "      <th>0</th>\n",
       "      <td>3433</td>\n",
       "      <td>5.322810</td>\n",
       "    </tr>\n",
       "    <tr>\n",
       "      <th>1</th>\n",
       "      <td>106</td>\n",
       "      <td>2.634825</td>\n",
       "    </tr>\n",
       "    <tr>\n",
       "      <th>2</th>\n",
       "      <td>7182</td>\n",
       "      <td>2.560873</td>\n",
       "    </tr>\n",
       "    <tr>\n",
       "      <th>3</th>\n",
       "      <td>8985</td>\n",
       "      <td>2.434808</td>\n",
       "    </tr>\n",
       "    <tr>\n",
       "      <th>4</th>\n",
       "      <td>2149</td>\n",
       "      <td>2.753377</td>\n",
       "    </tr>\n",
       "    <tr>\n",
       "      <th>...</th>\n",
       "      <td>...</td>\n",
       "      <td>...</td>\n",
       "    </tr>\n",
       "    <tr>\n",
       "      <th>1970</th>\n",
       "      <td>9069</td>\n",
       "      <td>3.833632</td>\n",
       "    </tr>\n",
       "    <tr>\n",
       "      <th>1971</th>\n",
       "      <td>3100</td>\n",
       "      <td>2.671723</td>\n",
       "    </tr>\n",
       "    <tr>\n",
       "      <th>1972</th>\n",
       "      <td>6648</td>\n",
       "      <td>2.486077</td>\n",
       "    </tr>\n",
       "    <tr>\n",
       "      <th>1973</th>\n",
       "      <td>6076</td>\n",
       "      <td>6.798879</td>\n",
       "    </tr>\n",
       "    <tr>\n",
       "      <th>1974</th>\n",
       "      <td>5060</td>\n",
       "      <td>3.017967</td>\n",
       "    </tr>\n",
       "  </tbody>\n",
       "</table>\n",
       "<p>1975 rows × 2 columns</p>\n",
       "</div>"
      ],
      "text/plain": [
       "        id  storypoint\n",
       "0     3433    5.322810\n",
       "1      106    2.634825\n",
       "2     7182    2.560873\n",
       "3     8985    2.434808\n",
       "4     2149    2.753377\n",
       "...    ...         ...\n",
       "1970  9069    3.833632\n",
       "1971  3100    2.671723\n",
       "1972  6648    2.486077\n",
       "1973  6076    6.798879\n",
       "1974  5060    3.017967\n",
       "\n",
       "[1975 rows x 2 columns]"
      ]
     },
     "execution_count": 9,
     "metadata": {},
     "output_type": "execute_result"
    }
   ],
   "source": [
    "# genero el dataset id - storypoint:\n",
    "submition = pd.DataFrame({'id': user_stories_test['id'], 'storypoint': y_pred})\n",
    "print(submition.shape)\n",
    "submition"
   ]
  },
  {
   "cell_type": "code",
   "execution_count": 10,
   "id": "ayExhI5_xgBE",
   "metadata": {
    "colab": {
     "base_uri": "https://localhost:8080/"
    },
    "id": "ayExhI5_xgBE",
    "outputId": "642fa5ab-3189-4db9-e1ea-acdff785843c"
   },
   "outputs": [
    {
     "data": {
      "text/plain": [
       "(1975, 2)"
      ]
     },
     "execution_count": 10,
     "metadata": {},
     "output_type": "execute_result"
    }
   ],
   "source": [
    "submition.shape"
   ]
  },
  {
   "cell_type": "code",
   "execution_count": 11,
   "id": "bl084sA0wYPL",
   "metadata": {
    "id": "bl084sA0wYPL"
   },
   "outputs": [],
   "source": [
    "submition.to_csv('stacking_submit.csv', index=False)"
   ]
  },
  {
   "cell_type": "code",
   "execution_count": null,
   "id": "188bf298-a8d6-40da-b130-8894fdcba1a5",
   "metadata": {},
   "outputs": [],
   "source": []
  }
 ],
 "metadata": {
  "colab": {
   "provenance": []
  },
  "kernelspec": {
   "display_name": "Python 3 (ipykernel)",
   "language": "python",
   "name": "python3"
  },
  "language_info": {
   "codemirror_mode": {
    "name": "ipython",
    "version": 3
   },
   "file_extension": ".py",
   "mimetype": "text/x-python",
   "name": "python",
   "nbconvert_exporter": "python",
   "pygments_lexer": "ipython3",
   "version": "3.12.3"
  }
 },
 "nbformat": 4,
 "nbformat_minor": 5
}
