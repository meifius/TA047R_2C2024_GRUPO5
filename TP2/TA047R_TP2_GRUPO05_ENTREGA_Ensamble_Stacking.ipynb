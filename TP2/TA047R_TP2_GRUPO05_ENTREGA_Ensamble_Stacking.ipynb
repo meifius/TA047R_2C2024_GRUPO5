{
 "cells": [
  {
   "cell_type": "code",
   "execution_count": 1,
   "id": "383458ff-4f5b-4724-9b63-1646576824b2",
   "metadata": {},
   "outputs": [],
   "source": [
    "import pandas as pd\n",
    "import numpy as np\n",
    "import joblib\n",
    "\n",
    "#Visualización\n",
    "import matplotlib.pyplot as plt\n",
    "import matplotlib.colors as mcolors\n",
    "import seaborn as sns\n",
    "\n",
    "#Métricas\n",
    "import sklearn as sk\n",
    "from sklearn import tree\n",
    "from sklearn.model_selection import train_test_split, cross_val_score\n",
    "from sklearn.metrics import root_mean_squared_error\n",
    "from sklearn.metrics import confusion_matrix, classification_report, make_scorer\n",
    "\n",
    "#Configuración Warnings\n",
    "import warnings\n",
    "warnings.simplefilter(action='ignore', category=FutureWarning)\n",
    "warnings.simplefilter(action='ignore', category=UserWarning)\n",
    "\n",
    "#Regressors\n",
    "from sklearn.ensemble import StackingRegressor\n",
    "from sklearn.linear_model import ElasticNet\n",
    "from sklearn.ensemble import RandomForestRegressor, GradientBoostingRegressor\n",
    "from xgboost import XGBRegressor\n",
    "from sklearn.model_selection import GridSearchCV, RandomizedSearchCV, KFold\n",
    "\n",
    "#Análisis de Sentimientos\n",
    "from sklearn.feature_extraction.text import CountVectorizer, TfidfVectorizer, TfidfTransformer\n",
    "from sklearn.decomposition import TruncatedSVD"
   ]
  },
  {
   "cell_type": "code",
   "execution_count": 2,
   "id": "36689fed",
   "metadata": {
    "id": "36689fed",
    "scrolled": true
   },
   "outputs": [],
   "source": [
    "user_stories_train = pd.read_csv('data/train.csv', low_memory=False)"
   ]
  },
  {
   "cell_type": "code",
   "execution_count": 3,
   "id": "Wsdp631-9TUx",
   "metadata": {
    "colab": {
     "base_uri": "https://localhost:8080/"
    },
    "id": "Wsdp631-9TUx",
    "outputId": "0430dfa1-5221-4f50-bcbc-17a1bfd536ae"
   },
   "outputs": [
    {
     "data": {
      "text/html": [
       "<div>\n",
       "<style scoped>\n",
       "    .dataframe tbody tr th:only-of-type {\n",
       "        vertical-align: middle;\n",
       "    }\n",
       "\n",
       "    .dataframe tbody tr th {\n",
       "        vertical-align: top;\n",
       "    }\n",
       "\n",
       "    .dataframe thead th {\n",
       "        text-align: right;\n",
       "    }\n",
       "</style>\n",
       "<table border=\"1\" class=\"dataframe\">\n",
       "  <thead>\n",
       "    <tr style=\"text-align: right;\">\n",
       "      <th></th>\n",
       "      <th>id</th>\n",
       "      <th>title</th>\n",
       "      <th>description</th>\n",
       "      <th>project</th>\n",
       "      <th>storypoint</th>\n",
       "    </tr>\n",
       "  </thead>\n",
       "  <tbody>\n",
       "    <tr>\n",
       "      <th>0</th>\n",
       "      <td>5660</td>\n",
       "      <td>Error enabling Appcelerator services during ap...</td>\n",
       "      <td>When creating the default app, I encountered t...</td>\n",
       "      <td>project8</td>\n",
       "      <td>3</td>\n",
       "    </tr>\n",
       "    <tr>\n",
       "      <th>1</th>\n",
       "      <td>9014</td>\n",
       "      <td>Create a maintenance branch</td>\n",
       "      <td>As a developer, I'd like to have a maintenance...</td>\n",
       "      <td>project6</td>\n",
       "      <td>5</td>\n",
       "    </tr>\n",
       "    <tr>\n",
       "      <th>2</th>\n",
       "      <td>4094</td>\n",
       "      <td>Service Activity Monitoring Backend integrated...</td>\n",
       "      <td>SAM API used by SAM GUI</td>\n",
       "      <td>project1</td>\n",
       "      <td>5</td>\n",
       "    </tr>\n",
       "    <tr>\n",
       "      <th>3</th>\n",
       "      <td>811</td>\n",
       "      <td>fs::enter(rootfs) does not work if 'rootfs' is...</td>\n",
       "      <td>I noticed this when I was testing the unified ...</td>\n",
       "      <td>project5</td>\n",
       "      <td>2</td>\n",
       "    </tr>\n",
       "    <tr>\n",
       "      <th>4</th>\n",
       "      <td>4459</td>\n",
       "      <td>transform processor with script option is broken</td>\n",
       "      <td>Creating the following stream throws exception...</td>\n",
       "      <td>project6</td>\n",
       "      <td>2</td>\n",
       "    </tr>\n",
       "  </tbody>\n",
       "</table>\n",
       "</div>"
      ],
      "text/plain": [
       "     id                                              title  \\\n",
       "0  5660  Error enabling Appcelerator services during ap...   \n",
       "1  9014                        Create a maintenance branch   \n",
       "2  4094  Service Activity Monitoring Backend integrated...   \n",
       "3   811  fs::enter(rootfs) does not work if 'rootfs' is...   \n",
       "4  4459   transform processor with script option is broken   \n",
       "\n",
       "                                         description   project  storypoint  \n",
       "0  When creating the default app, I encountered t...  project8           3  \n",
       "1  As a developer, I'd like to have a maintenance...  project6           5  \n",
       "2                            SAM API used by SAM GUI  project1           5  \n",
       "3  I noticed this when I was testing the unified ...  project5           2  \n",
       "4  Creating the following stream throws exception...  project6           2  "
      ]
     },
     "execution_count": 3,
     "metadata": {},
     "output_type": "execute_result"
    }
   ],
   "source": [
    "user_stories_train.head()"
   ]
  },
  {
   "cell_type": "code",
   "execution_count": 4,
   "id": "49ebf362",
   "metadata": {},
   "outputs": [
    {
     "data": {
      "text/plain": [
       "id              int64\n",
       "title          object\n",
       "description    object\n",
       "project        object\n",
       "storypoint      int64\n",
       "dtype: object"
      ]
     },
     "execution_count": 4,
     "metadata": {},
     "output_type": "execute_result"
    }
   ],
   "source": [
    "user_stories_train.dtypes"
   ]
  },
  {
   "cell_type": "code",
   "execution_count": 5,
   "id": "agVdguy6-pvx",
   "metadata": {
    "id": "agVdguy6-pvx"
   },
   "outputs": [
    {
     "name": "stdout",
     "output_type": "stream",
     "text": [
      "Cantidad de columnas: 5\n",
      "Cantidad de filas: 7900\n"
     ]
    }
   ],
   "source": [
    "# Vemos cantidad de filas y columnas\n",
    "user_stories_train_size = user_stories_train.shape\n",
    "print(\"Cantidad de columnas: %d\" % user_stories_train_size[1])\n",
    "print(\"Cantidad de filas: %d\" % user_stories_train_size[0])"
   ]
  },
  {
   "cell_type": "code",
   "execution_count": 6,
   "id": "9T8yqcOQFTi2",
   "metadata": {
    "id": "9T8yqcOQFTi2"
   },
   "outputs": [
    {
     "name": "stdout",
     "output_type": "stream",
     "text": [
      "Se eliminaron: 0 filas duplicadas\n"
     ]
    }
   ],
   "source": [
    "# Analizamos si hay filas duplicadas\n",
    "user_stories_train_total = len(user_stories_train)\n",
    "user_stories_train_unique = user_stories_train.drop_duplicates()\n",
    "user_stories_train_unique_size = len(user_stories_train_unique)\n",
    "print(f'Se eliminaron: {user_stories_train_total - user_stories_train_unique_size} filas duplicadas')"
   ]
  },
  {
   "cell_type": "code",
   "execution_count": 7,
   "id": "zt0V57ELFrU-",
   "metadata": {
    "id": "zt0V57ELFrU-"
   },
   "outputs": [
    {
     "data": {
      "text/plain": [
       "id             0\n",
       "title          0\n",
       "description    0\n",
       "project        0\n",
       "storypoint     0\n",
       "dtype: int64"
      ]
     },
     "execution_count": 7,
     "metadata": {},
     "output_type": "execute_result"
    }
   ],
   "source": [
    "# Vemos cantidad de datos faltantes\n",
    "user_stories_train.isna().sum()"
   ]
  },
  {
   "cell_type": "code",
   "execution_count": 8,
   "id": "n9MjyN8iFw1V",
   "metadata": {
    "colab": {
     "base_uri": "https://localhost:8080/"
    },
    "id": "n9MjyN8iFw1V",
    "outputId": "e6d0b23b-3376-4b35-b499-b250f89ef493"
   },
   "outputs": [
    {
     "data": {
      "text/plain": [
       "storypoint\n",
       "3     23.392405\n",
       "5     21.430380\n",
       "1     20.620253\n",
       "2     16.151899\n",
       "8     12.974684\n",
       "4      2.101266\n",
       "13     1.949367\n",
       "10     0.405063\n",
       "20     0.392405\n",
       "6      0.215190\n",
       "16     0.088608\n",
       "12     0.075949\n",
       "40     0.063291\n",
       "21     0.037975\n",
       "15     0.025316\n",
       "7      0.025316\n",
       "32     0.012658\n",
       "34     0.012658\n",
       "14     0.012658\n",
       "24     0.012658\n",
       "Name: proportion, dtype: float64"
      ]
     },
     "execution_count": 8,
     "metadata": {},
     "output_type": "execute_result"
    }
   ],
   "source": [
    "#Verifico balanceo de clases\n",
    "user_stories_train['storypoint'].value_counts(normalize=True)*100"
   ]
  },
  {
   "cell_type": "markdown",
   "id": "538bcda7",
   "metadata": {},
   "source": [
    "### Preparamos el dataset"
   ]
  },
  {
   "cell_type": "code",
   "execution_count": 9,
   "id": "xBfg8oHRGKFN",
   "metadata": {
    "colab": {
     "base_uri": "https://localhost:8080/"
    },
    "id": "xBfg8oHRGKFN",
    "outputId": "af44b244-57d8-44b1-955b-6ca04803bf8b"
   },
   "outputs": [],
   "source": [
    "#Creamos un dataset con features a usar para clasificar\n",
    "user_stories_x = user_stories_train['description'].copy()\n",
    "\n",
    "#Creamos un dataset con la variable target 'storypoint'\n",
    "user_stories_y = user_stories_train['storypoint'].copy()\n",
    "\n",
    "#Genero los conjuntos de train y test\n",
    "x_train, x_test, y_train, y_test = train_test_split(user_stories_x,\n",
    "                                                   user_stories_y,\n",
    "                                                   test_size=0.3,  #proporcion 70/30\n",
    "                                                   random_state=2) #semilla"
   ]
  },
  {
   "cell_type": "code",
   "execution_count": 10,
   "id": "JsWoAHk8GGcA",
   "metadata": {
    "colab": {
     "base_uri": "https://localhost:8080/"
    },
    "id": "JsWoAHk8GGcA",
    "outputId": "6ac11d56-6f99-44fa-8d35-ea560a669922"
   },
   "outputs": [
    {
     "data": {
      "text/plain": [
       "2646    The plugin will need to contribute the icon. W...\n",
       "2724    The timer: component is used to generate messa...\n",
       "5159    h5.Description:  In CLI we have the ability to...\n",
       "976     We need to refactor the way how we package and...\n",
       "2187    Standalone Admin currently has no shiny banner...\n",
       "                              ...                        \n",
       "3606    h5. Description:  When launching Studio with C...\n",
       "5704    When a .tss file contains certain grammars, Ti...\n",
       "6637    The data that is entering a broadcast stream c...\n",
       "2575    Provide the infrastructure for HTTP GET /compl...\n",
       "7336    Studio shows an Empty Preferences window when ...\n",
       "Name: description, Length: 5530, dtype: object"
      ]
     },
     "execution_count": 10,
     "metadata": {},
     "output_type": "execute_result"
    }
   ],
   "source": [
    "x_train"
   ]
  },
  {
   "cell_type": "code",
   "execution_count": 11,
   "id": "Vee6iDIHF05c",
   "metadata": {
    "colab": {
     "base_uri": "https://localhost:8080/"
    },
    "id": "Vee6iDIHF05c",
    "outputId": "caba3b93-589e-4be4-b6c7-c4e4f7fedefe"
   },
   "outputs": [
    {
     "data": {
      "text/plain": [
       "2646    8\n",
       "2724    2\n",
       "5159    8\n",
       "976     2\n",
       "2187    3\n",
       "       ..\n",
       "3606    5\n",
       "5704    2\n",
       "6637    2\n",
       "2575    3\n",
       "7336    3\n",
       "Name: storypoint, Length: 5530, dtype: int64"
      ]
     },
     "execution_count": 11,
     "metadata": {},
     "output_type": "execute_result"
    }
   ],
   "source": [
    "y_train"
   ]
  },
  {
   "cell_type": "markdown",
   "id": "a1088e33",
   "metadata": {
    "colab": {
     "base_uri": "https://localhost:8080/",
     "height": 363
    },
    "id": "gpKJEuTgF5E5",
    "outputId": "ebbe5343-62e4-4d34-b532-60138b42151c"
   },
   "source": [
    "## Ensamble con Stacking"
   ]
  },
  {
   "cell_type": "markdown",
   "id": "2bSB7j8BLtRB",
   "metadata": {
    "id": "2bSB7j8BLtRB"
   },
   "source": [
    "###Cross Validation"
   ]
  },
  {
   "cell_type": "code",
   "execution_count": 12,
   "id": "c26efa8c-1b2f-47ac-9925-8ced8968e624",
   "metadata": {},
   "outputs": [
    {
     "name": "stderr",
     "output_type": "stream",
     "text": [
      "[nltk_data] Downloading package punkt to\n",
      "[nltk_data]     /home/users/pablo.prieto/nltk_data...\n",
      "[nltk_data]   Package punkt is already up-to-date!\n",
      "[nltk_data] Downloading package stopwords to\n",
      "[nltk_data]     /home/users/pablo.prieto/nltk_data...\n",
      "[nltk_data]   Package stopwords is already up-to-date!\n",
      "[nltk_data] Downloading package wordnet to\n",
      "[nltk_data]     /home/users/pablo.prieto/nltk_data...\n",
      "[nltk_data]   Package wordnet is already up-to-date!\n"
     ]
    },
    {
     "data": {
      "text/plain": [
       "True"
      ]
     },
     "execution_count": 12,
     "metadata": {},
     "output_type": "execute_result"
    }
   ],
   "source": [
    "import nltk\n",
    "nltk.download('punkt')\n",
    "nltk.download('stopwords')\n",
    "nltk.download('wordnet')"
   ]
  },
  {
   "cell_type": "code",
   "execution_count": 13,
   "id": "3d57b61a-379d-4017-84d3-6aa584fcd71c",
   "metadata": {},
   "outputs": [],
   "source": [
    "import nltk\n",
    "from nltk.corpus import stopwords\n",
    "from nltk.tokenize import word_tokenize\n",
    "from nltk.stem import WordNetLemmatizer\n",
    "\n",
    "def lemmatizationAndStopwords(text):\n",
    "    wordNetLemmatizer = WordNetLemmatizer()\n",
    "    stopwordSets = set(stopwords.words('english'))\n",
    "    words = word_tokenize(text)\n",
    "    wordsFilter = [wordNetLemmatizer.lemmatize(word.lower()) for word in words if word.lower() not in stopwordSets and word.isalpha()]\n",
    "    if not wordsFilter:\n",
    "        return \"empty\"\n",
    "    return ' '.join(wordsFilter)"
   ]
  },
  {
   "cell_type": "code",
   "execution_count": 14,
   "id": "03a12461-d10a-41ab-a64a-2b901008d492",
   "metadata": {
    "scrolled": true
   },
   "outputs": [
    {
     "name": "stdout",
     "output_type": "stream",
     "text": [
      "Fitting 5 folds for each of 8 candidates, totalling 40 fits\n",
      "[CV] END stacking__elasticnet__alpha=1.0, stacking__elasticnet__l1_ratio=0.1, stacking__elasticnet__random_state=42, stacking__final_estimator__max_depth=4, stacking__final_estimator__n_estimators=200, stacking__final_estimator__random_state=42, stacking__rnd_regressor__bootstrap=True, stacking__rnd_regressor__criterion=poisson, stacking__rnd_regressor__max_depth=7, stacking__rnd_regressor__max_features=sqrt, stacking__rnd_regressor__min_samples_leaf=1, stacking__rnd_regressor__min_samples_split=2, stacking__rnd_regressor__n_estimators=500, stacking__rnd_regressor__n_jobs=-1, stacking__rnd_regressor__random_state=42, stacking__xgb_regressor__learning_rate=0.01, stacking__xgb_regressor__max_depth=3, stacking__xgb_regressor__n_estimators=300, stacking__xgb_regressor__objective=reg:squarederror, stacking__xgb_regressor__random_state=42, svd__n_components=100, svd__random_state=42, tfidf__analyzer=word, tfidf__max_df=0.75, tfidf__max_features=2000, tfidf__min_df=2, tfidf__ngram_range=(1, 2), tfidf__stop_words=['english'], tfidf__sublinear_tf=False, tfidf__use_idf=False; total time= 1.4min\n",
      "[CV] END stacking__elasticnet__alpha=1.0, stacking__elasticnet__l1_ratio=0.1, stacking__elasticnet__random_state=42, stacking__final_estimator__max_depth=4, stacking__final_estimator__n_estimators=200, stacking__final_estimator__random_state=42, stacking__rnd_regressor__bootstrap=True, stacking__rnd_regressor__criterion=poisson, stacking__rnd_regressor__max_depth=7, stacking__rnd_regressor__max_features=sqrt, stacking__rnd_regressor__min_samples_leaf=1, stacking__rnd_regressor__min_samples_split=2, stacking__rnd_regressor__n_estimators=500, stacking__rnd_regressor__n_jobs=-1, stacking__rnd_regressor__random_state=42, stacking__xgb_regressor__learning_rate=0.01, stacking__xgb_regressor__max_depth=3, stacking__xgb_regressor__n_estimators=300, stacking__xgb_regressor__objective=reg:squarederror, stacking__xgb_regressor__random_state=42, svd__n_components=100, svd__random_state=42, tfidf__analyzer=word, tfidf__max_df=0.75, tfidf__max_features=2000, tfidf__min_df=2, tfidf__ngram_range=(1, 2), tfidf__stop_words=['english'], tfidf__sublinear_tf=False, tfidf__use_idf=False; total time= 4.0min\n",
      "[CV] END stacking__elasticnet__alpha=1.0, stacking__elasticnet__l1_ratio=0.1, stacking__elasticnet__random_state=42, stacking__final_estimator__max_depth=4, stacking__final_estimator__n_estimators=200, stacking__final_estimator__random_state=42, stacking__rnd_regressor__bootstrap=True, stacking__rnd_regressor__criterion=poisson, stacking__rnd_regressor__max_depth=7, stacking__rnd_regressor__max_features=sqrt, stacking__rnd_regressor__min_samples_leaf=1, stacking__rnd_regressor__min_samples_split=2, stacking__rnd_regressor__n_estimators=500, stacking__rnd_regressor__n_jobs=-1, stacking__rnd_regressor__random_state=42, stacking__xgb_regressor__learning_rate=0.01, stacking__xgb_regressor__max_depth=3, stacking__xgb_regressor__n_estimators=300, stacking__xgb_regressor__objective=reg:squarederror, stacking__xgb_regressor__random_state=42, svd__n_components=100, svd__random_state=42, tfidf__analyzer=word, tfidf__max_df=0.75, tfidf__max_features=2000, tfidf__min_df=2, tfidf__ngram_range=(1, 2), tfidf__stop_words=['english'], tfidf__sublinear_tf=False, tfidf__use_idf=False; total time= 1.1min\n",
      "[CV] END stacking__elasticnet__alpha=1.0, stacking__elasticnet__l1_ratio=0.1, stacking__elasticnet__random_state=42, stacking__final_estimator__max_depth=4, stacking__final_estimator__n_estimators=200, stacking__final_estimator__random_state=42, stacking__rnd_regressor__bootstrap=True, stacking__rnd_regressor__criterion=poisson, stacking__rnd_regressor__max_depth=7, stacking__rnd_regressor__max_features=sqrt, stacking__rnd_regressor__min_samples_leaf=1, stacking__rnd_regressor__min_samples_split=2, stacking__rnd_regressor__n_estimators=500, stacking__rnd_regressor__n_jobs=-1, stacking__rnd_regressor__random_state=42, stacking__xgb_regressor__learning_rate=0.01, stacking__xgb_regressor__max_depth=3, stacking__xgb_regressor__n_estimators=300, stacking__xgb_regressor__objective=reg:squarederror, stacking__xgb_regressor__random_state=42, svd__n_components=100, svd__random_state=42, tfidf__analyzer=word, tfidf__max_df=0.75, tfidf__max_features=2000, tfidf__min_df=2, tfidf__ngram_range=(1, 2), tfidf__stop_words=['english'], tfidf__sublinear_tf=False, tfidf__use_idf=False; total time= 1.4min\n",
      "[CV] END stacking__elasticnet__alpha=1.0, stacking__elasticnet__l1_ratio=0.1, stacking__elasticnet__random_state=42, stacking__final_estimator__max_depth=4, stacking__final_estimator__n_estimators=200, stacking__final_estimator__random_state=42, stacking__rnd_regressor__bootstrap=True, stacking__rnd_regressor__criterion=poisson, stacking__rnd_regressor__max_depth=7, stacking__rnd_regressor__max_features=sqrt, stacking__rnd_regressor__min_samples_leaf=1, stacking__rnd_regressor__min_samples_split=2, stacking__rnd_regressor__n_estimators=500, stacking__rnd_regressor__n_jobs=-1, stacking__rnd_regressor__random_state=42, stacking__xgb_regressor__learning_rate=0.01, stacking__xgb_regressor__max_depth=3, stacking__xgb_regressor__n_estimators=300, stacking__xgb_regressor__objective=reg:squarederror, stacking__xgb_regressor__random_state=42, svd__n_components=100, svd__random_state=42, tfidf__analyzer=word, tfidf__max_df=0.75, tfidf__max_features=2000, tfidf__min_df=2, tfidf__ngram_range=(1, 2), tfidf__stop_words=['english'], tfidf__sublinear_tf=False, tfidf__use_idf=False; total time= 1.3min\n",
      "[CV] END stacking__elasticnet__alpha=1.0, stacking__elasticnet__l1_ratio=0.1, stacking__elasticnet__random_state=42, stacking__final_estimator__max_depth=4, stacking__final_estimator__n_estimators=200, stacking__final_estimator__random_state=42, stacking__rnd_regressor__bootstrap=True, stacking__rnd_regressor__criterion=squared_error, stacking__rnd_regressor__max_depth=7, stacking__rnd_regressor__max_features=sqrt, stacking__rnd_regressor__min_samples_leaf=1, stacking__rnd_regressor__min_samples_split=2, stacking__rnd_regressor__n_estimators=300, stacking__rnd_regressor__n_jobs=-1, stacking__rnd_regressor__random_state=42, stacking__xgb_regressor__learning_rate=0.01, stacking__xgb_regressor__max_depth=3, stacking__xgb_regressor__n_estimators=300, stacking__xgb_regressor__objective=reg:squarederror, stacking__xgb_regressor__random_state=42, svd__n_components=100, svd__random_state=42, tfidf__analyzer=word, tfidf__max_df=0.75, tfidf__max_features=2000, tfidf__min_df=2, tfidf__ngram_range=(1, 2), tfidf__stop_words=['english'], tfidf__sublinear_tf=False, tfidf__use_idf=False; total time= 1.1min\n",
      "[CV] END stacking__elasticnet__alpha=1.0, stacking__elasticnet__l1_ratio=0.1, stacking__elasticnet__random_state=42, stacking__final_estimator__max_depth=4, stacking__final_estimator__n_estimators=200, stacking__final_estimator__random_state=42, stacking__rnd_regressor__bootstrap=True, stacking__rnd_regressor__criterion=squared_error, stacking__rnd_regressor__max_depth=7, stacking__rnd_regressor__max_features=sqrt, stacking__rnd_regressor__min_samples_leaf=1, stacking__rnd_regressor__min_samples_split=2, stacking__rnd_regressor__n_estimators=300, stacking__rnd_regressor__n_jobs=-1, stacking__rnd_regressor__random_state=42, stacking__xgb_regressor__learning_rate=0.01, stacking__xgb_regressor__max_depth=3, stacking__xgb_regressor__n_estimators=300, stacking__xgb_regressor__objective=reg:squarederror, stacking__xgb_regressor__random_state=42, svd__n_components=100, svd__random_state=42, tfidf__analyzer=word, tfidf__max_df=0.75, tfidf__max_features=2000, tfidf__min_df=2, tfidf__ngram_range=(1, 2), tfidf__stop_words=['english'], tfidf__sublinear_tf=False, tfidf__use_idf=False; total time=  58.6s\n",
      "[CV] END stacking__elasticnet__alpha=1.0, stacking__elasticnet__l1_ratio=0.1, stacking__elasticnet__random_state=42, stacking__final_estimator__max_depth=4, stacking__final_estimator__n_estimators=200, stacking__final_estimator__random_state=42, stacking__rnd_regressor__bootstrap=True, stacking__rnd_regressor__criterion=squared_error, stacking__rnd_regressor__max_depth=7, stacking__rnd_regressor__max_features=sqrt, stacking__rnd_regressor__min_samples_leaf=1, stacking__rnd_regressor__min_samples_split=2, stacking__rnd_regressor__n_estimators=300, stacking__rnd_regressor__n_jobs=-1, stacking__rnd_regressor__random_state=42, stacking__xgb_regressor__learning_rate=0.01, stacking__xgb_regressor__max_depth=3, stacking__xgb_regressor__n_estimators=300, stacking__xgb_regressor__objective=reg:squarederror, stacking__xgb_regressor__random_state=42, svd__n_components=100, svd__random_state=42, tfidf__analyzer=word, tfidf__max_df=0.75, tfidf__max_features=2000, tfidf__min_df=2, tfidf__ngram_range=(1, 2), tfidf__stop_words=['english'], tfidf__sublinear_tf=False, tfidf__use_idf=False; total time=  51.3s\n",
      "[CV] END stacking__elasticnet__alpha=1.0, stacking__elasticnet__l1_ratio=0.1, stacking__elasticnet__random_state=42, stacking__final_estimator__max_depth=4, stacking__final_estimator__n_estimators=200, stacking__final_estimator__random_state=42, stacking__rnd_regressor__bootstrap=True, stacking__rnd_regressor__criterion=squared_error, stacking__rnd_regressor__max_depth=7, stacking__rnd_regressor__max_features=sqrt, stacking__rnd_regressor__min_samples_leaf=1, stacking__rnd_regressor__min_samples_split=2, stacking__rnd_regressor__n_estimators=300, stacking__rnd_regressor__n_jobs=-1, stacking__rnd_regressor__random_state=42, stacking__xgb_regressor__learning_rate=0.01, stacking__xgb_regressor__max_depth=3, stacking__xgb_regressor__n_estimators=300, stacking__xgb_regressor__objective=reg:squarederror, stacking__xgb_regressor__random_state=42, svd__n_components=100, svd__random_state=42, tfidf__analyzer=word, tfidf__max_df=0.75, tfidf__max_features=2000, tfidf__min_df=2, tfidf__ngram_range=(1, 2), tfidf__stop_words=['english'], tfidf__sublinear_tf=False, tfidf__use_idf=False; total time= 1.3min\n",
      "[CV] END stacking__elasticnet__alpha=1.0, stacking__elasticnet__l1_ratio=0.1, stacking__elasticnet__random_state=42, stacking__final_estimator__max_depth=4, stacking__final_estimator__n_estimators=200, stacking__final_estimator__random_state=42, stacking__rnd_regressor__bootstrap=True, stacking__rnd_regressor__criterion=squared_error, stacking__rnd_regressor__max_depth=7, stacking__rnd_regressor__max_features=sqrt, stacking__rnd_regressor__min_samples_leaf=1, stacking__rnd_regressor__min_samples_split=2, stacking__rnd_regressor__n_estimators=300, stacking__rnd_regressor__n_jobs=-1, stacking__rnd_regressor__random_state=42, stacking__xgb_regressor__learning_rate=0.01, stacking__xgb_regressor__max_depth=3, stacking__xgb_regressor__n_estimators=300, stacking__xgb_regressor__objective=reg:squarederror, stacking__xgb_regressor__random_state=42, svd__n_components=100, svd__random_state=42, tfidf__analyzer=word, tfidf__max_df=0.75, tfidf__max_features=2000, tfidf__min_df=2, tfidf__ngram_range=(1, 2), tfidf__stop_words=['english'], tfidf__sublinear_tf=False, tfidf__use_idf=False; total time= 1.1min\n",
      "[CV] END stacking__elasticnet__alpha=1.0, stacking__elasticnet__l1_ratio=0.1, stacking__elasticnet__random_state=42, stacking__final_estimator__max_depth=4, stacking__final_estimator__n_estimators=200, stacking__final_estimator__random_state=42, stacking__rnd_regressor__bootstrap=True, stacking__rnd_regressor__criterion=poisson, stacking__rnd_regressor__max_depth=7, stacking__rnd_regressor__max_features=sqrt, stacking__rnd_regressor__min_samples_leaf=1, stacking__rnd_regressor__min_samples_split=2, stacking__rnd_regressor__n_estimators=300, stacking__rnd_regressor__n_jobs=-1, stacking__rnd_regressor__random_state=42, stacking__xgb_regressor__learning_rate=0.01, stacking__xgb_regressor__max_depth=3, stacking__xgb_regressor__n_estimators=300, stacking__xgb_regressor__objective=reg:squarederror, stacking__xgb_regressor__random_state=42, svd__n_components=200, svd__random_state=42, tfidf__analyzer=word, tfidf__max_df=0.75, tfidf__max_features=2000, tfidf__min_df=2, tfidf__ngram_range=(1, 2), tfidf__stop_words=['english'], tfidf__sublinear_tf=False, tfidf__use_idf=False; total time= 1.7min\n",
      "[CV] END stacking__elasticnet__alpha=1.0, stacking__elasticnet__l1_ratio=0.1, stacking__elasticnet__random_state=42, stacking__final_estimator__max_depth=4, stacking__final_estimator__n_estimators=200, stacking__final_estimator__random_state=42, stacking__rnd_regressor__bootstrap=True, stacking__rnd_regressor__criterion=poisson, stacking__rnd_regressor__max_depth=7, stacking__rnd_regressor__max_features=sqrt, stacking__rnd_regressor__min_samples_leaf=1, stacking__rnd_regressor__min_samples_split=2, stacking__rnd_regressor__n_estimators=300, stacking__rnd_regressor__n_jobs=-1, stacking__rnd_regressor__random_state=42, stacking__xgb_regressor__learning_rate=0.01, stacking__xgb_regressor__max_depth=3, stacking__xgb_regressor__n_estimators=300, stacking__xgb_regressor__objective=reg:squarederror, stacking__xgb_regressor__random_state=42, svd__n_components=200, svd__random_state=42, tfidf__analyzer=word, tfidf__max_df=0.75, tfidf__max_features=2000, tfidf__min_df=2, tfidf__ngram_range=(1, 2), tfidf__stop_words=['english'], tfidf__sublinear_tf=False, tfidf__use_idf=False; total time= 1.7min\n",
      "[CV] END stacking__elasticnet__alpha=1.0, stacking__elasticnet__l1_ratio=0.1, stacking__elasticnet__random_state=42, stacking__final_estimator__max_depth=4, stacking__final_estimator__n_estimators=200, stacking__final_estimator__random_state=42, stacking__rnd_regressor__bootstrap=True, stacking__rnd_regressor__criterion=poisson, stacking__rnd_regressor__max_depth=7, stacking__rnd_regressor__max_features=sqrt, stacking__rnd_regressor__min_samples_leaf=1, stacking__rnd_regressor__min_samples_split=2, stacking__rnd_regressor__n_estimators=300, stacking__rnd_regressor__n_jobs=-1, stacking__rnd_regressor__random_state=42, stacking__xgb_regressor__learning_rate=0.01, stacking__xgb_regressor__max_depth=3, stacking__xgb_regressor__n_estimators=300, stacking__xgb_regressor__objective=reg:squarederror, stacking__xgb_regressor__random_state=42, svd__n_components=200, svd__random_state=42, tfidf__analyzer=word, tfidf__max_df=0.75, tfidf__max_features=2000, tfidf__min_df=2, tfidf__ngram_range=(1, 2), tfidf__stop_words=['english'], tfidf__sublinear_tf=False, tfidf__use_idf=False; total time= 1.7min\n",
      "[CV] END stacking__elasticnet__alpha=1.0, stacking__elasticnet__l1_ratio=0.1, stacking__elasticnet__random_state=42, stacking__final_estimator__max_depth=4, stacking__final_estimator__n_estimators=200, stacking__final_estimator__random_state=42, stacking__rnd_regressor__bootstrap=True, stacking__rnd_regressor__criterion=poisson, stacking__rnd_regressor__max_depth=7, stacking__rnd_regressor__max_features=sqrt, stacking__rnd_regressor__min_samples_leaf=1, stacking__rnd_regressor__min_samples_split=2, stacking__rnd_regressor__n_estimators=300, stacking__rnd_regressor__n_jobs=-1, stacking__rnd_regressor__random_state=42, stacking__xgb_regressor__learning_rate=0.01, stacking__xgb_regressor__max_depth=3, stacking__xgb_regressor__n_estimators=300, stacking__xgb_regressor__objective=reg:squarederror, stacking__xgb_regressor__random_state=42, svd__n_components=200, svd__random_state=42, tfidf__analyzer=word, tfidf__max_df=0.75, tfidf__max_features=2000, tfidf__min_df=2, tfidf__ngram_range=(1, 2), tfidf__stop_words=['english'], tfidf__sublinear_tf=False, tfidf__use_idf=False; total time= 1.8min\n",
      "[CV] END stacking__elasticnet__alpha=1.0, stacking__elasticnet__l1_ratio=0.1, stacking__elasticnet__random_state=42, stacking__final_estimator__max_depth=4, stacking__final_estimator__n_estimators=200, stacking__final_estimator__random_state=42, stacking__rnd_regressor__bootstrap=True, stacking__rnd_regressor__criterion=poisson, stacking__rnd_regressor__max_depth=7, stacking__rnd_regressor__max_features=sqrt, stacking__rnd_regressor__min_samples_leaf=1, stacking__rnd_regressor__min_samples_split=2, stacking__rnd_regressor__n_estimators=300, stacking__rnd_regressor__n_jobs=-1, stacking__rnd_regressor__random_state=42, stacking__xgb_regressor__learning_rate=0.01, stacking__xgb_regressor__max_depth=3, stacking__xgb_regressor__n_estimators=300, stacking__xgb_regressor__objective=reg:squarederror, stacking__xgb_regressor__random_state=42, svd__n_components=200, svd__random_state=42, tfidf__analyzer=word, tfidf__max_df=0.75, tfidf__max_features=2000, tfidf__min_df=2, tfidf__ngram_range=(1, 2), tfidf__stop_words=['english'], tfidf__sublinear_tf=False, tfidf__use_idf=False; total time= 3.3min\n",
      "[CV] END stacking__elasticnet__alpha=1.0, stacking__elasticnet__l1_ratio=0.1, stacking__elasticnet__random_state=42, stacking__final_estimator__max_depth=4, stacking__final_estimator__n_estimators=200, stacking__final_estimator__random_state=42, stacking__rnd_regressor__bootstrap=True, stacking__rnd_regressor__criterion=poisson, stacking__rnd_regressor__max_depth=7, stacking__rnd_regressor__max_features=sqrt, stacking__rnd_regressor__min_samples_leaf=1, stacking__rnd_regressor__min_samples_split=2, stacking__rnd_regressor__n_estimators=500, stacking__rnd_regressor__n_jobs=-1, stacking__rnd_regressor__random_state=42, stacking__xgb_regressor__learning_rate=0.01, stacking__xgb_regressor__max_depth=3, stacking__xgb_regressor__n_estimators=300, stacking__xgb_regressor__objective=reg:squarederror, stacking__xgb_regressor__random_state=42, svd__n_components=100, svd__random_state=42, tfidf__analyzer=word, tfidf__max_df=0.8, tfidf__max_features=2000, tfidf__min_df=2, tfidf__ngram_range=(1, 2), tfidf__stop_words=['english'], tfidf__sublinear_tf=False, tfidf__use_idf=False; total time= 1.2min\n",
      "[CV] END stacking__elasticnet__alpha=1.0, stacking__elasticnet__l1_ratio=0.1, stacking__elasticnet__random_state=42, stacking__final_estimator__max_depth=4, stacking__final_estimator__n_estimators=200, stacking__final_estimator__random_state=42, stacking__rnd_regressor__bootstrap=True, stacking__rnd_regressor__criterion=poisson, stacking__rnd_regressor__max_depth=7, stacking__rnd_regressor__max_features=sqrt, stacking__rnd_regressor__min_samples_leaf=1, stacking__rnd_regressor__min_samples_split=2, stacking__rnd_regressor__n_estimators=500, stacking__rnd_regressor__n_jobs=-1, stacking__rnd_regressor__random_state=42, stacking__xgb_regressor__learning_rate=0.01, stacking__xgb_regressor__max_depth=3, stacking__xgb_regressor__n_estimators=300, stacking__xgb_regressor__objective=reg:squarederror, stacking__xgb_regressor__random_state=42, svd__n_components=100, svd__random_state=42, tfidf__analyzer=word, tfidf__max_df=0.8, tfidf__max_features=2000, tfidf__min_df=2, tfidf__ngram_range=(1, 2), tfidf__stop_words=['english'], tfidf__sublinear_tf=False, tfidf__use_idf=False; total time= 1.1min\n",
      "[CV] END stacking__elasticnet__alpha=1.0, stacking__elasticnet__l1_ratio=0.1, stacking__elasticnet__random_state=42, stacking__final_estimator__max_depth=4, stacking__final_estimator__n_estimators=200, stacking__final_estimator__random_state=42, stacking__rnd_regressor__bootstrap=True, stacking__rnd_regressor__criterion=poisson, stacking__rnd_regressor__max_depth=7, stacking__rnd_regressor__max_features=sqrt, stacking__rnd_regressor__min_samples_leaf=1, stacking__rnd_regressor__min_samples_split=2, stacking__rnd_regressor__n_estimators=500, stacking__rnd_regressor__n_jobs=-1, stacking__rnd_regressor__random_state=42, stacking__xgb_regressor__learning_rate=0.01, stacking__xgb_regressor__max_depth=3, stacking__xgb_regressor__n_estimators=300, stacking__xgb_regressor__objective=reg:squarederror, stacking__xgb_regressor__random_state=42, svd__n_components=100, svd__random_state=42, tfidf__analyzer=word, tfidf__max_df=0.8, tfidf__max_features=2000, tfidf__min_df=2, tfidf__ngram_range=(1, 2), tfidf__stop_words=['english'], tfidf__sublinear_tf=False, tfidf__use_idf=False; total time= 1.1min\n",
      "[CV] END stacking__elasticnet__alpha=1.0, stacking__elasticnet__l1_ratio=0.1, stacking__elasticnet__random_state=42, stacking__final_estimator__max_depth=4, stacking__final_estimator__n_estimators=200, stacking__final_estimator__random_state=42, stacking__rnd_regressor__bootstrap=True, stacking__rnd_regressor__criterion=poisson, stacking__rnd_regressor__max_depth=7, stacking__rnd_regressor__max_features=sqrt, stacking__rnd_regressor__min_samples_leaf=1, stacking__rnd_regressor__min_samples_split=2, stacking__rnd_regressor__n_estimators=500, stacking__rnd_regressor__n_jobs=-1, stacking__rnd_regressor__random_state=42, stacking__xgb_regressor__learning_rate=0.01, stacking__xgb_regressor__max_depth=3, stacking__xgb_regressor__n_estimators=300, stacking__xgb_regressor__objective=reg:squarederror, stacking__xgb_regressor__random_state=42, svd__n_components=100, svd__random_state=42, tfidf__analyzer=word, tfidf__max_df=0.8, tfidf__max_features=2000, tfidf__min_df=2, tfidf__ngram_range=(1, 2), tfidf__stop_words=['english'], tfidf__sublinear_tf=False, tfidf__use_idf=False; total time= 3.9min\n",
      "[CV] END stacking__elasticnet__alpha=1.0, stacking__elasticnet__l1_ratio=0.1, stacking__elasticnet__random_state=42, stacking__final_estimator__max_depth=4, stacking__final_estimator__n_estimators=200, stacking__final_estimator__random_state=42, stacking__rnd_regressor__bootstrap=True, stacking__rnd_regressor__criterion=poisson, stacking__rnd_regressor__max_depth=7, stacking__rnd_regressor__max_features=sqrt, stacking__rnd_regressor__min_samples_leaf=1, stacking__rnd_regressor__min_samples_split=2, stacking__rnd_regressor__n_estimators=500, stacking__rnd_regressor__n_jobs=-1, stacking__rnd_regressor__random_state=42, stacking__xgb_regressor__learning_rate=0.01, stacking__xgb_regressor__max_depth=3, stacking__xgb_regressor__n_estimators=300, stacking__xgb_regressor__objective=reg:squarederror, stacking__xgb_regressor__random_state=42, svd__n_components=100, svd__random_state=42, tfidf__analyzer=word, tfidf__max_df=0.8, tfidf__max_features=2000, tfidf__min_df=2, tfidf__ngram_range=(1, 2), tfidf__stop_words=['english'], tfidf__sublinear_tf=False, tfidf__use_idf=False; total time= 1.2min\n",
      "[CV] END stacking__elasticnet__alpha=1.0, stacking__elasticnet__l1_ratio=0.1, stacking__elasticnet__random_state=42, stacking__final_estimator__max_depth=4, stacking__final_estimator__n_estimators=200, stacking__final_estimator__random_state=42, stacking__rnd_regressor__bootstrap=True, stacking__rnd_regressor__criterion=squared_error, stacking__rnd_regressor__max_depth=7, stacking__rnd_regressor__max_features=sqrt, stacking__rnd_regressor__min_samples_leaf=1, stacking__rnd_regressor__min_samples_split=2, stacking__rnd_regressor__n_estimators=500, stacking__rnd_regressor__n_jobs=-1, stacking__rnd_regressor__random_state=42, stacking__xgb_regressor__learning_rate=0.01, stacking__xgb_regressor__max_depth=3, stacking__xgb_regressor__n_estimators=300, stacking__xgb_regressor__objective=reg:squarederror, stacking__xgb_regressor__random_state=42, svd__n_components=500, svd__random_state=42, tfidf__analyzer=word, tfidf__max_df=0.75, tfidf__max_features=2000, tfidf__min_df=2, tfidf__ngram_range=(1, 2), tfidf__stop_words=['english'], tfidf__sublinear_tf=False, tfidf__use_idf=False; total time= 3.9min\n",
      "[CV] END stacking__elasticnet__alpha=1.0, stacking__elasticnet__l1_ratio=0.1, stacking__elasticnet__random_state=42, stacking__final_estimator__max_depth=4, stacking__final_estimator__n_estimators=200, stacking__final_estimator__random_state=42, stacking__rnd_regressor__bootstrap=True, stacking__rnd_regressor__criterion=squared_error, stacking__rnd_regressor__max_depth=7, stacking__rnd_regressor__max_features=sqrt, stacking__rnd_regressor__min_samples_leaf=1, stacking__rnd_regressor__min_samples_split=2, stacking__rnd_regressor__n_estimators=500, stacking__rnd_regressor__n_jobs=-1, stacking__rnd_regressor__random_state=42, stacking__xgb_regressor__learning_rate=0.01, stacking__xgb_regressor__max_depth=3, stacking__xgb_regressor__n_estimators=300, stacking__xgb_regressor__objective=reg:squarederror, stacking__xgb_regressor__random_state=42, svd__n_components=500, svd__random_state=42, tfidf__analyzer=word, tfidf__max_df=0.75, tfidf__max_features=2000, tfidf__min_df=2, tfidf__ngram_range=(1, 2), tfidf__stop_words=['english'], tfidf__sublinear_tf=False, tfidf__use_idf=False; total time= 3.8min\n",
      "[CV] END stacking__elasticnet__alpha=1.0, stacking__elasticnet__l1_ratio=0.1, stacking__elasticnet__random_state=42, stacking__final_estimator__max_depth=4, stacking__final_estimator__n_estimators=200, stacking__final_estimator__random_state=42, stacking__rnd_regressor__bootstrap=True, stacking__rnd_regressor__criterion=squared_error, stacking__rnd_regressor__max_depth=7, stacking__rnd_regressor__max_features=sqrt, stacking__rnd_regressor__min_samples_leaf=1, stacking__rnd_regressor__min_samples_split=2, stacking__rnd_regressor__n_estimators=500, stacking__rnd_regressor__n_jobs=-1, stacking__rnd_regressor__random_state=42, stacking__xgb_regressor__learning_rate=0.01, stacking__xgb_regressor__max_depth=3, stacking__xgb_regressor__n_estimators=300, stacking__xgb_regressor__objective=reg:squarederror, stacking__xgb_regressor__random_state=42, svd__n_components=500, svd__random_state=42, tfidf__analyzer=word, tfidf__max_df=0.75, tfidf__max_features=2000, tfidf__min_df=2, tfidf__ngram_range=(1, 2), tfidf__stop_words=['english'], tfidf__sublinear_tf=False, tfidf__use_idf=False; total time= 4.1min\n",
      "[CV] END stacking__elasticnet__alpha=1.0, stacking__elasticnet__l1_ratio=0.1, stacking__elasticnet__random_state=42, stacking__final_estimator__max_depth=4, stacking__final_estimator__n_estimators=200, stacking__final_estimator__random_state=42, stacking__rnd_regressor__bootstrap=True, stacking__rnd_regressor__criterion=squared_error, stacking__rnd_regressor__max_depth=7, stacking__rnd_regressor__max_features=sqrt, stacking__rnd_regressor__min_samples_leaf=1, stacking__rnd_regressor__min_samples_split=2, stacking__rnd_regressor__n_estimators=500, stacking__rnd_regressor__n_jobs=-1, stacking__rnd_regressor__random_state=42, stacking__xgb_regressor__learning_rate=0.01, stacking__xgb_regressor__max_depth=3, stacking__xgb_regressor__n_estimators=300, stacking__xgb_regressor__objective=reg:squarederror, stacking__xgb_regressor__random_state=42, svd__n_components=500, svd__random_state=42, tfidf__analyzer=word, tfidf__max_df=0.75, tfidf__max_features=2000, tfidf__min_df=2, tfidf__ngram_range=(1, 2), tfidf__stop_words=['english'], tfidf__sublinear_tf=False, tfidf__use_idf=False; total time= 4.1min\n",
      "[CV] END stacking__elasticnet__alpha=1.0, stacking__elasticnet__l1_ratio=0.1, stacking__elasticnet__random_state=42, stacking__final_estimator__max_depth=4, stacking__final_estimator__n_estimators=200, stacking__final_estimator__random_state=42, stacking__rnd_regressor__bootstrap=True, stacking__rnd_regressor__criterion=squared_error, stacking__rnd_regressor__max_depth=7, stacking__rnd_regressor__max_features=sqrt, stacking__rnd_regressor__min_samples_leaf=1, stacking__rnd_regressor__min_samples_split=2, stacking__rnd_regressor__n_estimators=500, stacking__rnd_regressor__n_jobs=-1, stacking__rnd_regressor__random_state=42, stacking__xgb_regressor__learning_rate=0.01, stacking__xgb_regressor__max_depth=3, stacking__xgb_regressor__n_estimators=300, stacking__xgb_regressor__objective=reg:squarederror, stacking__xgb_regressor__random_state=42, svd__n_components=500, svd__random_state=42, tfidf__analyzer=word, tfidf__max_df=0.75, tfidf__max_features=2000, tfidf__min_df=2, tfidf__ngram_range=(1, 2), tfidf__stop_words=['english'], tfidf__sublinear_tf=False, tfidf__use_idf=False; total time= 4.5min\n",
      "[CV] END stacking__elasticnet__alpha=1.0, stacking__elasticnet__l1_ratio=0.1, stacking__elasticnet__random_state=42, stacking__final_estimator__max_depth=4, stacking__final_estimator__n_estimators=200, stacking__final_estimator__random_state=42, stacking__rnd_regressor__bootstrap=True, stacking__rnd_regressor__criterion=poisson, stacking__rnd_regressor__max_depth=7, stacking__rnd_regressor__max_features=sqrt, stacking__rnd_regressor__min_samples_leaf=1, stacking__rnd_regressor__min_samples_split=2, stacking__rnd_regressor__n_estimators=300, stacking__rnd_regressor__n_jobs=-1, stacking__rnd_regressor__random_state=42, stacking__xgb_regressor__learning_rate=0.01, stacking__xgb_regressor__max_depth=3, stacking__xgb_regressor__n_estimators=300, stacking__xgb_regressor__objective=reg:squarederror, stacking__xgb_regressor__random_state=42, svd__n_components=500, svd__random_state=42, tfidf__analyzer=word, tfidf__max_df=0.75, tfidf__max_features=2000, tfidf__min_df=2, tfidf__ngram_range=(1, 2), tfidf__stop_words=['english'], tfidf__sublinear_tf=False, tfidf__use_idf=False; total time= 5.9min\n",
      "[CV] END stacking__elasticnet__alpha=1.0, stacking__elasticnet__l1_ratio=0.1, stacking__elasticnet__random_state=42, stacking__final_estimator__max_depth=4, stacking__final_estimator__n_estimators=200, stacking__final_estimator__random_state=42, stacking__rnd_regressor__bootstrap=True, stacking__rnd_regressor__criterion=poisson, stacking__rnd_regressor__max_depth=7, stacking__rnd_regressor__max_features=sqrt, stacking__rnd_regressor__min_samples_leaf=1, stacking__rnd_regressor__min_samples_split=2, stacking__rnd_regressor__n_estimators=300, stacking__rnd_regressor__n_jobs=-1, stacking__rnd_regressor__random_state=42, stacking__xgb_regressor__learning_rate=0.01, stacking__xgb_regressor__max_depth=3, stacking__xgb_regressor__n_estimators=300, stacking__xgb_regressor__objective=reg:squarederror, stacking__xgb_regressor__random_state=42, svd__n_components=500, svd__random_state=42, tfidf__analyzer=word, tfidf__max_df=0.75, tfidf__max_features=2000, tfidf__min_df=2, tfidf__ngram_range=(1, 2), tfidf__stop_words=['english'], tfidf__sublinear_tf=False, tfidf__use_idf=False; total time= 3.5min\n",
      "[CV] END stacking__elasticnet__alpha=1.0, stacking__elasticnet__l1_ratio=0.1, stacking__elasticnet__random_state=42, stacking__final_estimator__max_depth=4, stacking__final_estimator__n_estimators=200, stacking__final_estimator__random_state=42, stacking__rnd_regressor__bootstrap=True, stacking__rnd_regressor__criterion=poisson, stacking__rnd_regressor__max_depth=7, stacking__rnd_regressor__max_features=sqrt, stacking__rnd_regressor__min_samples_leaf=1, stacking__rnd_regressor__min_samples_split=2, stacking__rnd_regressor__n_estimators=300, stacking__rnd_regressor__n_jobs=-1, stacking__rnd_regressor__random_state=42, stacking__xgb_regressor__learning_rate=0.01, stacking__xgb_regressor__max_depth=3, stacking__xgb_regressor__n_estimators=300, stacking__xgb_regressor__objective=reg:squarederror, stacking__xgb_regressor__random_state=42, svd__n_components=500, svd__random_state=42, tfidf__analyzer=word, tfidf__max_df=0.75, tfidf__max_features=2000, tfidf__min_df=2, tfidf__ngram_range=(1, 2), tfidf__stop_words=['english'], tfidf__sublinear_tf=False, tfidf__use_idf=False; total time= 3.9min\n",
      "[CV] END stacking__elasticnet__alpha=1.0, stacking__elasticnet__l1_ratio=0.1, stacking__elasticnet__random_state=42, stacking__final_estimator__max_depth=4, stacking__final_estimator__n_estimators=200, stacking__final_estimator__random_state=42, stacking__rnd_regressor__bootstrap=True, stacking__rnd_regressor__criterion=poisson, stacking__rnd_regressor__max_depth=7, stacking__rnd_regressor__max_features=sqrt, stacking__rnd_regressor__min_samples_leaf=1, stacking__rnd_regressor__min_samples_split=2, stacking__rnd_regressor__n_estimators=300, stacking__rnd_regressor__n_jobs=-1, stacking__rnd_regressor__random_state=42, stacking__xgb_regressor__learning_rate=0.01, stacking__xgb_regressor__max_depth=3, stacking__xgb_regressor__n_estimators=300, stacking__xgb_regressor__objective=reg:squarederror, stacking__xgb_regressor__random_state=42, svd__n_components=500, svd__random_state=42, tfidf__analyzer=word, tfidf__max_df=0.75, tfidf__max_features=2000, tfidf__min_df=2, tfidf__ngram_range=(1, 2), tfidf__stop_words=['english'], tfidf__sublinear_tf=False, tfidf__use_idf=False; total time= 3.5min\n",
      "[CV] END stacking__elasticnet__alpha=1.0, stacking__elasticnet__l1_ratio=0.1, stacking__elasticnet__random_state=42, stacking__final_estimator__max_depth=4, stacking__final_estimator__n_estimators=200, stacking__final_estimator__random_state=42, stacking__rnd_regressor__bootstrap=True, stacking__rnd_regressor__criterion=poisson, stacking__rnd_regressor__max_depth=7, stacking__rnd_regressor__max_features=sqrt, stacking__rnd_regressor__min_samples_leaf=1, stacking__rnd_regressor__min_samples_split=2, stacking__rnd_regressor__n_estimators=300, stacking__rnd_regressor__n_jobs=-1, stacking__rnd_regressor__random_state=42, stacking__xgb_regressor__learning_rate=0.01, stacking__xgb_regressor__max_depth=3, stacking__xgb_regressor__n_estimators=300, stacking__xgb_regressor__objective=reg:squarederror, stacking__xgb_regressor__random_state=42, svd__n_components=500, svd__random_state=42, tfidf__analyzer=word, tfidf__max_df=0.75, tfidf__max_features=2000, tfidf__min_df=2, tfidf__ngram_range=(1, 2), tfidf__stop_words=['english'], tfidf__sublinear_tf=False, tfidf__use_idf=False; total time= 3.2min\n",
      "[CV] END stacking__elasticnet__alpha=1.0, stacking__elasticnet__l1_ratio=0.1, stacking__elasticnet__random_state=42, stacking__final_estimator__max_depth=4, stacking__final_estimator__n_estimators=200, stacking__final_estimator__random_state=42, stacking__rnd_regressor__bootstrap=True, stacking__rnd_regressor__criterion=squared_error, stacking__rnd_regressor__max_depth=7, stacking__rnd_regressor__max_features=sqrt, stacking__rnd_regressor__min_samples_leaf=1, stacking__rnd_regressor__min_samples_split=2, stacking__rnd_regressor__n_estimators=500, stacking__rnd_regressor__n_jobs=-1, stacking__rnd_regressor__random_state=42, stacking__xgb_regressor__learning_rate=0.01, stacking__xgb_regressor__max_depth=3, stacking__xgb_regressor__n_estimators=300, stacking__xgb_regressor__objective=reg:squarederror, stacking__xgb_regressor__random_state=42, svd__n_components=100, svd__random_state=42, tfidf__analyzer=word, tfidf__max_df=0.75, tfidf__max_features=2000, tfidf__min_df=2, tfidf__ngram_range=(1, 2), tfidf__stop_words=['english'], tfidf__sublinear_tf=False, tfidf__use_idf=False; total time= 1.4min\n",
      "[CV] END stacking__elasticnet__alpha=1.0, stacking__elasticnet__l1_ratio=0.1, stacking__elasticnet__random_state=42, stacking__final_estimator__max_depth=4, stacking__final_estimator__n_estimators=200, stacking__final_estimator__random_state=42, stacking__rnd_regressor__bootstrap=True, stacking__rnd_regressor__criterion=squared_error, stacking__rnd_regressor__max_depth=7, stacking__rnd_regressor__max_features=sqrt, stacking__rnd_regressor__min_samples_leaf=1, stacking__rnd_regressor__min_samples_split=2, stacking__rnd_regressor__n_estimators=500, stacking__rnd_regressor__n_jobs=-1, stacking__rnd_regressor__random_state=42, stacking__xgb_regressor__learning_rate=0.01, stacking__xgb_regressor__max_depth=3, stacking__xgb_regressor__n_estimators=300, stacking__xgb_regressor__objective=reg:squarederror, stacking__xgb_regressor__random_state=42, svd__n_components=100, svd__random_state=42, tfidf__analyzer=word, tfidf__max_df=0.75, tfidf__max_features=2000, tfidf__min_df=2, tfidf__ngram_range=(1, 2), tfidf__stop_words=['english'], tfidf__sublinear_tf=False, tfidf__use_idf=False; total time= 2.8min\n",
      "[CV] END stacking__elasticnet__alpha=1.0, stacking__elasticnet__l1_ratio=0.1, stacking__elasticnet__random_state=42, stacking__final_estimator__max_depth=4, stacking__final_estimator__n_estimators=200, stacking__final_estimator__random_state=42, stacking__rnd_regressor__bootstrap=True, stacking__rnd_regressor__criterion=squared_error, stacking__rnd_regressor__max_depth=7, stacking__rnd_regressor__max_features=sqrt, stacking__rnd_regressor__min_samples_leaf=1, stacking__rnd_regressor__min_samples_split=2, stacking__rnd_regressor__n_estimators=500, stacking__rnd_regressor__n_jobs=-1, stacking__rnd_regressor__random_state=42, stacking__xgb_regressor__learning_rate=0.01, stacking__xgb_regressor__max_depth=3, stacking__xgb_regressor__n_estimators=300, stacking__xgb_regressor__objective=reg:squarederror, stacking__xgb_regressor__random_state=42, svd__n_components=100, svd__random_state=42, tfidf__analyzer=word, tfidf__max_df=0.75, tfidf__max_features=2000, tfidf__min_df=2, tfidf__ngram_range=(1, 2), tfidf__stop_words=['english'], tfidf__sublinear_tf=False, tfidf__use_idf=False; total time= 1.5min\n",
      "[CV] END stacking__elasticnet__alpha=1.0, stacking__elasticnet__l1_ratio=0.1, stacking__elasticnet__random_state=42, stacking__final_estimator__max_depth=4, stacking__final_estimator__n_estimators=200, stacking__final_estimator__random_state=42, stacking__rnd_regressor__bootstrap=True, stacking__rnd_regressor__criterion=squared_error, stacking__rnd_regressor__max_depth=7, stacking__rnd_regressor__max_features=sqrt, stacking__rnd_regressor__min_samples_leaf=1, stacking__rnd_regressor__min_samples_split=2, stacking__rnd_regressor__n_estimators=500, stacking__rnd_regressor__n_jobs=-1, stacking__rnd_regressor__random_state=42, stacking__xgb_regressor__learning_rate=0.01, stacking__xgb_regressor__max_depth=3, stacking__xgb_regressor__n_estimators=300, stacking__xgb_regressor__objective=reg:squarederror, stacking__xgb_regressor__random_state=42, svd__n_components=100, svd__random_state=42, tfidf__analyzer=word, tfidf__max_df=0.75, tfidf__max_features=2000, tfidf__min_df=2, tfidf__ngram_range=(1, 2), tfidf__stop_words=['english'], tfidf__sublinear_tf=False, tfidf__use_idf=False; total time= 1.4min\n",
      "[CV] END stacking__elasticnet__alpha=1.0, stacking__elasticnet__l1_ratio=0.1, stacking__elasticnet__random_state=42, stacking__final_estimator__max_depth=4, stacking__final_estimator__n_estimators=200, stacking__final_estimator__random_state=42, stacking__rnd_regressor__bootstrap=True, stacking__rnd_regressor__criterion=squared_error, stacking__rnd_regressor__max_depth=7, stacking__rnd_regressor__max_features=sqrt, stacking__rnd_regressor__min_samples_leaf=1, stacking__rnd_regressor__min_samples_split=2, stacking__rnd_regressor__n_estimators=500, stacking__rnd_regressor__n_jobs=-1, stacking__rnd_regressor__random_state=42, stacking__xgb_regressor__learning_rate=0.01, stacking__xgb_regressor__max_depth=3, stacking__xgb_regressor__n_estimators=300, stacking__xgb_regressor__objective=reg:squarederror, stacking__xgb_regressor__random_state=42, svd__n_components=100, svd__random_state=42, tfidf__analyzer=word, tfidf__max_df=0.75, tfidf__max_features=2000, tfidf__min_df=2, tfidf__ngram_range=(1, 2), tfidf__stop_words=['english'], tfidf__sublinear_tf=False, tfidf__use_idf=False; total time= 1.1min\n",
      "[CV] END stacking__elasticnet__alpha=1.0, stacking__elasticnet__l1_ratio=0.1, stacking__elasticnet__random_state=42, stacking__final_estimator__max_depth=4, stacking__final_estimator__n_estimators=300, stacking__final_estimator__random_state=42, stacking__rnd_regressor__bootstrap=True, stacking__rnd_regressor__criterion=poisson, stacking__rnd_regressor__max_depth=7, stacking__rnd_regressor__max_features=sqrt, stacking__rnd_regressor__min_samples_leaf=1, stacking__rnd_regressor__min_samples_split=2, stacking__rnd_regressor__n_estimators=500, stacking__rnd_regressor__n_jobs=-1, stacking__rnd_regressor__random_state=42, stacking__xgb_regressor__learning_rate=0.01, stacking__xgb_regressor__max_depth=3, stacking__xgb_regressor__n_estimators=300, stacking__xgb_regressor__objective=reg:squarederror, stacking__xgb_regressor__random_state=42, svd__n_components=100, svd__random_state=42, tfidf__analyzer=word, tfidf__max_df=0.75, tfidf__max_features=2000, tfidf__min_df=2, tfidf__ngram_range=(1, 2), tfidf__stop_words=['english'], tfidf__sublinear_tf=False, tfidf__use_idf=False; total time= 3.8min\n",
      "[CV] END stacking__elasticnet__alpha=1.0, stacking__elasticnet__l1_ratio=0.1, stacking__elasticnet__random_state=42, stacking__final_estimator__max_depth=4, stacking__final_estimator__n_estimators=300, stacking__final_estimator__random_state=42, stacking__rnd_regressor__bootstrap=True, stacking__rnd_regressor__criterion=poisson, stacking__rnd_regressor__max_depth=7, stacking__rnd_regressor__max_features=sqrt, stacking__rnd_regressor__min_samples_leaf=1, stacking__rnd_regressor__min_samples_split=2, stacking__rnd_regressor__n_estimators=500, stacking__rnd_regressor__n_jobs=-1, stacking__rnd_regressor__random_state=42, stacking__xgb_regressor__learning_rate=0.01, stacking__xgb_regressor__max_depth=3, stacking__xgb_regressor__n_estimators=300, stacking__xgb_regressor__objective=reg:squarederror, stacking__xgb_regressor__random_state=42, svd__n_components=100, svd__random_state=42, tfidf__analyzer=word, tfidf__max_df=0.75, tfidf__max_features=2000, tfidf__min_df=2, tfidf__ngram_range=(1, 2), tfidf__stop_words=['english'], tfidf__sublinear_tf=False, tfidf__use_idf=False; total time= 1.6min\n",
      "[CV] END stacking__elasticnet__alpha=1.0, stacking__elasticnet__l1_ratio=0.1, stacking__elasticnet__random_state=42, stacking__final_estimator__max_depth=4, stacking__final_estimator__n_estimators=300, stacking__final_estimator__random_state=42, stacking__rnd_regressor__bootstrap=True, stacking__rnd_regressor__criterion=poisson, stacking__rnd_regressor__max_depth=7, stacking__rnd_regressor__max_features=sqrt, stacking__rnd_regressor__min_samples_leaf=1, stacking__rnd_regressor__min_samples_split=2, stacking__rnd_regressor__n_estimators=500, stacking__rnd_regressor__n_jobs=-1, stacking__rnd_regressor__random_state=42, stacking__xgb_regressor__learning_rate=0.01, stacking__xgb_regressor__max_depth=3, stacking__xgb_regressor__n_estimators=300, stacking__xgb_regressor__objective=reg:squarederror, stacking__xgb_regressor__random_state=42, svd__n_components=100, svd__random_state=42, tfidf__analyzer=word, tfidf__max_df=0.75, tfidf__max_features=2000, tfidf__min_df=2, tfidf__ngram_range=(1, 2), tfidf__stop_words=['english'], tfidf__sublinear_tf=False, tfidf__use_idf=False; total time= 1.7min\n",
      "[CV] END stacking__elasticnet__alpha=1.0, stacking__elasticnet__l1_ratio=0.1, stacking__elasticnet__random_state=42, stacking__final_estimator__max_depth=4, stacking__final_estimator__n_estimators=300, stacking__final_estimator__random_state=42, stacking__rnd_regressor__bootstrap=True, stacking__rnd_regressor__criterion=poisson, stacking__rnd_regressor__max_depth=7, stacking__rnd_regressor__max_features=sqrt, stacking__rnd_regressor__min_samples_leaf=1, stacking__rnd_regressor__min_samples_split=2, stacking__rnd_regressor__n_estimators=500, stacking__rnd_regressor__n_jobs=-1, stacking__rnd_regressor__random_state=42, stacking__xgb_regressor__learning_rate=0.01, stacking__xgb_regressor__max_depth=3, stacking__xgb_regressor__n_estimators=300, stacking__xgb_regressor__objective=reg:squarederror, stacking__xgb_regressor__random_state=42, svd__n_components=100, svd__random_state=42, tfidf__analyzer=word, tfidf__max_df=0.75, tfidf__max_features=2000, tfidf__min_df=2, tfidf__ngram_range=(1, 2), tfidf__stop_words=['english'], tfidf__sublinear_tf=False, tfidf__use_idf=False; total time= 1.2min\n",
      "[CV] END stacking__elasticnet__alpha=1.0, stacking__elasticnet__l1_ratio=0.1, stacking__elasticnet__random_state=42, stacking__final_estimator__max_depth=4, stacking__final_estimator__n_estimators=300, stacking__final_estimator__random_state=42, stacking__rnd_regressor__bootstrap=True, stacking__rnd_regressor__criterion=poisson, stacking__rnd_regressor__max_depth=7, stacking__rnd_regressor__max_features=sqrt, stacking__rnd_regressor__min_samples_leaf=1, stacking__rnd_regressor__min_samples_split=2, stacking__rnd_regressor__n_estimators=500, stacking__rnd_regressor__n_jobs=-1, stacking__rnd_regressor__random_state=42, stacking__xgb_regressor__learning_rate=0.01, stacking__xgb_regressor__max_depth=3, stacking__xgb_regressor__n_estimators=300, stacking__xgb_regressor__objective=reg:squarederror, stacking__xgb_regressor__random_state=42, svd__n_components=100, svd__random_state=42, tfidf__analyzer=word, tfidf__max_df=0.75, tfidf__max_features=2000, tfidf__min_df=2, tfidf__ngram_range=(1, 2), tfidf__stop_words=['english'], tfidf__sublinear_tf=False, tfidf__use_idf=False; total time= 1.2min\n"
     ]
    },
    {
     "name": "stderr",
     "output_type": "stream",
     "text": [
      "/home/users/pablo.prieto/.local/lib/python3.12/site-packages/numpy/ma/core.py:2846: RuntimeWarning: invalid value encountered in cast\n",
      "  _data = np.array(data, dtype=dtype, copy=copy,\n"
     ]
    },
    {
     "name": "stdout",
     "output_type": "stream",
     "text": [
      "folds:  5\n",
      "{'tfidf__use_idf': False, 'tfidf__sublinear_tf': False, 'tfidf__stop_words': ['english'], 'tfidf__ngram_range': (1, 2), 'tfidf__min_df': 2, 'tfidf__max_features': 2000, 'tfidf__max_df': 0.75, 'tfidf__analyzer': 'word', 'svd__random_state': 42, 'svd__n_components': 200, 'stacking__xgb_regressor__random_state': 42, 'stacking__xgb_regressor__objective': 'reg:squarederror', 'stacking__xgb_regressor__n_estimators': 300, 'stacking__xgb_regressor__max_depth': 3, 'stacking__xgb_regressor__learning_rate': 0.01, 'stacking__rnd_regressor__random_state': 42, 'stacking__rnd_regressor__n_jobs': -1, 'stacking__rnd_regressor__n_estimators': 300, 'stacking__rnd_regressor__min_samples_split': 2, 'stacking__rnd_regressor__min_samples_leaf': 1, 'stacking__rnd_regressor__max_features': 'sqrt', 'stacking__rnd_regressor__max_depth': 7, 'stacking__rnd_regressor__criterion': 'poisson', 'stacking__rnd_regressor__bootstrap': True, 'stacking__final_estimator__random_state': 42, 'stacking__final_estimator__n_estimators': 200, 'stacking__final_estimator__max_depth': 4, 'stacking__elasticnet__random_state': 42, 'stacking__elasticnet__l1_ratio': 0.1, 'stacking__elasticnet__alpha': 1.0}\n",
      "root_mean_squared_error:  3.016880682504209\n",
      " \n",
      "mean_test_score:  [2.9649236  2.98712476 3.01688068 2.9649236  2.9632774  2.97195867\n",
      " 2.9824436  3.0093965 ]\n",
      "Fitting 10 folds for each of 8 candidates, totalling 80 fits\n",
      "[CV] END stacking__elasticnet__alpha=1.0, stacking__elasticnet__l1_ratio=0.1, stacking__elasticnet__random_state=42, stacking__final_estimator__max_depth=4, stacking__final_estimator__n_estimators=200, stacking__final_estimator__random_state=42, stacking__rnd_regressor__bootstrap=True, stacking__rnd_regressor__criterion=poisson, stacking__rnd_regressor__max_depth=7, stacking__rnd_regressor__max_features=sqrt, stacking__rnd_regressor__min_samples_leaf=1, stacking__rnd_regressor__min_samples_split=2, stacking__rnd_regressor__n_estimators=500, stacking__rnd_regressor__n_jobs=-1, stacking__rnd_regressor__random_state=42, stacking__xgb_regressor__learning_rate=0.01, stacking__xgb_regressor__max_depth=3, stacking__xgb_regressor__n_estimators=300, stacking__xgb_regressor__objective=reg:squarederror, stacking__xgb_regressor__random_state=42, svd__n_components=100, svd__random_state=42, tfidf__analyzer=word, tfidf__max_df=0.75, tfidf__max_features=2000, tfidf__min_df=2, tfidf__ngram_range=(1, 2), tfidf__stop_words=['english'], tfidf__sublinear_tf=False, tfidf__use_idf=False; total time= 1.4min\n",
      "[CV] END stacking__elasticnet__alpha=1.0, stacking__elasticnet__l1_ratio=0.1, stacking__elasticnet__random_state=42, stacking__final_estimator__max_depth=4, stacking__final_estimator__n_estimators=200, stacking__final_estimator__random_state=42, stacking__rnd_regressor__bootstrap=True, stacking__rnd_regressor__criterion=poisson, stacking__rnd_regressor__max_depth=7, stacking__rnd_regressor__max_features=sqrt, stacking__rnd_regressor__min_samples_leaf=1, stacking__rnd_regressor__min_samples_split=2, stacking__rnd_regressor__n_estimators=500, stacking__rnd_regressor__n_jobs=-1, stacking__rnd_regressor__random_state=42, stacking__xgb_regressor__learning_rate=0.01, stacking__xgb_regressor__max_depth=3, stacking__xgb_regressor__n_estimators=300, stacking__xgb_regressor__objective=reg:squarederror, stacking__xgb_regressor__random_state=42, svd__n_components=100, svd__random_state=42, tfidf__analyzer=word, tfidf__max_df=0.75, tfidf__max_features=2000, tfidf__min_df=2, tfidf__ngram_range=(1, 2), tfidf__stop_words=['english'], tfidf__sublinear_tf=False, tfidf__use_idf=False; total time= 1.8min\n"
     ]
    },
    {
     "ename": "KeyboardInterrupt",
     "evalue": "",
     "output_type": "error",
     "traceback": [
      "\u001b[0;31m---------------------------------------------------------------------------\u001b[0m",
      "\u001b[0;31mKeyboardInterrupt\u001b[0m                         Traceback (most recent call last)",
      "Cell \u001b[0;32mIn[14], line 144\u001b[0m\n\u001b[1;32m    128\u001b[0m randomcv_it \u001b[38;5;241m=\u001b[39m RandomizedSearchCV(estimator \u001b[38;5;241m=\u001b[39m pipeline,\n\u001b[1;32m    129\u001b[0m                                  param_distributions \u001b[38;5;241m=\u001b[39m parameters,\n\u001b[1;32m    130\u001b[0m                                  scoring \u001b[38;5;241m=\u001b[39m scorer_fn,\n\u001b[0;32m   (...)\u001b[0m\n\u001b[1;32m    134\u001b[0m                                  n_jobs \u001b[38;5;241m=\u001b[39m \u001b[38;5;241m1\u001b[39m,\n\u001b[1;32m    135\u001b[0m                                  random_state \u001b[38;5;241m=\u001b[39m \u001b[38;5;241m42\u001b[39m)\n\u001b[1;32m    137\u001b[0m \u001b[38;5;66;03m# #Grid Search Cross Validation\u001b[39;00m\n\u001b[1;32m    138\u001b[0m \u001b[38;5;66;03m# randomcv_it = GridSearchCV(estimator = pipeline,\u001b[39;00m\n\u001b[1;32m    139\u001b[0m \u001b[38;5;66;03m#                                  param_grid = parameters,\u001b[39;00m\n\u001b[0;32m   (...)\u001b[0m\n\u001b[1;32m    142\u001b[0m \n\u001b[1;32m    143\u001b[0m \u001b[38;5;66;03m#Busco los hiperparamtros que optimizan F1 Score\u001b[39;00m\n\u001b[0;32m--> 144\u001b[0m \u001b[43mrandomcv_it\u001b[49m\u001b[38;5;241;43m.\u001b[39;49m\u001b[43mfit\u001b[49m\u001b[43m(\u001b[49m\u001b[43mx_train\u001b[49m\u001b[43m,\u001b[49m\u001b[43my_train\u001b[49m\u001b[43m)\u001b[49m;\n\u001b[1;32m    146\u001b[0m \u001b[38;5;66;03m#Mejores hiperparametros del arbol\u001b[39;00m\n\u001b[1;32m    147\u001b[0m \u001b[38;5;28mprint\u001b[39m(\u001b[38;5;124m\"\u001b[39m\u001b[38;5;124mfolds: \u001b[39m\u001b[38;5;124m\"\u001b[39m, folds)\n",
      "File \u001b[0;32m~/.local/lib/python3.12/site-packages/sklearn/base.py:1473\u001b[0m, in \u001b[0;36m_fit_context.<locals>.decorator.<locals>.wrapper\u001b[0;34m(estimator, *args, **kwargs)\u001b[0m\n\u001b[1;32m   1466\u001b[0m     estimator\u001b[38;5;241m.\u001b[39m_validate_params()\n\u001b[1;32m   1468\u001b[0m \u001b[38;5;28;01mwith\u001b[39;00m config_context(\n\u001b[1;32m   1469\u001b[0m     skip_parameter_validation\u001b[38;5;241m=\u001b[39m(\n\u001b[1;32m   1470\u001b[0m         prefer_skip_nested_validation \u001b[38;5;129;01mor\u001b[39;00m global_skip_validation\n\u001b[1;32m   1471\u001b[0m     )\n\u001b[1;32m   1472\u001b[0m ):\n\u001b[0;32m-> 1473\u001b[0m     \u001b[38;5;28;01mreturn\u001b[39;00m \u001b[43mfit_method\u001b[49m\u001b[43m(\u001b[49m\u001b[43mestimator\u001b[49m\u001b[43m,\u001b[49m\u001b[43m \u001b[49m\u001b[38;5;241;43m*\u001b[39;49m\u001b[43margs\u001b[49m\u001b[43m,\u001b[49m\u001b[43m \u001b[49m\u001b[38;5;241;43m*\u001b[39;49m\u001b[38;5;241;43m*\u001b[39;49m\u001b[43mkwargs\u001b[49m\u001b[43m)\u001b[49m\n",
      "File \u001b[0;32m~/.local/lib/python3.12/site-packages/sklearn/model_selection/_search.py:1019\u001b[0m, in \u001b[0;36mBaseSearchCV.fit\u001b[0;34m(self, X, y, **params)\u001b[0m\n\u001b[1;32m   1013\u001b[0m     results \u001b[38;5;241m=\u001b[39m \u001b[38;5;28mself\u001b[39m\u001b[38;5;241m.\u001b[39m_format_results(\n\u001b[1;32m   1014\u001b[0m         all_candidate_params, n_splits, all_out, all_more_results\n\u001b[1;32m   1015\u001b[0m     )\n\u001b[1;32m   1017\u001b[0m     \u001b[38;5;28;01mreturn\u001b[39;00m results\n\u001b[0;32m-> 1019\u001b[0m \u001b[38;5;28;43mself\u001b[39;49m\u001b[38;5;241;43m.\u001b[39;49m\u001b[43m_run_search\u001b[49m\u001b[43m(\u001b[49m\u001b[43mevaluate_candidates\u001b[49m\u001b[43m)\u001b[49m\n\u001b[1;32m   1021\u001b[0m \u001b[38;5;66;03m# multimetric is determined here because in the case of a callable\u001b[39;00m\n\u001b[1;32m   1022\u001b[0m \u001b[38;5;66;03m# self.scoring the return type is only known after calling\u001b[39;00m\n\u001b[1;32m   1023\u001b[0m first_test_score \u001b[38;5;241m=\u001b[39m all_out[\u001b[38;5;241m0\u001b[39m][\u001b[38;5;124m\"\u001b[39m\u001b[38;5;124mtest_scores\u001b[39m\u001b[38;5;124m\"\u001b[39m]\n",
      "File \u001b[0;32m~/.local/lib/python3.12/site-packages/sklearn/model_selection/_search.py:1960\u001b[0m, in \u001b[0;36mRandomizedSearchCV._run_search\u001b[0;34m(self, evaluate_candidates)\u001b[0m\n\u001b[1;32m   1958\u001b[0m \u001b[38;5;28;01mdef\u001b[39;00m \u001b[38;5;21m_run_search\u001b[39m(\u001b[38;5;28mself\u001b[39m, evaluate_candidates):\n\u001b[1;32m   1959\u001b[0m \u001b[38;5;250m    \u001b[39m\u001b[38;5;124;03m\"\"\"Search n_iter candidates from param_distributions\"\"\"\u001b[39;00m\n\u001b[0;32m-> 1960\u001b[0m     \u001b[43mevaluate_candidates\u001b[49m\u001b[43m(\u001b[49m\n\u001b[1;32m   1961\u001b[0m \u001b[43m        \u001b[49m\u001b[43mParameterSampler\u001b[49m\u001b[43m(\u001b[49m\n\u001b[1;32m   1962\u001b[0m \u001b[43m            \u001b[49m\u001b[38;5;28;43mself\u001b[39;49m\u001b[38;5;241;43m.\u001b[39;49m\u001b[43mparam_distributions\u001b[49m\u001b[43m,\u001b[49m\u001b[43m \u001b[49m\u001b[38;5;28;43mself\u001b[39;49m\u001b[38;5;241;43m.\u001b[39;49m\u001b[43mn_iter\u001b[49m\u001b[43m,\u001b[49m\u001b[43m \u001b[49m\u001b[43mrandom_state\u001b[49m\u001b[38;5;241;43m=\u001b[39;49m\u001b[38;5;28;43mself\u001b[39;49m\u001b[38;5;241;43m.\u001b[39;49m\u001b[43mrandom_state\u001b[49m\n\u001b[1;32m   1963\u001b[0m \u001b[43m        \u001b[49m\u001b[43m)\u001b[49m\n\u001b[1;32m   1964\u001b[0m \u001b[43m    \u001b[49m\u001b[43m)\u001b[49m\n",
      "File \u001b[0;32m~/.local/lib/python3.12/site-packages/sklearn/model_selection/_search.py:965\u001b[0m, in \u001b[0;36mBaseSearchCV.fit.<locals>.evaluate_candidates\u001b[0;34m(candidate_params, cv, more_results)\u001b[0m\n\u001b[1;32m    957\u001b[0m \u001b[38;5;28;01mif\u001b[39;00m \u001b[38;5;28mself\u001b[39m\u001b[38;5;241m.\u001b[39mverbose \u001b[38;5;241m>\u001b[39m \u001b[38;5;241m0\u001b[39m:\n\u001b[1;32m    958\u001b[0m     \u001b[38;5;28mprint\u001b[39m(\n\u001b[1;32m    959\u001b[0m         \u001b[38;5;124m\"\u001b[39m\u001b[38;5;124mFitting \u001b[39m\u001b[38;5;132;01m{0}\u001b[39;00m\u001b[38;5;124m folds for each of \u001b[39m\u001b[38;5;132;01m{1}\u001b[39;00m\u001b[38;5;124m candidates,\u001b[39m\u001b[38;5;124m\"\u001b[39m\n\u001b[1;32m    960\u001b[0m         \u001b[38;5;124m\"\u001b[39m\u001b[38;5;124m totalling \u001b[39m\u001b[38;5;132;01m{2}\u001b[39;00m\u001b[38;5;124m fits\u001b[39m\u001b[38;5;124m\"\u001b[39m\u001b[38;5;241m.\u001b[39mformat(\n\u001b[1;32m    961\u001b[0m             n_splits, n_candidates, n_candidates \u001b[38;5;241m*\u001b[39m n_splits\n\u001b[1;32m    962\u001b[0m         )\n\u001b[1;32m    963\u001b[0m     )\n\u001b[0;32m--> 965\u001b[0m out \u001b[38;5;241m=\u001b[39m \u001b[43mparallel\u001b[49m\u001b[43m(\u001b[49m\n\u001b[1;32m    966\u001b[0m \u001b[43m    \u001b[49m\u001b[43mdelayed\u001b[49m\u001b[43m(\u001b[49m\u001b[43m_fit_and_score\u001b[49m\u001b[43m)\u001b[49m\u001b[43m(\u001b[49m\n\u001b[1;32m    967\u001b[0m \u001b[43m        \u001b[49m\u001b[43mclone\u001b[49m\u001b[43m(\u001b[49m\u001b[43mbase_estimator\u001b[49m\u001b[43m)\u001b[49m\u001b[43m,\u001b[49m\n\u001b[1;32m    968\u001b[0m \u001b[43m        \u001b[49m\u001b[43mX\u001b[49m\u001b[43m,\u001b[49m\n\u001b[1;32m    969\u001b[0m \u001b[43m        \u001b[49m\u001b[43my\u001b[49m\u001b[43m,\u001b[49m\n\u001b[1;32m    970\u001b[0m \u001b[43m        \u001b[49m\u001b[43mtrain\u001b[49m\u001b[38;5;241;43m=\u001b[39;49m\u001b[43mtrain\u001b[49m\u001b[43m,\u001b[49m\n\u001b[1;32m    971\u001b[0m \u001b[43m        \u001b[49m\u001b[43mtest\u001b[49m\u001b[38;5;241;43m=\u001b[39;49m\u001b[43mtest\u001b[49m\u001b[43m,\u001b[49m\n\u001b[1;32m    972\u001b[0m \u001b[43m        \u001b[49m\u001b[43mparameters\u001b[49m\u001b[38;5;241;43m=\u001b[39;49m\u001b[43mparameters\u001b[49m\u001b[43m,\u001b[49m\n\u001b[1;32m    973\u001b[0m \u001b[43m        \u001b[49m\u001b[43msplit_progress\u001b[49m\u001b[38;5;241;43m=\u001b[39;49m\u001b[43m(\u001b[49m\u001b[43msplit_idx\u001b[49m\u001b[43m,\u001b[49m\u001b[43m \u001b[49m\u001b[43mn_splits\u001b[49m\u001b[43m)\u001b[49m\u001b[43m,\u001b[49m\n\u001b[1;32m    974\u001b[0m \u001b[43m        \u001b[49m\u001b[43mcandidate_progress\u001b[49m\u001b[38;5;241;43m=\u001b[39;49m\u001b[43m(\u001b[49m\u001b[43mcand_idx\u001b[49m\u001b[43m,\u001b[49m\u001b[43m \u001b[49m\u001b[43mn_candidates\u001b[49m\u001b[43m)\u001b[49m\u001b[43m,\u001b[49m\n\u001b[1;32m    975\u001b[0m \u001b[43m        \u001b[49m\u001b[38;5;241;43m*\u001b[39;49m\u001b[38;5;241;43m*\u001b[39;49m\u001b[43mfit_and_score_kwargs\u001b[49m\u001b[43m,\u001b[49m\n\u001b[1;32m    976\u001b[0m \u001b[43m    \u001b[49m\u001b[43m)\u001b[49m\n\u001b[1;32m    977\u001b[0m \u001b[43m    \u001b[49m\u001b[38;5;28;43;01mfor\u001b[39;49;00m\u001b[43m \u001b[49m\u001b[43m(\u001b[49m\u001b[43mcand_idx\u001b[49m\u001b[43m,\u001b[49m\u001b[43m \u001b[49m\u001b[43mparameters\u001b[49m\u001b[43m)\u001b[49m\u001b[43m,\u001b[49m\u001b[43m \u001b[49m\u001b[43m(\u001b[49m\u001b[43msplit_idx\u001b[49m\u001b[43m,\u001b[49m\u001b[43m \u001b[49m\u001b[43m(\u001b[49m\u001b[43mtrain\u001b[49m\u001b[43m,\u001b[49m\u001b[43m \u001b[49m\u001b[43mtest\u001b[49m\u001b[43m)\u001b[49m\u001b[43m)\u001b[49m\u001b[43m \u001b[49m\u001b[38;5;129;43;01min\u001b[39;49;00m\u001b[43m \u001b[49m\u001b[43mproduct\u001b[49m\u001b[43m(\u001b[49m\n\u001b[1;32m    978\u001b[0m \u001b[43m        \u001b[49m\u001b[38;5;28;43menumerate\u001b[39;49m\u001b[43m(\u001b[49m\u001b[43mcandidate_params\u001b[49m\u001b[43m)\u001b[49m\u001b[43m,\u001b[49m\n\u001b[1;32m    979\u001b[0m \u001b[43m        \u001b[49m\u001b[38;5;28;43menumerate\u001b[39;49m\u001b[43m(\u001b[49m\u001b[43mcv\u001b[49m\u001b[38;5;241;43m.\u001b[39;49m\u001b[43msplit\u001b[49m\u001b[43m(\u001b[49m\u001b[43mX\u001b[49m\u001b[43m,\u001b[49m\u001b[43m \u001b[49m\u001b[43my\u001b[49m\u001b[43m,\u001b[49m\u001b[43m \u001b[49m\u001b[38;5;241;43m*\u001b[39;49m\u001b[38;5;241;43m*\u001b[39;49m\u001b[43mrouted_params\u001b[49m\u001b[38;5;241;43m.\u001b[39;49m\u001b[43msplitter\u001b[49m\u001b[38;5;241;43m.\u001b[39;49m\u001b[43msplit\u001b[49m\u001b[43m)\u001b[49m\u001b[43m)\u001b[49m\u001b[43m,\u001b[49m\n\u001b[1;32m    980\u001b[0m \u001b[43m    \u001b[49m\u001b[43m)\u001b[49m\n\u001b[1;32m    981\u001b[0m \u001b[43m\u001b[49m\u001b[43m)\u001b[49m\n\u001b[1;32m    983\u001b[0m \u001b[38;5;28;01mif\u001b[39;00m \u001b[38;5;28mlen\u001b[39m(out) \u001b[38;5;241m<\u001b[39m \u001b[38;5;241m1\u001b[39m:\n\u001b[1;32m    984\u001b[0m     \u001b[38;5;28;01mraise\u001b[39;00m \u001b[38;5;167;01mValueError\u001b[39;00m(\n\u001b[1;32m    985\u001b[0m         \u001b[38;5;124m\"\u001b[39m\u001b[38;5;124mNo fits were performed. \u001b[39m\u001b[38;5;124m\"\u001b[39m\n\u001b[1;32m    986\u001b[0m         \u001b[38;5;124m\"\u001b[39m\u001b[38;5;124mWas the CV iterator empty? \u001b[39m\u001b[38;5;124m\"\u001b[39m\n\u001b[1;32m    987\u001b[0m         \u001b[38;5;124m\"\u001b[39m\u001b[38;5;124mWere there no candidates?\u001b[39m\u001b[38;5;124m\"\u001b[39m\n\u001b[1;32m    988\u001b[0m     )\n",
      "File \u001b[0;32m~/.local/lib/python3.12/site-packages/sklearn/utils/parallel.py:74\u001b[0m, in \u001b[0;36mParallel.__call__\u001b[0;34m(self, iterable)\u001b[0m\n\u001b[1;32m     69\u001b[0m config \u001b[38;5;241m=\u001b[39m get_config()\n\u001b[1;32m     70\u001b[0m iterable_with_config \u001b[38;5;241m=\u001b[39m (\n\u001b[1;32m     71\u001b[0m     (_with_config(delayed_func, config), args, kwargs)\n\u001b[1;32m     72\u001b[0m     \u001b[38;5;28;01mfor\u001b[39;00m delayed_func, args, kwargs \u001b[38;5;129;01min\u001b[39;00m iterable\n\u001b[1;32m     73\u001b[0m )\n\u001b[0;32m---> 74\u001b[0m \u001b[38;5;28;01mreturn\u001b[39;00m \u001b[38;5;28;43msuper\u001b[39;49m\u001b[43m(\u001b[49m\u001b[43m)\u001b[49m\u001b[38;5;241;43m.\u001b[39;49m\u001b[38;5;21;43m__call__\u001b[39;49m\u001b[43m(\u001b[49m\u001b[43miterable_with_config\u001b[49m\u001b[43m)\u001b[49m\n",
      "File \u001b[0;32m~/.local/lib/python3.12/site-packages/joblib/parallel.py:1918\u001b[0m, in \u001b[0;36mParallel.__call__\u001b[0;34m(self, iterable)\u001b[0m\n\u001b[1;32m   1916\u001b[0m     output \u001b[38;5;241m=\u001b[39m \u001b[38;5;28mself\u001b[39m\u001b[38;5;241m.\u001b[39m_get_sequential_output(iterable)\n\u001b[1;32m   1917\u001b[0m     \u001b[38;5;28mnext\u001b[39m(output)\n\u001b[0;32m-> 1918\u001b[0m     \u001b[38;5;28;01mreturn\u001b[39;00m output \u001b[38;5;28;01mif\u001b[39;00m \u001b[38;5;28mself\u001b[39m\u001b[38;5;241m.\u001b[39mreturn_generator \u001b[38;5;28;01melse\u001b[39;00m \u001b[38;5;28;43mlist\u001b[39;49m\u001b[43m(\u001b[49m\u001b[43moutput\u001b[49m\u001b[43m)\u001b[49m\n\u001b[1;32m   1920\u001b[0m \u001b[38;5;66;03m# Let's create an ID that uniquely identifies the current call. If the\u001b[39;00m\n\u001b[1;32m   1921\u001b[0m \u001b[38;5;66;03m# call is interrupted early and that the same instance is immediately\u001b[39;00m\n\u001b[1;32m   1922\u001b[0m \u001b[38;5;66;03m# re-used, this id will be used to prevent workers that were\u001b[39;00m\n\u001b[1;32m   1923\u001b[0m \u001b[38;5;66;03m# concurrently finalizing a task from the previous call to run the\u001b[39;00m\n\u001b[1;32m   1924\u001b[0m \u001b[38;5;66;03m# callback.\u001b[39;00m\n\u001b[1;32m   1925\u001b[0m \u001b[38;5;28;01mwith\u001b[39;00m \u001b[38;5;28mself\u001b[39m\u001b[38;5;241m.\u001b[39m_lock:\n",
      "File \u001b[0;32m~/.local/lib/python3.12/site-packages/joblib/parallel.py:1847\u001b[0m, in \u001b[0;36mParallel._get_sequential_output\u001b[0;34m(self, iterable)\u001b[0m\n\u001b[1;32m   1845\u001b[0m \u001b[38;5;28mself\u001b[39m\u001b[38;5;241m.\u001b[39mn_dispatched_batches \u001b[38;5;241m+\u001b[39m\u001b[38;5;241m=\u001b[39m \u001b[38;5;241m1\u001b[39m\n\u001b[1;32m   1846\u001b[0m \u001b[38;5;28mself\u001b[39m\u001b[38;5;241m.\u001b[39mn_dispatched_tasks \u001b[38;5;241m+\u001b[39m\u001b[38;5;241m=\u001b[39m \u001b[38;5;241m1\u001b[39m\n\u001b[0;32m-> 1847\u001b[0m res \u001b[38;5;241m=\u001b[39m \u001b[43mfunc\u001b[49m\u001b[43m(\u001b[49m\u001b[38;5;241;43m*\u001b[39;49m\u001b[43margs\u001b[49m\u001b[43m,\u001b[49m\u001b[43m \u001b[49m\u001b[38;5;241;43m*\u001b[39;49m\u001b[38;5;241;43m*\u001b[39;49m\u001b[43mkwargs\u001b[49m\u001b[43m)\u001b[49m\n\u001b[1;32m   1848\u001b[0m \u001b[38;5;28mself\u001b[39m\u001b[38;5;241m.\u001b[39mn_completed_tasks \u001b[38;5;241m+\u001b[39m\u001b[38;5;241m=\u001b[39m \u001b[38;5;241m1\u001b[39m\n\u001b[1;32m   1849\u001b[0m \u001b[38;5;28mself\u001b[39m\u001b[38;5;241m.\u001b[39mprint_progress()\n",
      "File \u001b[0;32m~/.local/lib/python3.12/site-packages/sklearn/utils/parallel.py:136\u001b[0m, in \u001b[0;36m_FuncWrapper.__call__\u001b[0;34m(self, *args, **kwargs)\u001b[0m\n\u001b[1;32m    134\u001b[0m     config \u001b[38;5;241m=\u001b[39m {}\n\u001b[1;32m    135\u001b[0m \u001b[38;5;28;01mwith\u001b[39;00m config_context(\u001b[38;5;241m*\u001b[39m\u001b[38;5;241m*\u001b[39mconfig):\n\u001b[0;32m--> 136\u001b[0m     \u001b[38;5;28;01mreturn\u001b[39;00m \u001b[38;5;28;43mself\u001b[39;49m\u001b[38;5;241;43m.\u001b[39;49m\u001b[43mfunction\u001b[49m\u001b[43m(\u001b[49m\u001b[38;5;241;43m*\u001b[39;49m\u001b[43margs\u001b[49m\u001b[43m,\u001b[49m\u001b[43m \u001b[49m\u001b[38;5;241;43m*\u001b[39;49m\u001b[38;5;241;43m*\u001b[39;49m\u001b[43mkwargs\u001b[49m\u001b[43m)\u001b[49m\n",
      "File \u001b[0;32m~/.local/lib/python3.12/site-packages/sklearn/model_selection/_validation.py:888\u001b[0m, in \u001b[0;36m_fit_and_score\u001b[0;34m(estimator, X, y, scorer, train, test, verbose, parameters, fit_params, score_params, return_train_score, return_parameters, return_n_test_samples, return_times, return_estimator, split_progress, candidate_progress, error_score)\u001b[0m\n\u001b[1;32m    886\u001b[0m         estimator\u001b[38;5;241m.\u001b[39mfit(X_train, \u001b[38;5;241m*\u001b[39m\u001b[38;5;241m*\u001b[39mfit_params)\n\u001b[1;32m    887\u001b[0m     \u001b[38;5;28;01melse\u001b[39;00m:\n\u001b[0;32m--> 888\u001b[0m         \u001b[43mestimator\u001b[49m\u001b[38;5;241;43m.\u001b[39;49m\u001b[43mfit\u001b[49m\u001b[43m(\u001b[49m\u001b[43mX_train\u001b[49m\u001b[43m,\u001b[49m\u001b[43m \u001b[49m\u001b[43my_train\u001b[49m\u001b[43m,\u001b[49m\u001b[43m \u001b[49m\u001b[38;5;241;43m*\u001b[39;49m\u001b[38;5;241;43m*\u001b[39;49m\u001b[43mfit_params\u001b[49m\u001b[43m)\u001b[49m\n\u001b[1;32m    890\u001b[0m \u001b[38;5;28;01mexcept\u001b[39;00m \u001b[38;5;167;01mException\u001b[39;00m:\n\u001b[1;32m    891\u001b[0m     \u001b[38;5;66;03m# Note fit time as time until error\u001b[39;00m\n\u001b[1;32m    892\u001b[0m     fit_time \u001b[38;5;241m=\u001b[39m time\u001b[38;5;241m.\u001b[39mtime() \u001b[38;5;241m-\u001b[39m start_time\n",
      "File \u001b[0;32m~/.local/lib/python3.12/site-packages/sklearn/base.py:1473\u001b[0m, in \u001b[0;36m_fit_context.<locals>.decorator.<locals>.wrapper\u001b[0;34m(estimator, *args, **kwargs)\u001b[0m\n\u001b[1;32m   1466\u001b[0m     estimator\u001b[38;5;241m.\u001b[39m_validate_params()\n\u001b[1;32m   1468\u001b[0m \u001b[38;5;28;01mwith\u001b[39;00m config_context(\n\u001b[1;32m   1469\u001b[0m     skip_parameter_validation\u001b[38;5;241m=\u001b[39m(\n\u001b[1;32m   1470\u001b[0m         prefer_skip_nested_validation \u001b[38;5;129;01mor\u001b[39;00m global_skip_validation\n\u001b[1;32m   1471\u001b[0m     )\n\u001b[1;32m   1472\u001b[0m ):\n\u001b[0;32m-> 1473\u001b[0m     \u001b[38;5;28;01mreturn\u001b[39;00m \u001b[43mfit_method\u001b[49m\u001b[43m(\u001b[49m\u001b[43mestimator\u001b[49m\u001b[43m,\u001b[49m\u001b[43m \u001b[49m\u001b[38;5;241;43m*\u001b[39;49m\u001b[43margs\u001b[49m\u001b[43m,\u001b[49m\u001b[43m \u001b[49m\u001b[38;5;241;43m*\u001b[39;49m\u001b[38;5;241;43m*\u001b[39;49m\u001b[43mkwargs\u001b[49m\u001b[43m)\u001b[49m\n",
      "File \u001b[0;32m~/.local/lib/python3.12/site-packages/sklearn/pipeline.py:469\u001b[0m, in \u001b[0;36mPipeline.fit\u001b[0;34m(self, X, y, **params)\u001b[0m\n\u001b[1;32m    426\u001b[0m \u001b[38;5;250m\u001b[39m\u001b[38;5;124;03m\"\"\"Fit the model.\u001b[39;00m\n\u001b[1;32m    427\u001b[0m \n\u001b[1;32m    428\u001b[0m \u001b[38;5;124;03mFit all the transformers one after the other and sequentially transform the\u001b[39;00m\n\u001b[0;32m   (...)\u001b[0m\n\u001b[1;32m    466\u001b[0m \u001b[38;5;124;03m    Pipeline with fitted steps.\u001b[39;00m\n\u001b[1;32m    467\u001b[0m \u001b[38;5;124;03m\"\"\"\u001b[39;00m\n\u001b[1;32m    468\u001b[0m routed_params \u001b[38;5;241m=\u001b[39m \u001b[38;5;28mself\u001b[39m\u001b[38;5;241m.\u001b[39m_check_method_params(method\u001b[38;5;241m=\u001b[39m\u001b[38;5;124m\"\u001b[39m\u001b[38;5;124mfit\u001b[39m\u001b[38;5;124m\"\u001b[39m, props\u001b[38;5;241m=\u001b[39mparams)\n\u001b[0;32m--> 469\u001b[0m Xt \u001b[38;5;241m=\u001b[39m \u001b[38;5;28;43mself\u001b[39;49m\u001b[38;5;241;43m.\u001b[39;49m\u001b[43m_fit\u001b[49m\u001b[43m(\u001b[49m\u001b[43mX\u001b[49m\u001b[43m,\u001b[49m\u001b[43m \u001b[49m\u001b[43my\u001b[49m\u001b[43m,\u001b[49m\u001b[43m \u001b[49m\u001b[43mrouted_params\u001b[49m\u001b[43m)\u001b[49m\n\u001b[1;32m    470\u001b[0m \u001b[38;5;28;01mwith\u001b[39;00m _print_elapsed_time(\u001b[38;5;124m\"\u001b[39m\u001b[38;5;124mPipeline\u001b[39m\u001b[38;5;124m\"\u001b[39m, \u001b[38;5;28mself\u001b[39m\u001b[38;5;241m.\u001b[39m_log_message(\u001b[38;5;28mlen\u001b[39m(\u001b[38;5;28mself\u001b[39m\u001b[38;5;241m.\u001b[39msteps) \u001b[38;5;241m-\u001b[39m \u001b[38;5;241m1\u001b[39m)):\n\u001b[1;32m    471\u001b[0m     \u001b[38;5;28;01mif\u001b[39;00m \u001b[38;5;28mself\u001b[39m\u001b[38;5;241m.\u001b[39m_final_estimator \u001b[38;5;241m!=\u001b[39m \u001b[38;5;124m\"\u001b[39m\u001b[38;5;124mpassthrough\u001b[39m\u001b[38;5;124m\"\u001b[39m:\n",
      "File \u001b[0;32m~/.local/lib/python3.12/site-packages/sklearn/pipeline.py:406\u001b[0m, in \u001b[0;36mPipeline._fit\u001b[0;34m(self, X, y, routed_params)\u001b[0m\n\u001b[1;32m    404\u001b[0m     cloned_transformer \u001b[38;5;241m=\u001b[39m clone(transformer)\n\u001b[1;32m    405\u001b[0m \u001b[38;5;66;03m# Fit or load from cache the current transformer\u001b[39;00m\n\u001b[0;32m--> 406\u001b[0m X, fitted_transformer \u001b[38;5;241m=\u001b[39m \u001b[43mfit_transform_one_cached\u001b[49m\u001b[43m(\u001b[49m\n\u001b[1;32m    407\u001b[0m \u001b[43m    \u001b[49m\u001b[43mcloned_transformer\u001b[49m\u001b[43m,\u001b[49m\n\u001b[1;32m    408\u001b[0m \u001b[43m    \u001b[49m\u001b[43mX\u001b[49m\u001b[43m,\u001b[49m\n\u001b[1;32m    409\u001b[0m \u001b[43m    \u001b[49m\u001b[43my\u001b[49m\u001b[43m,\u001b[49m\n\u001b[1;32m    410\u001b[0m \u001b[43m    \u001b[49m\u001b[38;5;28;43;01mNone\u001b[39;49;00m\u001b[43m,\u001b[49m\n\u001b[1;32m    411\u001b[0m \u001b[43m    \u001b[49m\u001b[43mmessage_clsname\u001b[49m\u001b[38;5;241;43m=\u001b[39;49m\u001b[38;5;124;43m\"\u001b[39;49m\u001b[38;5;124;43mPipeline\u001b[39;49m\u001b[38;5;124;43m\"\u001b[39;49m\u001b[43m,\u001b[49m\n\u001b[1;32m    412\u001b[0m \u001b[43m    \u001b[49m\u001b[43mmessage\u001b[49m\u001b[38;5;241;43m=\u001b[39;49m\u001b[38;5;28;43mself\u001b[39;49m\u001b[38;5;241;43m.\u001b[39;49m\u001b[43m_log_message\u001b[49m\u001b[43m(\u001b[49m\u001b[43mstep_idx\u001b[49m\u001b[43m)\u001b[49m\u001b[43m,\u001b[49m\n\u001b[1;32m    413\u001b[0m \u001b[43m    \u001b[49m\u001b[43mparams\u001b[49m\u001b[38;5;241;43m=\u001b[39;49m\u001b[43mrouted_params\u001b[49m\u001b[43m[\u001b[49m\u001b[43mname\u001b[49m\u001b[43m]\u001b[49m\u001b[43m,\u001b[49m\n\u001b[1;32m    414\u001b[0m \u001b[43m\u001b[49m\u001b[43m)\u001b[49m\n\u001b[1;32m    415\u001b[0m \u001b[38;5;66;03m# Replace the transformer of the step with the fitted\u001b[39;00m\n\u001b[1;32m    416\u001b[0m \u001b[38;5;66;03m# transformer. This is necessary when loading the transformer\u001b[39;00m\n\u001b[1;32m    417\u001b[0m \u001b[38;5;66;03m# from the cache.\u001b[39;00m\n\u001b[1;32m    418\u001b[0m \u001b[38;5;28mself\u001b[39m\u001b[38;5;241m.\u001b[39msteps[step_idx] \u001b[38;5;241m=\u001b[39m (name, fitted_transformer)\n",
      "File \u001b[0;32m~/.local/lib/python3.12/site-packages/joblib/memory.py:312\u001b[0m, in \u001b[0;36mNotMemorizedFunc.__call__\u001b[0;34m(self, *args, **kwargs)\u001b[0m\n\u001b[1;32m    311\u001b[0m \u001b[38;5;28;01mdef\u001b[39;00m \u001b[38;5;21m__call__\u001b[39m(\u001b[38;5;28mself\u001b[39m, \u001b[38;5;241m*\u001b[39margs, \u001b[38;5;241m*\u001b[39m\u001b[38;5;241m*\u001b[39mkwargs):\n\u001b[0;32m--> 312\u001b[0m     \u001b[38;5;28;01mreturn\u001b[39;00m \u001b[38;5;28;43mself\u001b[39;49m\u001b[38;5;241;43m.\u001b[39;49m\u001b[43mfunc\u001b[49m\u001b[43m(\u001b[49m\u001b[38;5;241;43m*\u001b[39;49m\u001b[43margs\u001b[49m\u001b[43m,\u001b[49m\u001b[43m \u001b[49m\u001b[38;5;241;43m*\u001b[39;49m\u001b[38;5;241;43m*\u001b[39;49m\u001b[43mkwargs\u001b[49m\u001b[43m)\u001b[49m\n",
      "File \u001b[0;32m~/.local/lib/python3.12/site-packages/sklearn/pipeline.py:1310\u001b[0m, in \u001b[0;36m_fit_transform_one\u001b[0;34m(transformer, X, y, weight, message_clsname, message, params)\u001b[0m\n\u001b[1;32m   1308\u001b[0m \u001b[38;5;28;01mwith\u001b[39;00m _print_elapsed_time(message_clsname, message):\n\u001b[1;32m   1309\u001b[0m     \u001b[38;5;28;01mif\u001b[39;00m \u001b[38;5;28mhasattr\u001b[39m(transformer, \u001b[38;5;124m\"\u001b[39m\u001b[38;5;124mfit_transform\u001b[39m\u001b[38;5;124m\"\u001b[39m):\n\u001b[0;32m-> 1310\u001b[0m         res \u001b[38;5;241m=\u001b[39m \u001b[43mtransformer\u001b[49m\u001b[38;5;241;43m.\u001b[39;49m\u001b[43mfit_transform\u001b[49m\u001b[43m(\u001b[49m\u001b[43mX\u001b[49m\u001b[43m,\u001b[49m\u001b[43m \u001b[49m\u001b[43my\u001b[49m\u001b[43m,\u001b[49m\u001b[43m \u001b[49m\u001b[38;5;241;43m*\u001b[39;49m\u001b[38;5;241;43m*\u001b[39;49m\u001b[43mparams\u001b[49m\u001b[38;5;241;43m.\u001b[39;49m\u001b[43mget\u001b[49m\u001b[43m(\u001b[49m\u001b[38;5;124;43m\"\u001b[39;49m\u001b[38;5;124;43mfit_transform\u001b[39;49m\u001b[38;5;124;43m\"\u001b[39;49m\u001b[43m,\u001b[49m\u001b[43m \u001b[49m\u001b[43m{\u001b[49m\u001b[43m}\u001b[49m\u001b[43m)\u001b[49m\u001b[43m)\u001b[49m\n\u001b[1;32m   1311\u001b[0m     \u001b[38;5;28;01melse\u001b[39;00m:\n\u001b[1;32m   1312\u001b[0m         res \u001b[38;5;241m=\u001b[39m transformer\u001b[38;5;241m.\u001b[39mfit(X, y, \u001b[38;5;241m*\u001b[39m\u001b[38;5;241m*\u001b[39mparams\u001b[38;5;241m.\u001b[39mget(\u001b[38;5;124m\"\u001b[39m\u001b[38;5;124mfit\u001b[39m\u001b[38;5;124m\"\u001b[39m, {}))\u001b[38;5;241m.\u001b[39mtransform(\n\u001b[1;32m   1313\u001b[0m             X, \u001b[38;5;241m*\u001b[39m\u001b[38;5;241m*\u001b[39mparams\u001b[38;5;241m.\u001b[39mget(\u001b[38;5;124m\"\u001b[39m\u001b[38;5;124mtransform\u001b[39m\u001b[38;5;124m\"\u001b[39m, {})\n\u001b[1;32m   1314\u001b[0m         )\n",
      "File \u001b[0;32m~/.local/lib/python3.12/site-packages/sklearn/feature_extraction/text.py:2091\u001b[0m, in \u001b[0;36mTfidfVectorizer.fit_transform\u001b[0;34m(self, raw_documents, y)\u001b[0m\n\u001b[1;32m   2084\u001b[0m \u001b[38;5;28mself\u001b[39m\u001b[38;5;241m.\u001b[39m_check_params()\n\u001b[1;32m   2085\u001b[0m \u001b[38;5;28mself\u001b[39m\u001b[38;5;241m.\u001b[39m_tfidf \u001b[38;5;241m=\u001b[39m TfidfTransformer(\n\u001b[1;32m   2086\u001b[0m     norm\u001b[38;5;241m=\u001b[39m\u001b[38;5;28mself\u001b[39m\u001b[38;5;241m.\u001b[39mnorm,\n\u001b[1;32m   2087\u001b[0m     use_idf\u001b[38;5;241m=\u001b[39m\u001b[38;5;28mself\u001b[39m\u001b[38;5;241m.\u001b[39muse_idf,\n\u001b[1;32m   2088\u001b[0m     smooth_idf\u001b[38;5;241m=\u001b[39m\u001b[38;5;28mself\u001b[39m\u001b[38;5;241m.\u001b[39msmooth_idf,\n\u001b[1;32m   2089\u001b[0m     sublinear_tf\u001b[38;5;241m=\u001b[39m\u001b[38;5;28mself\u001b[39m\u001b[38;5;241m.\u001b[39msublinear_tf,\n\u001b[1;32m   2090\u001b[0m )\n\u001b[0;32m-> 2091\u001b[0m X \u001b[38;5;241m=\u001b[39m \u001b[38;5;28;43msuper\u001b[39;49m\u001b[43m(\u001b[49m\u001b[43m)\u001b[49m\u001b[38;5;241;43m.\u001b[39;49m\u001b[43mfit_transform\u001b[49m\u001b[43m(\u001b[49m\u001b[43mraw_documents\u001b[49m\u001b[43m)\u001b[49m\n\u001b[1;32m   2092\u001b[0m \u001b[38;5;28mself\u001b[39m\u001b[38;5;241m.\u001b[39m_tfidf\u001b[38;5;241m.\u001b[39mfit(X)\n\u001b[1;32m   2093\u001b[0m \u001b[38;5;66;03m# X is already a transformed view of raw_documents so\u001b[39;00m\n\u001b[1;32m   2094\u001b[0m \u001b[38;5;66;03m# we set copy to False\u001b[39;00m\n",
      "File \u001b[0;32m~/.local/lib/python3.12/site-packages/sklearn/base.py:1473\u001b[0m, in \u001b[0;36m_fit_context.<locals>.decorator.<locals>.wrapper\u001b[0;34m(estimator, *args, **kwargs)\u001b[0m\n\u001b[1;32m   1466\u001b[0m     estimator\u001b[38;5;241m.\u001b[39m_validate_params()\n\u001b[1;32m   1468\u001b[0m \u001b[38;5;28;01mwith\u001b[39;00m config_context(\n\u001b[1;32m   1469\u001b[0m     skip_parameter_validation\u001b[38;5;241m=\u001b[39m(\n\u001b[1;32m   1470\u001b[0m         prefer_skip_nested_validation \u001b[38;5;129;01mor\u001b[39;00m global_skip_validation\n\u001b[1;32m   1471\u001b[0m     )\n\u001b[1;32m   1472\u001b[0m ):\n\u001b[0;32m-> 1473\u001b[0m     \u001b[38;5;28;01mreturn\u001b[39;00m \u001b[43mfit_method\u001b[49m\u001b[43m(\u001b[49m\u001b[43mestimator\u001b[49m\u001b[43m,\u001b[49m\u001b[43m \u001b[49m\u001b[38;5;241;43m*\u001b[39;49m\u001b[43margs\u001b[49m\u001b[43m,\u001b[49m\u001b[43m \u001b[49m\u001b[38;5;241;43m*\u001b[39;49m\u001b[38;5;241;43m*\u001b[39;49m\u001b[43mkwargs\u001b[49m\u001b[43m)\u001b[49m\n",
      "File \u001b[0;32m~/.local/lib/python3.12/site-packages/sklearn/feature_extraction/text.py:1372\u001b[0m, in \u001b[0;36mCountVectorizer.fit_transform\u001b[0;34m(self, raw_documents, y)\u001b[0m\n\u001b[1;32m   1364\u001b[0m             warnings\u001b[38;5;241m.\u001b[39mwarn(\n\u001b[1;32m   1365\u001b[0m                 \u001b[38;5;124m\"\u001b[39m\u001b[38;5;124mUpper case characters found in\u001b[39m\u001b[38;5;124m\"\u001b[39m\n\u001b[1;32m   1366\u001b[0m                 \u001b[38;5;124m\"\u001b[39m\u001b[38;5;124m vocabulary while \u001b[39m\u001b[38;5;124m'\u001b[39m\u001b[38;5;124mlowercase\u001b[39m\u001b[38;5;124m'\u001b[39m\u001b[38;5;124m\"\u001b[39m\n\u001b[1;32m   1367\u001b[0m                 \u001b[38;5;124m\"\u001b[39m\u001b[38;5;124m is True. These entries will not\u001b[39m\u001b[38;5;124m\"\u001b[39m\n\u001b[1;32m   1368\u001b[0m                 \u001b[38;5;124m\"\u001b[39m\u001b[38;5;124m be matched with any documents\u001b[39m\u001b[38;5;124m\"\u001b[39m\n\u001b[1;32m   1369\u001b[0m             )\n\u001b[1;32m   1370\u001b[0m             \u001b[38;5;28;01mbreak\u001b[39;00m\n\u001b[0;32m-> 1372\u001b[0m vocabulary, X \u001b[38;5;241m=\u001b[39m \u001b[38;5;28;43mself\u001b[39;49m\u001b[38;5;241;43m.\u001b[39;49m\u001b[43m_count_vocab\u001b[49m\u001b[43m(\u001b[49m\u001b[43mraw_documents\u001b[49m\u001b[43m,\u001b[49m\u001b[43m \u001b[49m\u001b[38;5;28;43mself\u001b[39;49m\u001b[38;5;241;43m.\u001b[39;49m\u001b[43mfixed_vocabulary_\u001b[49m\u001b[43m)\u001b[49m\n\u001b[1;32m   1374\u001b[0m \u001b[38;5;28;01mif\u001b[39;00m \u001b[38;5;28mself\u001b[39m\u001b[38;5;241m.\u001b[39mbinary:\n\u001b[1;32m   1375\u001b[0m     X\u001b[38;5;241m.\u001b[39mdata\u001b[38;5;241m.\u001b[39mfill(\u001b[38;5;241m1\u001b[39m)\n",
      "File \u001b[0;32m~/.local/lib/python3.12/site-packages/sklearn/feature_extraction/text.py:1259\u001b[0m, in \u001b[0;36mCountVectorizer._count_vocab\u001b[0;34m(self, raw_documents, fixed_vocab)\u001b[0m\n\u001b[1;32m   1257\u001b[0m \u001b[38;5;28;01mfor\u001b[39;00m doc \u001b[38;5;129;01min\u001b[39;00m raw_documents:\n\u001b[1;32m   1258\u001b[0m     feature_counter \u001b[38;5;241m=\u001b[39m {}\n\u001b[0;32m-> 1259\u001b[0m     \u001b[38;5;28;01mfor\u001b[39;00m feature \u001b[38;5;129;01min\u001b[39;00m \u001b[43manalyze\u001b[49m\u001b[43m(\u001b[49m\u001b[43mdoc\u001b[49m\u001b[43m)\u001b[49m:\n\u001b[1;32m   1260\u001b[0m         \u001b[38;5;28;01mtry\u001b[39;00m:\n\u001b[1;32m   1261\u001b[0m             feature_idx \u001b[38;5;241m=\u001b[39m vocabulary[feature]\n",
      "File \u001b[0;32m~/.local/lib/python3.12/site-packages/sklearn/feature_extraction/text.py:108\u001b[0m, in \u001b[0;36m_analyze\u001b[0;34m(doc, analyzer, tokenizer, ngrams, preprocessor, decoder, stop_words)\u001b[0m\n\u001b[1;32m    106\u001b[0m \u001b[38;5;28;01melse\u001b[39;00m:\n\u001b[1;32m    107\u001b[0m     \u001b[38;5;28;01mif\u001b[39;00m preprocessor \u001b[38;5;129;01mis\u001b[39;00m \u001b[38;5;129;01mnot\u001b[39;00m \u001b[38;5;28;01mNone\u001b[39;00m:\n\u001b[0;32m--> 108\u001b[0m         doc \u001b[38;5;241m=\u001b[39m \u001b[43mpreprocessor\u001b[49m\u001b[43m(\u001b[49m\u001b[43mdoc\u001b[49m\u001b[43m)\u001b[49m\n\u001b[1;32m    109\u001b[0m     \u001b[38;5;28;01mif\u001b[39;00m tokenizer \u001b[38;5;129;01mis\u001b[39;00m \u001b[38;5;129;01mnot\u001b[39;00m \u001b[38;5;28;01mNone\u001b[39;00m:\n\u001b[1;32m    110\u001b[0m         doc \u001b[38;5;241m=\u001b[39m tokenizer(doc)\n",
      "Cell \u001b[0;32mIn[13], line 9\u001b[0m, in \u001b[0;36mlemmatizationAndStopwords\u001b[0;34m(text)\u001b[0m\n\u001b[1;32m      7\u001b[0m wordNetLemmatizer \u001b[38;5;241m=\u001b[39m WordNetLemmatizer()\n\u001b[1;32m      8\u001b[0m stopwordSets \u001b[38;5;241m=\u001b[39m \u001b[38;5;28mset\u001b[39m(stopwords\u001b[38;5;241m.\u001b[39mwords(\u001b[38;5;124m'\u001b[39m\u001b[38;5;124menglish\u001b[39m\u001b[38;5;124m'\u001b[39m))\n\u001b[0;32m----> 9\u001b[0m words \u001b[38;5;241m=\u001b[39m \u001b[43mword_tokenize\u001b[49m\u001b[43m(\u001b[49m\u001b[43mtext\u001b[49m\u001b[43m)\u001b[49m\n\u001b[1;32m     10\u001b[0m wordsFilter \u001b[38;5;241m=\u001b[39m [wordNetLemmatizer\u001b[38;5;241m.\u001b[39mlemmatize(word\u001b[38;5;241m.\u001b[39mlower()) \u001b[38;5;28;01mfor\u001b[39;00m word \u001b[38;5;129;01min\u001b[39;00m words \u001b[38;5;28;01mif\u001b[39;00m word\u001b[38;5;241m.\u001b[39mlower() \u001b[38;5;129;01mnot\u001b[39;00m \u001b[38;5;129;01min\u001b[39;00m stopwordSets \u001b[38;5;129;01mand\u001b[39;00m word\u001b[38;5;241m.\u001b[39misalpha()]\n\u001b[1;32m     11\u001b[0m \u001b[38;5;28;01mif\u001b[39;00m \u001b[38;5;129;01mnot\u001b[39;00m wordsFilter:\n",
      "File \u001b[0;32m~/.local/lib/python3.12/site-packages/nltk/tokenize/__init__.py:144\u001b[0m, in \u001b[0;36mword_tokenize\u001b[0;34m(text, language, preserve_line)\u001b[0m\n\u001b[1;32m    128\u001b[0m \u001b[38;5;250m\u001b[39m\u001b[38;5;124;03m\"\"\"\u001b[39;00m\n\u001b[1;32m    129\u001b[0m \u001b[38;5;124;03mReturn a tokenized copy of *text*,\u001b[39;00m\n\u001b[1;32m    130\u001b[0m \u001b[38;5;124;03musing NLTK's recommended word tokenizer\u001b[39;00m\n\u001b[0;32m   (...)\u001b[0m\n\u001b[1;32m    140\u001b[0m \u001b[38;5;124;03m:type preserve_line: bool\u001b[39;00m\n\u001b[1;32m    141\u001b[0m \u001b[38;5;124;03m\"\"\"\u001b[39;00m\n\u001b[1;32m    142\u001b[0m sentences \u001b[38;5;241m=\u001b[39m [text] \u001b[38;5;28;01mif\u001b[39;00m preserve_line \u001b[38;5;28;01melse\u001b[39;00m sent_tokenize(text, language)\n\u001b[1;32m    143\u001b[0m \u001b[38;5;28;01mreturn\u001b[39;00m [\n\u001b[0;32m--> 144\u001b[0m     token \u001b[38;5;28;01mfor\u001b[39;00m sent \u001b[38;5;129;01min\u001b[39;00m sentences \u001b[38;5;28;01mfor\u001b[39;00m token \u001b[38;5;129;01min\u001b[39;00m \u001b[43m_treebank_word_tokenizer\u001b[49m\u001b[38;5;241;43m.\u001b[39;49m\u001b[43mtokenize\u001b[49m\u001b[43m(\u001b[49m\u001b[43msent\u001b[49m\u001b[43m)\u001b[49m\n\u001b[1;32m    145\u001b[0m ]\n",
      "File \u001b[0;32m~/.local/lib/python3.12/site-packages/nltk/tokenize/destructive.py:179\u001b[0m, in \u001b[0;36mNLTKWordTokenizer.tokenize\u001b[0;34m(self, text, convert_parentheses, return_str)\u001b[0m\n\u001b[1;32m    176\u001b[0m text \u001b[38;5;241m=\u001b[39m \u001b[38;5;124m\"\u001b[39m\u001b[38;5;124m \u001b[39m\u001b[38;5;124m\"\u001b[39m \u001b[38;5;241m+\u001b[39m text \u001b[38;5;241m+\u001b[39m \u001b[38;5;124m\"\u001b[39m\u001b[38;5;124m \u001b[39m\u001b[38;5;124m\"\u001b[39m\n\u001b[1;32m    178\u001b[0m \u001b[38;5;28;01mfor\u001b[39;00m regexp, substitution \u001b[38;5;129;01min\u001b[39;00m \u001b[38;5;28mself\u001b[39m\u001b[38;5;241m.\u001b[39mENDING_QUOTES:\n\u001b[0;32m--> 179\u001b[0m     text \u001b[38;5;241m=\u001b[39m \u001b[43mregexp\u001b[49m\u001b[38;5;241;43m.\u001b[39;49m\u001b[43msub\u001b[49m\u001b[43m(\u001b[49m\u001b[43msubstitution\u001b[49m\u001b[43m,\u001b[49m\u001b[43m \u001b[49m\u001b[43mtext\u001b[49m\u001b[43m)\u001b[49m\n\u001b[1;32m    181\u001b[0m \u001b[38;5;28;01mfor\u001b[39;00m regexp \u001b[38;5;129;01min\u001b[39;00m \u001b[38;5;28mself\u001b[39m\u001b[38;5;241m.\u001b[39mCONTRACTIONS2:\n\u001b[1;32m    182\u001b[0m     text \u001b[38;5;241m=\u001b[39m regexp\u001b[38;5;241m.\u001b[39msub(\u001b[38;5;124mr\u001b[39m\u001b[38;5;124m\"\u001b[39m\u001b[38;5;124m \u001b[39m\u001b[38;5;124m\\\u001b[39m\u001b[38;5;124m1 \u001b[39m\u001b[38;5;124m\\\u001b[39m\u001b[38;5;124m2 \u001b[39m\u001b[38;5;124m\"\u001b[39m, text)\n",
      "\u001b[0;31mKeyboardInterrupt\u001b[0m: "
     ]
    }
   ],
   "source": [
    "##KFOLD CV usando Ensamble con Stacking (los mejores atributos, hiperparametros,etc)\n",
    "from sklearn.pipeline import Pipeline\n",
    "\n",
    "#The Best: 2.9470424378844795\n",
    "# {'tfidf__use_idf': False,\n",
    "#  'tfidf__sublinear_tf': False,\n",
    "#  'tfidf__stop_words': ['english'],\n",
    "#  'tfidf__ngram_range': (1, 2),\n",
    "#  'tfidf__min_df': 2,\n",
    "#  'tfidf__max_features': 2000,\n",
    "#  'tfidf__max_df': 0.8,\n",
    "#  'tfidf__analyzer': 'word',\n",
    "#  'svd__random_state': 42,\n",
    "#  'svd__n_components': 100,\n",
    "#  'stacking__xgb_regressor__random_state': 42,\n",
    "#  'stacking__xgb_regressor__objective': 'reg:squarederror',\n",
    "#  'stacking__xgb_regressor__n_estimators': 100,\n",
    "#  'stacking__xgb_regressor__max_depth': 3,\n",
    "#  'stacking__xgb_regressor__learning_rate': 0.01,\n",
    "#  'stacking__rnd_regressor__random_state': 42,\n",
    "#  'stacking__rnd_regressor__n_jobs': -1,\n",
    "#  'stacking__rnd_regressor__n_estimators': 300,\n",
    "#  'stacking__rnd_regressor__min_samples_split': 2,\n",
    "#  'stacking__rnd_regressor__min_samples_leaf': 1,\n",
    "#  'stacking__rnd_regressor__max_features': 'sqrt',\n",
    "#  'stacking__rnd_regressor__max_depth': 7,\n",
    "#  'stacking__rnd_regressor__criterion': 'poisson',\n",
    "#  'stacking__rnd_regressor__bootstrap': True,\n",
    "#  'stacking__final_estimator__random_state': 42,\n",
    "#  'stacking__final_estimator__n_estimators': 200,\n",
    "#  'stacking__final_estimator__max_depth': 4,\n",
    "#  'stacking__elasticnet__random_state': 42,\n",
    "#  'stacking__elasticnet__l1_ratio': 0.1,\n",
    "#  'stacking__elasticnet__alpha': 1.0}\n",
    "\n",
    "parameters = {\n",
    "    \"tfidf__analyzer\": [\"word\"],\n",
    "    # \"tfidf__smooth_idf\": [True,False],\n",
    "    # \"tfidf__ngram_range\": [(1, 1),(1, 2)],\n",
    "    \"tfidf__ngram_range\": [(1, 2)],\n",
    "    # \"tfidf__use_idf\": [True,False],\n",
    "     \"tfidf__use_idf\": [False],\n",
    "    \"tfidf__stop_words\": [['english']],\n",
    "    # \"tfidf__max_features\": [1000, 2000],\n",
    "    # \"tfidf__min_df\": [2,5],\n",
    "    \"tfidf__max_features\": [2000],\n",
    "    \"tfidf__min_df\": [2],\n",
    "    # 'tfidf__max_df': [0.75, 0.8, 1.0],\n",
    "    \"tfidf__max_df\": [0.75, 0.8],\n",
    "     # \"tfidf__max_features\": [2000],\n",
    "    # \"tfidf__min_df\": [2],\n",
    "    # 'tfidf__max_df': [0.8],\n",
    "    # \"tfidf__sublinear_tf\": [True,False],\n",
    "    \"tfidf__sublinear_tf\": [False],\n",
    "    \"svd__n_components\": [100, 200, 300, 400, 500],\n",
    "    \"svd__random_state\" :[42],\n",
    "    'stacking__xgb_regressor__objective': ['reg:squarederror'],\n",
    "    'stacking__xgb_regressor__random_state' :[42], \n",
    "    # 'stacking__xgb_regressor__n_estimators': [100, 200, 300],\n",
    "    # 'stacking__xgb_regressor__max_depth': [3, 4, 5],\n",
    "    # 'stacking__xgb_regressor__learning_rate': [0.01, 0.1, 0.2],\n",
    "    'stacking__xgb_regressor__n_estimators': [300],\n",
    "    'stacking__xgb_regressor__max_depth': [3],\n",
    "    'stacking__xgb_regressor__learning_rate': [0.01],\n",
    "    # 'stacking__xgb_regressor__subsample': [0.6, 0.7, 0.8, 0.9, 1],\n",
    "    # 'stacking__xgb_regressor__colsample_bytree': [0.6, 0.7, 0.8, 0.9, 1],\n",
    "    # 'stacking__xgb_regressor__gamma': [0, 0.1, 0.2, 0.3, 0.4, 0.5],\n",
    "    # 'stacking__xgb_regressor__reg_alpha': [0, 0.01, 0.1, 1, 10],\n",
    "    # 'stacking__xgb_regressor__reg_lambda': [0, 0.01, 0.1, 1, 10]\n",
    "    # \"stacking__rnd_regressor__criterion\":[\"squared_error\", \"absolute_error\", \"friedman_mse\", \"poisson\"],\n",
    "    \"stacking__rnd_regressor__criterion\":[\"squared_error\", \"poisson\"],\n",
    "    # \"stacking__rnd_regressor__max_features\":['sqrt', 'log2'],\n",
    "    \"stacking__rnd_regressor__max_features\":['sqrt'],\n",
    "    \"stacking__rnd_regressor__max_depth\": [7],\n",
    "    \"stacking__rnd_regressor__random_state\":[42], \n",
    "    # \"stacking__rnd_regressor__random_state\":[42],\n",
    "    \"stacking__rnd_regressor__n_jobs\":[-1],\n",
    "    # \"stacking__rnd_regressor__min_samples_leaf\":[1, 2, 5],\n",
    "    # \"stacking__rnd_regressor__min_samples_split\":[2,5,10],\n",
    "    \"stacking__rnd_regressor__min_samples_leaf\":[1],\n",
    "    \"stacking__rnd_regressor__min_samples_split\":[2],\n",
    "    \"stacking__rnd_regressor__n_estimators\":[300, 500],\n",
    "    # \"stacking__rnd_regressor__n_estimators\":[200],\n",
    "    \"stacking__rnd_regressor__bootstrap\": [True],\n",
    "    'stacking__elasticnet__random_state' :[42], \n",
    "    # 'stacking__elasticnet__alpha': [0.1, 1.0, 10.0],\n",
    "    # 'stacking__elasticnet__l1_ratio': [0.1, 0.5, 0.9],\n",
    "    'stacking__elasticnet__alpha': [1.0],\n",
    "    'stacking__elasticnet__l1_ratio': [0.1],\n",
    "    'stacking__final_estimator__random_state' :[42], \n",
    "    # 'stacking__final_estimator__n_estimators': [50, 100, 200],\n",
    "    # 'stacking__final_estimator__max_depth': [3, 4, 5]\n",
    "    'stacking__final_estimator__n_estimators': [200, 300],\n",
    "    'stacking__final_estimator__max_depth': [4]\n",
    "}\n",
    "\n",
    "randomcv_best_score = None\n",
    "\n",
    "#Iteración Cantidad de splits para el Cross Validation\n",
    "# for folds in [9,10,12,15,18]:\n",
    "# for folds in [5,6,7,8,9,10]:\n",
    "# for folds in [4,5,10]:\n",
    "for folds in [5, 10]:\n",
    "    \n",
    "    #Kfold\n",
    "    kfoldcv = KFold(n_splits=folds, shuffle=True, random_state=42)\n",
    "    \n",
    "    #Regressors\n",
    "    pipeline = Pipeline([\n",
    "        ('tfidf', TfidfVectorizer(preprocessor=lemmatizationAndStopwords)),\n",
    "        ('svd', TruncatedSVD()),\n",
    "        ('stacking', StackingRegressor(\n",
    "            estimators=[\n",
    "                ('xgb_regressor', XGBRegressor()),\n",
    "                ('rnd_regressor', RandomForestRegressor()),\n",
    "                ('elasticnet', ElasticNet())\n",
    "            ],\n",
    "            final_estimator=GradientBoostingRegressor()\n",
    "        ))\n",
    "    ])\n",
    "    \n",
    "    #Metrica que quiero optimizar root_mean_squared_error\n",
    "    scorer_fn = make_scorer(root_mean_squared_error)\n",
    "\n",
    "    #Random Search Cross Validation\n",
    "    #Cantidad de combinaciones que quiero probar\n",
    "    n=8\n",
    "    randomcv_it = RandomizedSearchCV(estimator = pipeline,\n",
    "                                     param_distributions = parameters,\n",
    "                                     scoring = scorer_fn,\n",
    "                                     cv = kfoldcv,\n",
    "                                     n_iter = n,\n",
    "                                     verbose = 2,\n",
    "                                     n_jobs = 1,\n",
    "                                     random_state = 42)\n",
    "    \n",
    "    # #Grid Search Cross Validation\n",
    "    # randomcv_it = GridSearchCV(estimator = pipeline,\n",
    "    #                                  param_grid = parameters,\n",
    "    #                                  scoring = scorer_fn,\n",
    "    #                                  cv = kfoldcv) \n",
    "\n",
    "    #Busco los hiperparamtros que optimizan F1 Score\n",
    "    randomcv_it.fit(x_train,y_train);\n",
    "    \n",
    "    #Mejores hiperparametros del arbol\n",
    "    print(\"folds: \", folds)\n",
    "    print(randomcv_it.best_params_)\n",
    "    #Mejor métrica\n",
    "    print(\"root_mean_squared_error: \", randomcv_it.best_score_)\n",
    "    print(\" \")\n",
    "    print(\"mean_test_score: \", randomcv_it.cv_results_['mean_test_score'])\n",
    "    \n",
    "    #Nos quedamos con el menor error root_mean_squared_error\n",
    "    if randomcv_best_score is None:\n",
    "        randomcv_best_score = randomcv_it\n",
    "    elif randomcv_it.best_score_ < randomcv_best_score.best_score_:\n",
    "        randomcv_best_score = randomcv_it"
   ]
  },
  {
   "cell_type": "markdown",
   "id": "1fbd5fad-be41-4721-920b-b8622a46d689",
   "metadata": {},
   "source": [
    "folds:  4\n",
    "{'tfidf__use_idf': False, 'tfidf__sublinear_tf': False, 'tfidf__stop_words': ['english'], 'tfidf__ngram_range': (1, 1), 'tfidf__min_df': 2, 'tfidf__max_features': 2000, 'tfidf__max_df': 0.75, 'tfidf__analyzer': 'word', 'svd__random_state': 42, 'svd__n_components': 200, 'stacking__xgb_regressor__random_state': 42, 'stacking__xgb_regressor__objective': 'reg:squarederror', 'stacking__xgb_regressor__n_estimators': 200, 'stacking__xgb_regressor__max_depth': 5, 'stacking__xgb_regressor__learning_rate': 0.01, 'stacking__rnd_regressor__random_state': 42, 'stacking__rnd_regressor__n_jobs': -1, 'stacking__rnd_regressor__n_estimators': 300, 'stacking__rnd_regressor__min_samples_split': 5, 'stacking__rnd_regressor__min_samples_leaf': 1, 'stacking__rnd_regressor__max_features': 'log2', 'stacking__rnd_regressor__max_depth': 7, 'stacking__rnd_regressor__criterion': 'poisson', 'stacking__rnd_regressor__bootstrap': False, 'stacking__final_estimator__random_state': 42, 'stacking__final_estimator__n_estimators': 100, 'stacking__final_estimator__max_depth': 5, 'stacking__elasticnet__random_state': 42, 'stacking__elasticnet__l1_ratio': 0.5, 'stacking__elasticnet__alpha': 1.0}\n",
    "root_mean_squared_error:  3.0119923295085442\n",
    " \n",
    "mean_test_score:  [2.94305455 2.85804857 3.01199233 2.93719682 2.8467164 ]\n",
    "\n",
    "\n",
    "folds:  5\n",
    "{'tfidf__use_idf': False, 'tfidf__sublinear_tf': False, 'tfidf__stop_words': ['english'], 'tfidf__ngram_range': (1, 2), 'tfidf__min_df': 5, 'tfidf__max_features': 2000, 'tfidf__max_df': 0.75, 'tfidf__analyzer': 'word', 'svd__random_state': 42, 'svd__n_components': 300, 'stacking__xgb_regressor__random_state': 42, 'stacking__xgb_regressor__objective': 'reg:squarederror', 'stacking__xgb_regressor__n_estimators': 200, 'stacking__xgb_regressor__max_depth': 3, 'stacking__xgb_regressor__learning_rate': 0.01, 'stacking__rnd_regressor__random_state': 42, 'stacking__rnd_regressor__n_jobs': -1, 'stacking__rnd_regressor__n_estimators': 300, 'stacking__rnd_regressor__min_samples_split': 2, 'stacking__rnd_regressor__min_samples_leaf': 1, 'stacking__rnd_regressor__max_features': 'sqrt', 'stacking__rnd_regressor__max_depth': 3, 'stacking__rnd_regressor__criterion': 'squared_error', 'stacking__rnd_regressor__bootstrap': False, 'stacking__final_estimator__random_state': 42, 'stacking__final_estimator__n_estimators': 100, 'stacking__final_estimator__max_depth': 3, 'stacking__elasticnet__random_state': 42, 'stacking__elasticnet__l1_ratio': 0.5, 'stacking__elasticnet__alpha': 10.0}\n",
    "root_mean_squared_error:  2.9471681837511365\n",
    "\n",
    "mean_test_score:  [2.94716818 2.93300194 2.92223988 2.92247378 2.90116524]\n",
    "\n",
    "\n",
    "folds:  8\n",
    "{'tfidf__use_idf': False, 'tfidf__sublinear_tf': False, 'tfidf__stop_words': ['english'], 'tfidf__ngram_range': (1, 2), 'tfidf__min_df': 2, 'tfidf__max_features': 2000, 'tfidf__max_df': 0.8, 'tfidf__analyzer': 'word', 'svd__random_state': 42, 'svd__n_components': 300, 'stacking__xgb_regressor__random_state': 42, 'stacking__xgb_regressor__objective': 'reg:squarederror', 'stacking__xgb_regressor__n_estimators': 300, 'stacking__xgb_regressor__max_depth': 3, 'stacking__xgb_regressor__learning_rate': 0.01, 'stacking__rnd_regressor__random_state': 42, 'stacking__rnd_regressor__n_jobs': -1, 'stacking__rnd_regressor__n_estimators': 300, 'stacking__rnd_regressor__min_samples_split': 2, 'stacking__rnd_regressor__min_samples_leaf': 1, 'stacking__rnd_regressor__max_features': 'sqrt', 'stacking__rnd_regressor__max_depth': 7, 'stacking__rnd_regressor__criterion': 'squared_error', 'stacking__rnd_regressor__bootstrap': True, 'stacking__final_estimator__random_state': 42, 'stacking__final_estimator__n_estimators': 300, 'stacking__final_estimator__max_depth': 4, 'stacking__elasticnet__random_state': 42, 'stacking__elasticnet__l1_ratio': 0.1, 'stacking__elasticnet__alpha': 1.0}\n",
    "root_mean_squared_error:  3.011436815831666\n",
    " \n",
    "mean_test_score:  [3.01143682 2.97229202 2.93213958 2.95570211 2.99591432 2.97076803 2.98961351 2.95632673]\n",
    "\n",
    "\n",
    "folds:  10\n",
    "{'tfidf__use_idf': False, 'tfidf__sublinear_tf': False, 'tfidf__stop_words': ['english'], 'tfidf__ngram_range': (1, 2), 'tfidf__min_df': 2, 'tfidf__max_features': 2000, 'tfidf__max_df': 0.8, 'tfidf__analyzer': 'word', 'svd__random_state': 42, 'svd__n_components': 100, 'stacking__xgb_regressor__random_state': 42, 'stacking__xgb_regressor__objective': 'reg:squarederror', 'stacking__xgb_regressor__n_estimators': 100, 'stacking__xgb_regressor__max_depth': 3, 'stacking__xgb_regressor__learning_rate': 0.01, 'stacking__rnd_regressor__random_state': 42, 'stacking__rnd_regressor__n_jobs': -1, 'stacking__rnd_regressor__n_estimators': 300, 'stacking__rnd_regressor__min_samples_split': 2, 'stacking__rnd_regressor__min_samples_leaf': 1, 'stacking__rnd_regressor__max_features': 'sqrt', 'stacking__rnd_regressor__max_depth': 7, 'stacking__rnd_regressor__criterion': 'poisson', 'stacking__rnd_regressor__bootstrap': True, 'stacking__final_estimator__random_state': 42, 'stacking__final_estimator__n_estimators': 200, 'stacking__final_estimator__max_depth': 4, 'stacking__elasticnet__random_state': 42, 'stacking__elasticnet__l1_ratio': 0.1, 'stacking__elasticnet__alpha': 1.0}\n",
    "root_mean_squared_error:  2.9470424378844795\n",
    " \n",
    "mean_test_score:  [2.85172411 2.86191661 2.8423009  2.90706072 2.94704244]"
   ]
  },
  {
   "cell_type": "code",
   "execution_count": null,
   "id": "5c7aaa06-4012-4b50-af1e-7fad3ee6894a",
   "metadata": {},
   "outputs": [],
   "source": [
    "randomcv_best_score.best_params_"
   ]
  },
  {
   "cell_type": "code",
   "execution_count": null,
   "id": "5a9467ca-ed26-4b28-8f23-e48c9ddcc322",
   "metadata": {},
   "outputs": [],
   "source": [
    "randomcv_best_score.best_score_"
   ]
  },
  {
   "cell_type": "code",
   "execution_count": null,
   "id": "KK7j2I5cPOf4",
   "metadata": {
    "colab": {
     "base_uri": "https://localhost:8080/"
    },
    "id": "KK7j2I5cPOf4",
    "outputId": "cedb38b5-48d1-4428-8ab9-6f32acbb0d4f",
    "scrolled": true
   },
   "outputs": [],
   "source": [
    "randomcv_best_score.cv_results_['mean_test_score']"
   ]
  },
  {
   "cell_type": "markdown",
   "id": "ccc09200-e21a-49f8-aa56-b0d29192010f",
   "metadata": {},
   "source": [
    "THE BEST\n",
    "\n"
   ]
  },
  {
   "cell_type": "code",
   "execution_count": null,
   "id": "9151eb22",
   "metadata": {},
   "outputs": [],
   "source": []
  }
 ],
 "metadata": {
  "colab": {
   "provenance": []
  },
  "kernelspec": {
   "display_name": "Python 3 (ipykernel)",
   "language": "python",
   "name": "python3"
  },
  "language_info": {
   "codemirror_mode": {
    "name": "ipython",
    "version": 3
   },
   "file_extension": ".py",
   "mimetype": "text/x-python",
   "name": "python",
   "nbconvert_exporter": "python",
   "pygments_lexer": "ipython3",
   "version": "3.12.3"
  }
 },
 "nbformat": 4,
 "nbformat_minor": 5
}
