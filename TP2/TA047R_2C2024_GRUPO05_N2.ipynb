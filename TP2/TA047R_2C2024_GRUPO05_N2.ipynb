{
  "nbformat": 4,
  "nbformat_minor": 0,
  "metadata": {
    "colab": {
      "provenance": []
    },
    "kernelspec": {
      "name": "python3",
      "display_name": "Python 3"
    },
    "language_info": {
      "name": "python"
    }
  },
  "cells": [
    {
      "cell_type": "code",
      "execution_count": 24,
      "metadata": {
        "colab": {
          "base_uri": "https://localhost:8080/"
        },
        "id": "yT4-fnrgppgm",
        "outputId": "d80bd9f9-ae69-459f-9415-b07efdf19be3"
      },
      "outputs": [
        {
          "output_type": "stream",
          "name": "stdout",
          "text": [
            "Fitting 5 folds for each of 250 candidates, totalling 1250 fits\n"
          ]
        },
        {
          "output_type": "stream",
          "name": "stderr",
          "text": [
            "/usr/local/lib/python3.10/dist-packages/sklearn/model_selection/_split.py:776: UserWarning: The least populated class in y has only 1 members, which is less than n_splits=5.\n",
            "  warnings.warn(\n",
            "/usr/local/lib/python3.10/dist-packages/sklearn/metrics/_regression.py:492: FutureWarning: 'squared' is deprecated in version 1.4 and will be removed in 1.6. To calculate the root mean squared error, use the function'root_mean_squared_error'.\n",
            "  warnings.warn(\n"
          ]
        },
        {
          "output_type": "stream",
          "name": "stdout",
          "text": [
            "RMSE en validación: 2.663275797712949\n",
            "Archivo 'submit.csv' generado correctamente\n"
          ]
        }
      ],
      "source": [
        "import pandas as pd\n",
        "import spacy\n",
        "import re\n",
        "from sklearn.feature_extraction.text import TfidfVectorizer\n",
        "from sklearn.naive_bayes import MultinomialNB\n",
        "from sklearn.pipeline import Pipeline\n",
        "from sklearn.model_selection import train_test_split, GridSearchCV\n",
        "from sklearn.metrics import mean_squared_error, make_scorer\n",
        "\n",
        "# Cargar los datos\n",
        "df_train = pd.read_csv('./train.csv')\n",
        "df_test = pd.read_csv('./test.csv')\n",
        "\n",
        "# Cargar modelo spaCy\n",
        "nlp = spacy.load(\"en_core_web_sm\")\n",
        "\n",
        "# Funciones de preprocesamiento\n",
        "def clean_text(text):\n",
        "    text = re.sub(r'\\W+', ' ', text)  # Eliminar caracteres no alfabéticos\n",
        "    text = re.sub(r'\\d+', '', text)   # Eliminar números\n",
        "    return text\n",
        "\n",
        "def lemmatize_text(text):\n",
        "    doc = nlp(text)\n",
        "    return \" \".join([token.lemma_ for token in doc if not token.is_stop and not token.is_punct])\n",
        "\n",
        "def filter_length(text, min_len=3, max_len=20):\n",
        "    return \" \".join([word for word in text.split() if min_len <= len(word) <= max_len])\n",
        "\n",
        "# Combinar y limpiar datos\n",
        "df_train['text'] = (df_train['title'] + \" \" + df_train['description']).apply(clean_text).apply(lemmatize_text).apply(filter_length)\n",
        "df_test['text'] = (df_test['title'] + \" \" + df_test['description']).apply(clean_text).apply(lemmatize_text).apply(filter_length)\n",
        "\n",
        "X = df_train['text']\n",
        "y = df_train['storypoint']\n",
        "\n",
        "# División en entrenamiento y validación\n",
        "X_train, X_val, y_train, y_val = train_test_split(X, y, test_size=0.2, random_state=42)\n",
        "\n",
        "# Pipeline de modelo\n",
        "pipeline = Pipeline([\n",
        "    ('vectorizer', TfidfVectorizer(stop_words='english')),\n",
        "    ('classifier', MultinomialNB())\n",
        "])\n",
        "\n",
        "# Búsqueda de hiperparámetros\n",
        "# param_grid = {\n",
        "#     'vectorizer__max_features': [1000, 2000, 3000],\n",
        "#     'vectorizer__ngram_range': [(1, 1), (1, 2)],\n",
        "#     'vectorizer__min_df': [2, 5, 10],\n",
        "#     'classifier__alpha': [1.0, 2.0, 3.0, 4.0]\n",
        "# }\n",
        "\n",
        "# # MEJOR ANDUVO\n",
        "# param_grid = {\n",
        "#     'vectorizer__max_features': [2000, 5000, 10000],  # Limitar el tamaño del vocabulario\n",
        "#     'vectorizer__ngram_range': [(1, 1), (1, 2)],      # Incluir unigramas y bigramas\n",
        "#     'vectorizer__min_df': [5, 10, 20],                # Filtrar palabras raras\n",
        "#     'classifier__alpha': [1.0, 2.0, 3.0, 5.0]         # Regularización más fuerte\n",
        "# }\n",
        "\n",
        "param_grid = {\n",
        "    'vectorizer__max_features': [5000, 10000, 20000, 30000, 40000],  # Limitar el tamaño del vocabulario\n",
        "    'vectorizer__ngram_range': [(1, 1), (1, 2)],      # Incluir unigramas y bigramas\n",
        "    'vectorizer__min_df': [3, 5, 10, 15, 20],                # Filtrar palabras raras\n",
        "    'classifier__alpha': [0.5, 1.0, 2.0, 3.0, 5.0]         # Regularización más fuerte\n",
        "}\n",
        "\n",
        "scorer = make_scorer(mean_squared_error, squared=False, greater_is_better=False)\n",
        "\n",
        "grid_search = GridSearchCV(pipeline, param_grid, cv=5, scoring=scorer, verbose=2, n_jobs=-1)\n",
        "grid_search.fit(X_train, y_train)\n",
        "\n",
        "# Evaluar el mejor modelo\n",
        "best_model = grid_search.best_estimator_\n",
        "y_val_pred = best_model.predict(X_val)\n",
        "rmse = mean_squared_error(y_val, y_val_pred, squared=False)\n",
        "print(f\"RMSE en validación: {rmse}\")\n",
        "\n",
        "# Generar submission\n",
        "test_predictions = best_model.predict(df_test['text'])\n",
        "submission = pd.DataFrame({'id': df_test['id'], 'storypoint': test_predictions})\n",
        "submission.to_csv('submit.csv', index=False)\n",
        "print(\"Archivo 'submit.csv' generado correctamente\")\n"
      ]
    },
    {
      "cell_type": "code",
      "source": [
        "# # Mostrar los mejores hiperparámetros\n",
        "# best_params = grid_search.best_params_\n",
        "# print(f\"Mejores hiperparámetros: {best_params}\")"
      ],
      "metadata": {
        "colab": {
          "base_uri": "https://localhost:8080/"
        },
        "id": "qEgo1B_IsWHV",
        "outputId": "3c3e0116-910b-4bb0-8e5d-c5bb533249e8"
      },
      "execution_count": 8,
      "outputs": [
        {
          "output_type": "stream",
          "name": "stdout",
          "text": [
            "Mejores hiperparámetros: {'classifier__alpha': 4.0, 'vectorizer__max_features': 3000, 'vectorizer__min_df': 5, 'vectorizer__ngram_range': (1, 1)}\n"
          ]
        }
      ]
    },
    {
      "cell_type": "code",
      "source": [
        "# # Mostrar los mejores hiperparámetros\n",
        "# best_params = grid_search.best_params_\n",
        "# print(f\"Mejores hiperparámetros: {best_params}\")"
      ],
      "metadata": {
        "colab": {
          "base_uri": "https://localhost:8080/"
        },
        "id": "OBjlc_gQzIPP",
        "outputId": "e394fb48-b510-4a61-b62d-04cc19339c8f"
      },
      "execution_count": 18,
      "outputs": [
        {
          "output_type": "stream",
          "name": "stdout",
          "text": [
            "Mejores hiperparámetros: {'classifier__alpha': 5.0, 'vectorizer__max_features': 10000, 'vectorizer__min_df': 5, 'vectorizer__ngram_range': (1, 2)}\n"
          ]
        }
      ]
    },
    {
      "cell_type": "code",
      "source": [
        "# Mostrar los mejores hiperparámetros\n",
        "best_params = grid_search.best_params_\n",
        "print(f\"Mejores hiperparámetros: {best_params}\")"
      ],
      "metadata": {
        "colab": {
          "base_uri": "https://localhost:8080/"
        },
        "id": "QPJCdf-j3vzD",
        "outputId": "7455ea20-b462-4174-dccd-8029a7e9a798"
      },
      "execution_count": 25,
      "outputs": [
        {
          "output_type": "stream",
          "name": "stdout",
          "text": [
            "Mejores hiperparámetros: {'classifier__alpha': 5.0, 'vectorizer__max_features': 20000, 'vectorizer__min_df': 3, 'vectorizer__ngram_range': (1, 2)}\n"
          ]
        }
      ]
    },
    {
      "cell_type": "code",
      "source": [
        "import joblib\n",
        "from joblib import load\n",
        "\n",
        "joblib.dump(best_model, 'best_model_NB_Tfidf_with_title.pkl')"
      ],
      "metadata": {
        "colab": {
          "base_uri": "https://localhost:8080/"
        },
        "id": "tK5QlLAswRhM",
        "outputId": "1ae22a8e-1eb4-4210-baf2-e09e6db03505"
      },
      "execution_count": 26,
      "outputs": [
        {
          "output_type": "execute_result",
          "data": {
            "text/plain": [
              "['best_model_NB_Tfidf_with_title.pkl']"
            ]
          },
          "metadata": {},
          "execution_count": 26
        }
      ]
    },
    {
      "cell_type": "markdown",
      "source": [
        "# Investigacion"
      ],
      "metadata": {
        "id": "9cOKnEV4toIG"
      }
    },
    {
      "cell_type": "markdown",
      "source": [
        "## Inspección y Ajuste de max_features"
      ],
      "metadata": {
        "id": "xkhKOypHuS0R"
      }
    },
    {
      "cell_type": "code",
      "source": [
        "from sklearn.feature_extraction.text import CountVectorizer\n",
        "\n",
        "# Inspección del vocabulario\n",
        "vectorizer = CountVectorizer()\n",
        "X_counts = vectorizer.fit_transform(df_train['text'])\n",
        "vocab_size = len(vectorizer.vocabulary_)\n",
        "print(f\"Tamaño del vocabulario después del preprocesamiento: {vocab_size}\")"
      ],
      "metadata": {
        "colab": {
          "base_uri": "https://localhost:8080/"
        },
        "id": "52ftsRzFtn0S",
        "outputId": "b1c844e6-df44-40fd-db29-c648eb2f820c"
      },
      "execution_count": 9,
      "outputs": [
        {
          "output_type": "stream",
          "name": "stdout",
          "text": [
            "Tamaño del vocabulario después del preprocesamiento: 19016\n"
          ]
        }
      ]
    },
    {
      "cell_type": "markdown",
      "source": [
        "## Inspección y Ajuste de ngram_range"
      ],
      "metadata": {
        "id": "GmFBIBSFuWYg"
      }
    },
    {
      "cell_type": "code",
      "source": [
        "# Longitud promedio de los textos\n",
        "text_lengths = df_train['text'].apply(lambda x: len(x.split()))\n",
        "avg_length = text_lengths.mean()\n",
        "print(f\"Longitud promedio de los textos: {avg_length}\")"
      ],
      "metadata": {
        "colab": {
          "base_uri": "https://localhost:8080/"
        },
        "id": "yz4Hk7p0uXdj",
        "outputId": "6e46e91c-c6ef-4696-fc4f-6a85c08b0ae6"
      },
      "execution_count": 10,
      "outputs": [
        {
          "output_type": "stream",
          "name": "stdout",
          "text": [
            "Longitud promedio de los textos: 74.04708860759494\n"
          ]
        }
      ]
    },
    {
      "cell_type": "markdown",
      "source": [
        "## Inspección y Ajuste de min_df"
      ],
      "metadata": {
        "id": "-Z4TyRD7upgV"
      }
    },
    {
      "cell_type": "code",
      "source": [
        "import numpy as np\n",
        "\n",
        "# Distribución de frecuencias de palabras\n",
        "word_counts = np.asarray(X_counts.sum(axis=0)).flatten()\n",
        "freq_distribution = np.bincount(word_counts)\n",
        "print(f\"Frecuencia de palabras: {freq_distribution}\")"
      ],
      "metadata": {
        "colab": {
          "base_uri": "https://localhost:8080/"
        },
        "id": "wRIw83rmurnd",
        "outputId": "464a9854-b3e8-4d88-aadf-85db1c98f394"
      },
      "execution_count": 11,
      "outputs": [
        {
          "output_type": "stream",
          "name": "stdout",
          "text": [
            "Frecuencia de palabras: [   0 7426 3100 ...    0    0    1]\n"
          ]
        }
      ]
    },
    {
      "cell_type": "code",
      "source": [
        "import matplotlib.pyplot as plt\n",
        "import numpy as np\n",
        "\n",
        "# Calcular la frecuencia de palabras\n",
        "word_counts = np.asarray(X_counts.sum(axis=0)).flatten()\n",
        "freq_distribution = np.bincount(word_counts)\n",
        "\n",
        "# Crear el gráfico\n",
        "plt.figure(figsize=(10, 6))\n",
        "plt.bar(range(len(freq_distribution[:50])), freq_distribution[:50], color='blue', alpha=0.7)\n",
        "plt.title('Distribución de Frecuencia de Palabras (Top 50)')\n",
        "plt.xlabel('Frecuencia de las Palabras')\n",
        "plt.ylabel('Número de Palabras')\n",
        "plt.show()"
      ],
      "metadata": {
        "colab": {
          "base_uri": "https://localhost:8080/",
          "height": 565
        },
        "id": "SQTMCaOzvx91",
        "outputId": "136a1793-8d5a-4e74-8a41-68e5a51091d1"
      },
      "execution_count": 14,
      "outputs": [
        {
          "output_type": "display_data",
          "data": {
            "text/plain": [
              "<Figure size 1000x600 with 1 Axes>"
            ],
            "image/png": "[encoded data removed]"
          },
          "metadata": {}
        }
      ]
    },
    {
      "cell_type": "markdown",
      "source": [
        "## Inspección y Ajuste de alpha"
      ],
      "metadata": {
        "id": "ZyG0a0UUuumZ"
      }
    },
    {
      "cell_type": "code",
      "source": [
        "# Distribución de las etiquetas\n",
        "label_distribution = y_train.value_counts()\n",
        "print(label_distribution)"
      ],
      "metadata": {
        "colab": {
          "base_uri": "https://localhost:8080/"
        },
        "id": "qPYd3dO3uuSI",
        "outputId": "7f58b7bf-9458-421a-c7aa-d33a02f798b5"
      },
      "execution_count": 13,
      "outputs": [
        {
          "output_type": "stream",
          "name": "stdout",
          "text": [
            "storypoint\n",
            "3     1465\n",
            "5     1378\n",
            "1     1298\n",
            "2     1005\n",
            "8      829\n",
            "4      134\n",
            "13     128\n",
            "20      24\n",
            "10      21\n",
            "6       14\n",
            "16       7\n",
            "40       5\n",
            "12       4\n",
            "7        2\n",
            "15       2\n",
            "21       2\n",
            "34       1\n",
            "32       1\n",
            "Name: count, dtype: int64\n"
          ]
        }
      ]
    }
  ]
}