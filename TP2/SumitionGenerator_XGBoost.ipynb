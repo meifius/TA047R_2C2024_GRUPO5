{
 "cells": [
  {
   "cell_type": "code",
   "execution_count": 1,
   "id": "e66db342-5486-42d1-a63a-e3cd907d33a5",
   "metadata": {},
   "outputs": [
    {
     "name": "stderr",
     "output_type": "stream",
     "text": [
      "2024-11-12 18:03:47.623080: I external/local_xla/xla/tsl/cuda/cudart_stub.cc:32] Could not find cuda drivers on your machine, GPU will not be used.\n",
      "2024-11-12 18:03:47.626179: I external/local_xla/xla/tsl/cuda/cudart_stub.cc:32] Could not find cuda drivers on your machine, GPU will not be used.\n",
      "2024-11-12 18:03:47.636167: E external/local_xla/xla/stream_executor/cuda/cuda_fft.cc:477] Unable to register cuFFT factory: Attempting to register factory for plugin cuFFT when one has already been registered\n",
      "WARNING: All log messages before absl::InitializeLog() is called are written to STDERR\n",
      "E0000 00:00:1731445427.653091   14365 cuda_dnn.cc:8310] Unable to register cuDNN factory: Attempting to register factory for plugin cuDNN when one has already been registered\n",
      "E0000 00:00:1731445427.658081   14365 cuda_blas.cc:1418] Unable to register cuBLAS factory: Attempting to register factory for plugin cuBLAS when one has already been registered\n",
      "2024-11-12 18:03:47.674639: I tensorflow/core/platform/cpu_feature_guard.cc:210] This TensorFlow binary is optimized to use available CPU instructions in performance-critical operations.\n",
      "To enable the following instructions: AVX2 FMA, in other operations, rebuild TensorFlow with the appropriate compiler flags.\n"
     ]
    }
   ],
   "source": [
    "import pandas as pd\n",
    "import numpy as np\n",
    "import joblib\n",
    "\n",
    "#Visualización\n",
    "import matplotlib.pyplot as plt\n",
    "import matplotlib.colors as mcolors\n",
    "import seaborn as sns\n",
    "\n",
    "#Métricas\n",
    "import sklearn as sk\n",
    "from sklearn import tree\n",
    "from sklearn.model_selection import train_test_split, cross_val_score\n",
    "from sklearn.metrics import root_mean_squared_error\n",
    "from sklearn.metrics import confusion_matrix, classification_report, make_scorer\n",
    "\n",
    "#Configuración Warnings\n",
    "import warnings\n",
    "warnings.simplefilter(action='ignore', category=FutureWarning)\n",
    "warnings.simplefilter(action='ignore', category=UserWarning)\n",
    "\n",
    "#Regressors\n",
    "from xgboost import XGBRegressor\n",
    "\n",
    "from keras import backend as K\n",
    "from sklearn.model_selection import GridSearchCV, RandomizedSearchCV, StratifiedKFold, KFold\n",
    "\n",
    "#Análisis de Sentimientos\n",
    "from sklearn.feature_extraction.text import CountVectorizer, TfidfVectorizer, TfidfTransformer\n",
    "from sklearn.decomposition import TruncatedSVD\n",
    "from sklearn.pipeline import make_pipeline"
   ]
  },
  {
   "cell_type": "code",
   "execution_count": 2,
   "id": "36689fed",
   "metadata": {
    "id": "36689fed",
    "scrolled": true
   },
   "outputs": [],
   "source": [
    "user_stories_train = pd.read_csv('data/train.csv', low_memory=False)\n",
    "user_stories_test = pd.read_csv('data/test.csv', low_memory=False)"
   ]
  },
  {
   "cell_type": "code",
   "execution_count": 3,
   "id": "cc1ec14b-d2eb-471f-853c-d0a0d6a372a5",
   "metadata": {},
   "outputs": [
    {
     "data": {
      "text/plain": [
       "storypoint\n",
       "3     23.392405\n",
       "5     21.430380\n",
       "1     20.620253\n",
       "2     16.151899\n",
       "8     12.974684\n",
       "4      2.101266\n",
       "13     1.949367\n",
       "10     0.405063\n",
       "20     0.392405\n",
       "6      0.215190\n",
       "16     0.088608\n",
       "12     0.075949\n",
       "40     0.063291\n",
       "21     0.037975\n",
       "15     0.025316\n",
       "7      0.025316\n",
       "32     0.012658\n",
       "34     0.012658\n",
       "14     0.012658\n",
       "24     0.012658\n",
       "Name: proportion, dtype: float64"
      ]
     },
     "execution_count": 3,
     "metadata": {},
     "output_type": "execute_result"
    }
   ],
   "source": [
    "#Verifico balanceo de clases\n",
    "user_stories_train['storypoint'].value_counts(normalize=True)*100"
   ]
  },
  {
   "cell_type": "code",
   "execution_count": 4,
   "id": "ca9bb49c-f4c6-41ea-a0e9-dc13951a652a",
   "metadata": {},
   "outputs": [],
   "source": [
    "#Creamos un dataset con features a usar para clasificar\n",
    "user_stories_x = user_stories_train['description'].copy()\n",
    "user_stories_test_x = user_stories_test['description'].copy()\n",
    "\n",
    "#Creamos un dataset con la variable target 'storypoint'\n",
    "user_stories_y = user_stories_train['storypoint'].copy()"
   ]
  },
  {
   "cell_type": "code",
   "execution_count": 5,
   "id": "d0435f93-7b52-4fa1-9cda-a4571f98548d",
   "metadata": {},
   "outputs": [],
   "source": [
    "import nltk\n",
    "from nltk.corpus import stopwords\n",
    "from nltk.tokenize import word_tokenize\n",
    "from nltk.stem import WordNetLemmatizer\n",
    "\n",
    "def lemmatizationAndStopwords(text):\n",
    "    wordNetLemmatizer = WordNetLemmatizer()\n",
    "    stopwordSets = set(stopwords.words('english'))\n",
    "    words = word_tokenize(text)\n",
    "    wordsFilter = [wordNetLemmatizer.lemmatize(word.lower()) for word in words if word.lower() not in stopwordSets and word.isalpha()]\n",
    "    return ' '.join(wordsFilter)"
   ]
  },
  {
   "cell_type": "code",
   "execution_count": 6,
   "id": "Ax4_Pm0D_BeB",
   "metadata": {
    "id": "Ax4_Pm0D_BeB"
   },
   "outputs": [],
   "source": [
    "#The Best train: 3.0159159380511493\n",
    "# {'xgb_regressor__subsample': 0.7, 'xgb_regressor__reg_lambda': 0.1, 'xgb_regressor__reg_alpha': 0, 'xgb_regressor__random_state': 42, \n",
    "#  'xgb_regressor__objective': 'reg:squarederror', 'xgb_regressor__n_estimators': 500, 'xgb_regressor__max_depth': 10, \n",
    "#  'xgb_regressor__learning_rate': 0.3, 'xgb_regressor__gamma': 0.1, 'xgb_regressor__colsample_bytree': 1, 'tfidf__use_idf': False, \n",
    "#  'tfidf__sublinear_tf': True, 'tfidf__stop_words': ['english'], 'tfidf__ngram_range': (1, 1), 'tfidf__min_df': 5, \n",
    "#  'tfidf__max_features': 2000, 'tfidf__max_df': 0.8, 'tfidf__analyzer': 'word'} \n",
    "\n",
    "#CON SVD: 3.0462914103801038\n",
    "# {'xgb_regressor__subsample': 0.9, 'xgb_regressor__reg_lambda': 1, 'xgb_regressor__reg_alpha': 1, 'xgb_regressor__random_state': 42, \n",
    "#  'xgb_regressor__objective': 'reg:squarederror', 'xgb_regressor__n_estimators': 500, 'xgb_regressor__max_depth': 20, \n",
    "#  'xgb_regressor__learning_rate': 0.3, 'xgb_regressor__gamma': 0.5, 'xgb_regressor__colsample_bytree': 1, 'tfidf__use_idf': True, \n",
    "#  'tfidf__sublinear_tf': False, 'tfidf__stop_words': ['english'], 'tfidf__ngram_range': (1, 1), 'tfidf__min_df': 2, \n",
    "#  'tfidf__max_features': 1000, 'tfidf__max_df': 0.75, 'tfidf__analyzer': 'word', 'svd__random_state': 42, 'svd__n_components': 300} \n",
    "\n",
    "\n",
    "#Creo el modelo y lo entreno\n",
    "xgb_regressor = XGBRegressor(\n",
    "                       # subsample=0.7,\n",
    "                       subsample=0.9,\n",
    "                       # reg_lambda=0.1,\n",
    "                       reg_lambda=1,\n",
    "                       # reg_alpha=0,\n",
    "                        reg_alpha=1,\n",
    "                       random_state=42,\n",
    "                       objective='reg:squarederror',\n",
    "                       n_estimators=500,\n",
    "                       # max_depth=10,\n",
    "                       max_depth=20,\n",
    "                       learning_rate=0.3,\n",
    "                       # gamma=0.1,\n",
    "                       gamma=0.5,\n",
    "                       colsample_bytree=1\n",
    "                      )\n",
    "\n",
    "svd = TruncatedSVD(\n",
    "                    random_state=42,\n",
    "                    n_components=300\n",
    "                  )\n",
    "\n",
    "xgb_model = make_pipeline(TfidfVectorizer(\n",
    "                            analyzer=\"word\",\n",
    "                            stop_words=['english'],\n",
    "                            # max_features=2000,\n",
    "                            max_features=1000,\n",
    "                            ngram_range=(1, 1),\n",
    "                            # min_df=5,\n",
    "                            min_df=2,\n",
    "                            # max_df=0.8,\n",
    "                            max_df=0.75,\n",
    "                            # use_idf=False,\n",
    "                            use_idf=True,\n",
    "                            sublinear_tf=True,\n",
    "                        preprocessor=lemmatizationAndStopwords), svd, xgb_regressor)\n",
    "\n",
    "#Entrenamos el modelo\n",
    "xgb_model = xgb_model.fit(user_stories_x, user_stories_y)"
   ]
  },
  {
   "cell_type": "code",
   "execution_count": 7,
   "id": "n9MjyN8iFw1V",
   "metadata": {
    "colab": {
     "base_uri": "https://localhost:8080/"
    },
    "id": "n9MjyN8iFw1V",
    "outputId": "e3571a74-b5f0-4d74-8c59-49de50148611"
   },
   "outputs": [
    {
     "data": {
      "text/plain": [
       "array([4.7150974, 1.5404733, 2.338317 , ..., 2.4748843, 5.4455504,\n",
       "       4.9089794], dtype=float32)"
      ]
     },
     "execution_count": 7,
     "metadata": {},
     "output_type": "execute_result"
    }
   ],
   "source": [
    "#Realizamos una predicción sobre el set de test\n",
    "y_pred = xgb_model.predict(user_stories_test_x)\n",
    "#Valores Predichos\n",
    "y_pred"
   ]
  },
  {
   "cell_type": "code",
   "execution_count": 8,
   "id": "JsWoAHk8GGcA",
   "metadata": {
    "colab": {
     "base_uri": "https://localhost:8080/"
    },
    "id": "JsWoAHk8GGcA",
    "outputId": "608975e3-93bd-4bfd-d93e-713842cdd073"
   },
   "outputs": [
    {
     "data": {
      "text/plain": [
       "(1975,)"
      ]
     },
     "execution_count": 8,
     "metadata": {},
     "output_type": "execute_result"
    }
   ],
   "source": [
    "y_pred.shape"
   ]
  },
  {
   "cell_type": "markdown",
   "id": "SMz_T4aUWiTh",
   "metadata": {
    "id": "SMz_T4aUWiTh"
   },
   "source": [
    "###Generamos el dataset de predicción para submitir a kaggle"
   ]
  },
  {
   "cell_type": "code",
   "execution_count": 9,
   "id": "uu29wc9vua80",
   "metadata": {
    "colab": {
     "base_uri": "https://localhost:8080/",
     "height": 442
    },
    "id": "uu29wc9vua80",
    "outputId": "a80369bd-98fb-431e-cd2a-020230c17137"
   },
   "outputs": [
    {
     "name": "stdout",
     "output_type": "stream",
     "text": [
      "(1975, 2)\n"
     ]
    },
    {
     "data": {
      "text/html": [
       "<div>\n",
       "<style scoped>\n",
       "    .dataframe tbody tr th:only-of-type {\n",
       "        vertical-align: middle;\n",
       "    }\n",
       "\n",
       "    .dataframe tbody tr th {\n",
       "        vertical-align: top;\n",
       "    }\n",
       "\n",
       "    .dataframe thead th {\n",
       "        text-align: right;\n",
       "    }\n",
       "</style>\n",
       "<table border=\"1\" class=\"dataframe\">\n",
       "  <thead>\n",
       "    <tr style=\"text-align: right;\">\n",
       "      <th></th>\n",
       "      <th>id</th>\n",
       "      <th>storypoint</th>\n",
       "    </tr>\n",
       "  </thead>\n",
       "  <tbody>\n",
       "    <tr>\n",
       "      <th>0</th>\n",
       "      <td>3433</td>\n",
       "      <td>4.715097</td>\n",
       "    </tr>\n",
       "    <tr>\n",
       "      <th>1</th>\n",
       "      <td>106</td>\n",
       "      <td>1.540473</td>\n",
       "    </tr>\n",
       "    <tr>\n",
       "      <th>2</th>\n",
       "      <td>7182</td>\n",
       "      <td>2.338317</td>\n",
       "    </tr>\n",
       "    <tr>\n",
       "      <th>3</th>\n",
       "      <td>8985</td>\n",
       "      <td>2.027675</td>\n",
       "    </tr>\n",
       "    <tr>\n",
       "      <th>4</th>\n",
       "      <td>2149</td>\n",
       "      <td>3.869226</td>\n",
       "    </tr>\n",
       "    <tr>\n",
       "      <th>...</th>\n",
       "      <td>...</td>\n",
       "      <td>...</td>\n",
       "    </tr>\n",
       "    <tr>\n",
       "      <th>1970</th>\n",
       "      <td>9069</td>\n",
       "      <td>4.751425</td>\n",
       "    </tr>\n",
       "    <tr>\n",
       "      <th>1971</th>\n",
       "      <td>3100</td>\n",
       "      <td>4.067661</td>\n",
       "    </tr>\n",
       "    <tr>\n",
       "      <th>1972</th>\n",
       "      <td>6648</td>\n",
       "      <td>2.474884</td>\n",
       "    </tr>\n",
       "    <tr>\n",
       "      <th>1973</th>\n",
       "      <td>6076</td>\n",
       "      <td>5.445550</td>\n",
       "    </tr>\n",
       "    <tr>\n",
       "      <th>1974</th>\n",
       "      <td>5060</td>\n",
       "      <td>4.908979</td>\n",
       "    </tr>\n",
       "  </tbody>\n",
       "</table>\n",
       "<p>1975 rows × 2 columns</p>\n",
       "</div>"
      ],
      "text/plain": [
       "        id  storypoint\n",
       "0     3433    4.715097\n",
       "1      106    1.540473\n",
       "2     7182    2.338317\n",
       "3     8985    2.027675\n",
       "4     2149    3.869226\n",
       "...    ...         ...\n",
       "1970  9069    4.751425\n",
       "1971  3100    4.067661\n",
       "1972  6648    2.474884\n",
       "1973  6076    5.445550\n",
       "1974  5060    4.908979\n",
       "\n",
       "[1975 rows x 2 columns]"
      ]
     },
     "execution_count": 9,
     "metadata": {},
     "output_type": "execute_result"
    }
   ],
   "source": [
    "# genero el dataset id - storypoint:\n",
    "submition = pd.DataFrame({'id': user_stories_test['id'], 'storypoint': y_pred})\n",
    "print(submition.shape)\n",
    "submition"
   ]
  },
  {
   "cell_type": "code",
   "execution_count": 10,
   "id": "ayExhI5_xgBE",
   "metadata": {
    "colab": {
     "base_uri": "https://localhost:8080/"
    },
    "id": "ayExhI5_xgBE",
    "outputId": "642fa5ab-3189-4db9-e1ea-acdff785843c"
   },
   "outputs": [
    {
     "data": {
      "text/plain": [
       "(1975, 2)"
      ]
     },
     "execution_count": 10,
     "metadata": {},
     "output_type": "execute_result"
    }
   ],
   "source": [
    "submition.shape"
   ]
  },
  {
   "cell_type": "code",
   "execution_count": 11,
   "id": "bl084sA0wYPL",
   "metadata": {
    "id": "bl084sA0wYPL"
   },
   "outputs": [],
   "source": [
    "submition.to_csv('xgb_lemm_sw_svd_submit.csv', index=False)"
   ]
  },
  {
   "cell_type": "code",
   "execution_count": null,
   "id": "188bf298-a8d6-40da-b130-8894fdcba1a5",
   "metadata": {},
   "outputs": [],
   "source": []
  }
 ],
 "metadata": {
  "colab": {
   "provenance": []
  },
  "kernelspec": {
   "display_name": "Python 3 (ipykernel)",
   "language": "python",
   "name": "python3"
  },
  "language_info": {
   "codemirror_mode": {
    "name": "ipython",
    "version": 3
   },
   "file_extension": ".py",
   "mimetype": "text/x-python",
   "name": "python",
   "nbconvert_exporter": "python",
   "pygments_lexer": "ipython3",
   "version": "3.12.3"
  }
 },
 "nbformat": 4,
 "nbformat_minor": 5
}
