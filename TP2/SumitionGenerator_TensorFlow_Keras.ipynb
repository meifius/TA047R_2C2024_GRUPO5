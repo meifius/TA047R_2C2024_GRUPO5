{
 "cells": [
  {
   "cell_type": "code",
   "execution_count": 1,
   "id": "e66db342-5486-42d1-a63a-e3cd907d33a5",
   "metadata": {},
   "outputs": [
    {
     "name": "stderr",
     "output_type": "stream",
     "text": [
      "2024-11-29 15:06:30.479942: I external/local_xla/xla/tsl/cuda/cudart_stub.cc:32] Could not find cuda drivers on your machine, GPU will not be used.\n",
      "2024-11-29 15:06:30.483033: I external/local_xla/xla/tsl/cuda/cudart_stub.cc:32] Could not find cuda drivers on your machine, GPU will not be used.\n",
      "2024-11-29 15:06:30.492681: E external/local_xla/xla/stream_executor/cuda/cuda_fft.cc:477] Unable to register cuFFT factory: Attempting to register factory for plugin cuFFT when one has already been registered\n",
      "WARNING: All log messages before absl::InitializeLog() is called are written to STDERR\n",
      "E0000 00:00:1732903590.509133  489515 cuda_dnn.cc:8310] Unable to register cuDNN factory: Attempting to register factory for plugin cuDNN when one has already been registered\n",
      "E0000 00:00:1732903590.514082  489515 cuda_blas.cc:1418] Unable to register cuBLAS factory: Attempting to register factory for plugin cuBLAS when one has already been registered\n",
      "2024-11-29 15:06:30.530401: I tensorflow/core/platform/cpu_feature_guard.cc:210] This TensorFlow binary is optimized to use available CPU instructions in performance-critical operations.\n",
      "To enable the following instructions: AVX2 FMA, in other operations, rebuild TensorFlow with the appropriate compiler flags.\n"
     ]
    }
   ],
   "source": [
    "import pandas as pd\n",
    "import numpy as np\n",
    "import joblib\n",
    "\n",
    "#Visualización\n",
    "import matplotlib.pyplot as plt\n",
    "import matplotlib.colors as mcolors\n",
    "import seaborn as sns\n",
    "\n",
    "#Métricas\n",
    "import sklearn as sk\n",
    "from sklearn import tree\n",
    "from sklearn.model_selection import train_test_split, cross_val_score\n",
    "from sklearn.metrics import root_mean_squared_error\n",
    "from sklearn.metrics import confusion_matrix, classification_report, make_scorer\n",
    "\n",
    "#Configuración Warnings\n",
    "import warnings\n",
    "warnings.simplefilter(action='ignore', category=FutureWarning)\n",
    "warnings.simplefilter(action='ignore', category=UserWarning)\n",
    "\n",
    "#Regressors\n",
    "import tensorflow as tf\n",
    "from tensorflow import keras\n",
    "from scikeras.wrappers import KerasRegressor\n",
    "\n",
    "from keras import backend as K\n",
    "\n",
    "#Análisis de Sentimientos\n",
    "from sklearn.feature_extraction.text import CountVectorizer, TfidfVectorizer, TfidfTransformer\n",
    "from sklearn.decomposition import TruncatedSVD\n",
    "from sklearn.pipeline import make_pipeline"
   ]
  },
  {
   "cell_type": "code",
   "execution_count": 2,
   "id": "36689fed",
   "metadata": {
    "id": "36689fed",
    "scrolled": true
   },
   "outputs": [],
   "source": [
    "user_stories_train = pd.read_csv('data/train.csv', low_memory=False)\n",
    "user_stories_test = pd.read_csv('data/test.csv', low_memory=False)"
   ]
  },
  {
   "cell_type": "code",
   "execution_count": 3,
   "id": "cc1ec14b-d2eb-471f-853c-d0a0d6a372a5",
   "metadata": {},
   "outputs": [
    {
     "data": {
      "text/plain": [
       "storypoint\n",
       "3     23.392405\n",
       "5     21.430380\n",
       "1     20.620253\n",
       "2     16.151899\n",
       "8     12.974684\n",
       "4      2.101266\n",
       "13     1.949367\n",
       "10     0.405063\n",
       "20     0.392405\n",
       "6      0.215190\n",
       "16     0.088608\n",
       "12     0.075949\n",
       "40     0.063291\n",
       "21     0.037975\n",
       "15     0.025316\n",
       "7      0.025316\n",
       "32     0.012658\n",
       "34     0.012658\n",
       "14     0.012658\n",
       "24     0.012658\n",
       "Name: proportion, dtype: float64"
      ]
     },
     "execution_count": 3,
     "metadata": {},
     "output_type": "execute_result"
    }
   ],
   "source": [
    "#Verifico balanceo de clases\n",
    "user_stories_train['storypoint'].value_counts(normalize=True)*100"
   ]
  },
  {
   "cell_type": "code",
   "execution_count": 4,
   "id": "ca9bb49c-f4c6-41ea-a0e9-dc13951a652a",
   "metadata": {},
   "outputs": [],
   "source": [
    "#Creamos un dataset con features a usar para clasificar\n",
    "user_stories_x = user_stories_train['description'].copy()\n",
    "user_stories_test_x = user_stories_test['description'].copy()\n",
    "\n",
    "#Creamos un dataset con la variable target 'storypoint'\n",
    "user_stories_y = user_stories_train['storypoint'].copy()"
   ]
  },
  {
   "cell_type": "code",
   "execution_count": 5,
   "id": "fae3067d-14ac-4d2a-a309-a63fb0335b4b",
   "metadata": {},
   "outputs": [
    {
     "name": "stderr",
     "output_type": "stream",
     "text": [
      "[nltk_data] Downloading package punkt to\n",
      "[nltk_data]     /home/users/pablo.prieto/nltk_data...\n",
      "[nltk_data]   Package punkt is already up-to-date!\n",
      "[nltk_data] Downloading package stopwords to\n",
      "[nltk_data]     /home/users/pablo.prieto/nltk_data...\n",
      "[nltk_data]   Package stopwords is already up-to-date!\n",
      "[nltk_data] Downloading package wordnet to\n",
      "[nltk_data]     /home/users/pablo.prieto/nltk_data...\n",
      "[nltk_data]   Package wordnet is already up-to-date!\n"
     ]
    },
    {
     "data": {
      "text/plain": [
       "True"
      ]
     },
     "execution_count": 5,
     "metadata": {},
     "output_type": "execute_result"
    }
   ],
   "source": [
    "import nltk\n",
    "nltk.download('punkt')\n",
    "nltk.download('stopwords')\n",
    "nltk.download('wordnet')"
   ]
  },
  {
   "cell_type": "code",
   "execution_count": 6,
   "id": "d0435f93-7b52-4fa1-9cda-a4571f98548d",
   "metadata": {},
   "outputs": [],
   "source": [
    "import nltk\n",
    "from nltk.corpus import stopwords\n",
    "from nltk.tokenize import word_tokenize\n",
    "from nltk.stem import WordNetLemmatizer\n",
    "\n",
    "def lemmatizationAndStopwords(text):\n",
    "    wordNetLemmatizer = WordNetLemmatizer()\n",
    "    stopwordSets = set(stopwords.words('english'))\n",
    "    words = word_tokenize(text)\n",
    "    wordsFilter = [wordNetLemmatizer.lemmatize(word.lower()) for word in words if word.lower() not in stopwordSets and word.isalpha()]\n",
    "    if not wordsFilter:\n",
    "        return \"empty\"\n",
    "    return ' '.join(wordsFilter)"
   ]
  },
  {
   "cell_type": "code",
   "execution_count": 7,
   "id": "0f678961-f2c7-42a7-852d-03863ac60640",
   "metadata": {},
   "outputs": [],
   "source": [
    "import tensorflow as tf\n",
    "from tensorflow.keras.layers import TextVectorization\n",
    "from tensorflow.keras.models import Sequential\n",
    "from tensorflow.keras.layers import Dense, Dropout, Embedding, GlobalAveragePooling1D\n",
    "from tensorflow.keras.optimizers import Adam\n",
    "\n",
    "max_tokens = 20000\n",
    "sequence_length = 100\n",
    "\n",
    "def build_model(input_dim, dropout_rate, dense_units, learning_rate):\n",
    "    model = Sequential([\n",
    "        Dense(128, activation=\"relu\", input_dim=input_dim),\n",
    "        Dropout(dropout_rate),\n",
    "        Dense(dense_units, activation=\"relu\"),\n",
    "        Dense(1, activation=\"linear\")\n",
    "    ])\n",
    "    model.compile(optimizer=Adam(learning_rate=learning_rate), \n",
    "                  loss='mean_squared_error', \n",
    "                  metrics=['RootMeanSquaredError'])\n",
    "    return model\n",
    "    "
   ]
  },
  {
   "cell_type": "code",
   "execution_count": 8,
   "id": "Ax4_Pm0D_BeB",
   "metadata": {
    "id": "Ax4_Pm0D_BeB"
   },
   "outputs": [
    {
     "name": "stderr",
     "output_type": "stream",
     "text": [
      "2024-11-29 15:06:41.812496: E external/local_xla/xla/stream_executor/cuda/cuda_driver.cc:152] failed call to cuInit: INTERNAL: CUDA error: Failed call to cuInit: UNKNOWN ERROR (303)\n"
     ]
    }
   ],
   "source": [
    "#The Best train: 2.8201966753545467 \n",
    " # {'tfidf__use_idf': False, 'tfidf__sublinear_tf': False, 'tfidf__stop_words': ['english'], 'tfidf__ngram_range': (1, 2), \n",
    " #  'tfidf__min_df': 2, 'tfidf__max_features': 1000, 'tfidf__max_df': 0.8, 'tfidf__analyzer': 'word', 'svd__random_state': 42, \n",
    " #  'svd__n_components': 100, 'keras_regressor__learning_rate': 0.001, 'keras_regressor__epochs': 10,\n",
    " #  'keras_regressor__dropout_rate': 0.4, 'keras_regressor__dense_units': 32, 'keras_regressor__batch_size': 16}\n",
    "\n",
    "\n",
    "#Creo el modelo y lo entreno\n",
    "keras_regressor = KerasRegressor(\n",
    "                    model=build_model,\n",
    "                    input_dim=100,\n",
    "                    dropout_rate=0.4,\n",
    "                    dense_units=32,\n",
    "                    learning_rate=0.001,\n",
    "                    epochs=10,\n",
    "                    batch_size=16,\n",
    "                    verbose=0\n",
    "                )\n",
    "\n",
    "svd = TruncatedSVD(\n",
    "                    random_state=42,\n",
    "                    n_components=100\n",
    "                  )\n",
    "\n",
    "tensorFlow_keras_model = make_pipeline(TfidfVectorizer(\n",
    "                            analyzer=\"word\",\n",
    "                            stop_words=['english'],\n",
    "                            max_features=1000,\n",
    "                            ngram_range=(1, 2),\n",
    "                            min_df=2,\n",
    "                            max_df=0.8,\n",
    "                            use_idf=False,\n",
    "                            sublinear_tf=False,\n",
    "                        preprocessor=lemmatizationAndStopwords), svd, keras_regressor)\n",
    "\n",
    "#Entrenamos el modelo\n",
    "tensorFlow_keras_model = tensorFlow_keras_model.fit(user_stories_x, user_stories_y)"
   ]
  },
  {
   "cell_type": "code",
   "execution_count": 9,
   "id": "n9MjyN8iFw1V",
   "metadata": {
    "colab": {
     "base_uri": "https://localhost:8080/"
    },
    "id": "n9MjyN8iFw1V",
    "outputId": "e3571a74-b5f0-4d74-8c59-49de50148611"
   },
   "outputs": [
    {
     "data": {
      "text/plain": [
       "array([5.9444466, 2.0867465, 1.8616592, ..., 2.4857378, 7.7052927,\n",
       "       2.862949 ], dtype=float32)"
      ]
     },
     "execution_count": 9,
     "metadata": {},
     "output_type": "execute_result"
    }
   ],
   "source": [
    "#Realizamos una predicción sobre el set de test\n",
    "y_pred = tensorFlow_keras_model.predict(user_stories_test_x)\n",
    "#Valores Predichos\n",
    "y_pred"
   ]
  },
  {
   "cell_type": "code",
   "execution_count": 10,
   "id": "JsWoAHk8GGcA",
   "metadata": {
    "colab": {
     "base_uri": "https://localhost:8080/"
    },
    "id": "JsWoAHk8GGcA",
    "outputId": "608975e3-93bd-4bfd-d93e-713842cdd073"
   },
   "outputs": [
    {
     "data": {
      "text/plain": [
       "(1975,)"
      ]
     },
     "execution_count": 10,
     "metadata": {},
     "output_type": "execute_result"
    }
   ],
   "source": [
    "y_pred.shape"
   ]
  },
  {
   "cell_type": "markdown",
   "id": "SMz_T4aUWiTh",
   "metadata": {
    "id": "SMz_T4aUWiTh"
   },
   "source": [
    "###Generamos el dataset de predicción para submitir a kaggle"
   ]
  },
  {
   "cell_type": "code",
   "execution_count": 11,
   "id": "uu29wc9vua80",
   "metadata": {
    "colab": {
     "base_uri": "https://localhost:8080/",
     "height": 442
    },
    "id": "uu29wc9vua80",
    "outputId": "a80369bd-98fb-431e-cd2a-020230c17137"
   },
   "outputs": [
    {
     "name": "stdout",
     "output_type": "stream",
     "text": [
      "(1975, 2)\n"
     ]
    },
    {
     "data": {
      "text/html": [
       "<div>\n",
       "<style scoped>\n",
       "    .dataframe tbody tr th:only-of-type {\n",
       "        vertical-align: middle;\n",
       "    }\n",
       "\n",
       "    .dataframe tbody tr th {\n",
       "        vertical-align: top;\n",
       "    }\n",
       "\n",
       "    .dataframe thead th {\n",
       "        text-align: right;\n",
       "    }\n",
       "</style>\n",
       "<table border=\"1\" class=\"dataframe\">\n",
       "  <thead>\n",
       "    <tr style=\"text-align: right;\">\n",
       "      <th></th>\n",
       "      <th>id</th>\n",
       "      <th>storypoint</th>\n",
       "    </tr>\n",
       "  </thead>\n",
       "  <tbody>\n",
       "    <tr>\n",
       "      <th>0</th>\n",
       "      <td>3433</td>\n",
       "      <td>5.944447</td>\n",
       "    </tr>\n",
       "    <tr>\n",
       "      <th>1</th>\n",
       "      <td>106</td>\n",
       "      <td>2.086746</td>\n",
       "    </tr>\n",
       "    <tr>\n",
       "      <th>2</th>\n",
       "      <td>7182</td>\n",
       "      <td>1.861659</td>\n",
       "    </tr>\n",
       "    <tr>\n",
       "      <th>3</th>\n",
       "      <td>8985</td>\n",
       "      <td>1.681114</td>\n",
       "    </tr>\n",
       "    <tr>\n",
       "      <th>4</th>\n",
       "      <td>2149</td>\n",
       "      <td>1.852773</td>\n",
       "    </tr>\n",
       "    <tr>\n",
       "      <th>...</th>\n",
       "      <td>...</td>\n",
       "      <td>...</td>\n",
       "    </tr>\n",
       "    <tr>\n",
       "      <th>1970</th>\n",
       "      <td>9069</td>\n",
       "      <td>3.386106</td>\n",
       "    </tr>\n",
       "    <tr>\n",
       "      <th>1971</th>\n",
       "      <td>3100</td>\n",
       "      <td>1.671859</td>\n",
       "    </tr>\n",
       "    <tr>\n",
       "      <th>1972</th>\n",
       "      <td>6648</td>\n",
       "      <td>2.485738</td>\n",
       "    </tr>\n",
       "    <tr>\n",
       "      <th>1973</th>\n",
       "      <td>6076</td>\n",
       "      <td>7.705293</td>\n",
       "    </tr>\n",
       "    <tr>\n",
       "      <th>1974</th>\n",
       "      <td>5060</td>\n",
       "      <td>2.862949</td>\n",
       "    </tr>\n",
       "  </tbody>\n",
       "</table>\n",
       "<p>1975 rows × 2 columns</p>\n",
       "</div>"
      ],
      "text/plain": [
       "        id  storypoint\n",
       "0     3433    5.944447\n",
       "1      106    2.086746\n",
       "2     7182    1.861659\n",
       "3     8985    1.681114\n",
       "4     2149    1.852773\n",
       "...    ...         ...\n",
       "1970  9069    3.386106\n",
       "1971  3100    1.671859\n",
       "1972  6648    2.485738\n",
       "1973  6076    7.705293\n",
       "1974  5060    2.862949\n",
       "\n",
       "[1975 rows x 2 columns]"
      ]
     },
     "execution_count": 11,
     "metadata": {},
     "output_type": "execute_result"
    }
   ],
   "source": [
    "# genero el dataset id - storypoint:\n",
    "submition = pd.DataFrame({'id': user_stories_test['id'], 'storypoint': y_pred})\n",
    "print(submition.shape)\n",
    "submition"
   ]
  },
  {
   "cell_type": "code",
   "execution_count": 12,
   "id": "ayExhI5_xgBE",
   "metadata": {
    "colab": {
     "base_uri": "https://localhost:8080/"
    },
    "id": "ayExhI5_xgBE",
    "outputId": "642fa5ab-3189-4db9-e1ea-acdff785843c"
   },
   "outputs": [
    {
     "data": {
      "text/plain": [
       "(1975, 2)"
      ]
     },
     "execution_count": 12,
     "metadata": {},
     "output_type": "execute_result"
    }
   ],
   "source": [
    "submition.shape"
   ]
  },
  {
   "cell_type": "code",
   "execution_count": 13,
   "id": "bl084sA0wYPL",
   "metadata": {
    "id": "bl084sA0wYPL"
   },
   "outputs": [],
   "source": [
    "submition.to_csv('tensorFlow_keras_submit.csv', index=False)"
   ]
  },
  {
   "cell_type": "code",
   "execution_count": null,
   "id": "188bf298-a8d6-40da-b130-8894fdcba1a5",
   "metadata": {},
   "outputs": [],
   "source": []
  }
 ],
 "metadata": {
  "colab": {
   "provenance": []
  },
  "kernelspec": {
   "display_name": "Python 3 (ipykernel)",
   "language": "python",
   "name": "python3"
  },
  "language_info": {
   "codemirror_mode": {
    "name": "ipython",
    "version": 3
   },
   "file_extension": ".py",
   "mimetype": "text/x-python",
   "name": "python",
   "nbconvert_exporter": "python",
   "pygments_lexer": "ipython3",
   "version": "3.12.3"
  }
 },
 "nbformat": 4,
 "nbformat_minor": 5
}
