{
 "cells": [
  {
   "cell_type": "code",
   "execution_count": 1,
   "id": "383458ff-4f5b-4724-9b63-1646576824b2",
   "metadata": {},
   "outputs": [
    {
     "name": "stderr",
     "output_type": "stream",
     "text": [
      "2024-12-01 22:04:52.813757: I external/local_xla/xla/tsl/cuda/cudart_stub.cc:32] Could not find cuda drivers on your machine, GPU will not be used.\n",
      "2024-12-01 22:04:52.817030: I external/local_xla/xla/tsl/cuda/cudart_stub.cc:32] Could not find cuda drivers on your machine, GPU will not be used.\n",
      "2024-12-01 22:04:52.827110: E external/local_xla/xla/stream_executor/cuda/cuda_fft.cc:477] Unable to register cuFFT factory: Attempting to register factory for plugin cuFFT when one has already been registered\n",
      "WARNING: All log messages before absl::InitializeLog() is called are written to STDERR\n",
      "E0000 00:00:1733101492.843978 1159276 cuda_dnn.cc:8310] Unable to register cuDNN factory: Attempting to register factory for plugin cuDNN when one has already been registered\n",
      "E0000 00:00:1733101492.849083 1159276 cuda_blas.cc:1418] Unable to register cuBLAS factory: Attempting to register factory for plugin cuBLAS when one has already been registered\n",
      "2024-12-01 22:04:52.866000: I tensorflow/core/platform/cpu_feature_guard.cc:210] This TensorFlow binary is optimized to use available CPU instructions in performance-critical operations.\n",
      "To enable the following instructions: AVX2 FMA, in other operations, rebuild TensorFlow with the appropriate compiler flags.\n"
     ]
    }
   ],
   "source": [
    "import pandas as pd\n",
    "import numpy as np\n",
    "import joblib\n",
    "\n",
    "#Visualización\n",
    "import matplotlib.pyplot as plt\n",
    "import matplotlib.colors as mcolors\n",
    "import seaborn as sns\n",
    "\n",
    "#Métricas\n",
    "import sklearn as sk\n",
    "from sklearn import tree\n",
    "from sklearn.model_selection import train_test_split, cross_val_score\n",
    "from sklearn.metrics import root_mean_squared_error\n",
    "from sklearn.metrics import confusion_matrix, classification_report, make_scorer\n",
    "\n",
    "#Configuración Warnings\n",
    "import warnings\n",
    "warnings.simplefilter(action='ignore', category=FutureWarning)\n",
    "warnings.simplefilter(action='ignore', category=UserWarning)\n",
    "\n",
    "#Regressors\n",
    "import tensorflow as tf\n",
    "from tensorflow import keras\n",
    "from scikeras.wrappers import KerasRegressor\n",
    "\n",
    "from keras import backend as K\n",
    "from sklearn.model_selection import GridSearchCV, RandomizedSearchCV, KFold\n",
    "\n",
    "#Análisis de Sentimientos\n",
    "from sklearn.feature_extraction.text import CountVectorizer, TfidfVectorizer, TfidfTransformer\n",
    "from sklearn.decomposition import TruncatedSVD\n",
    "from sklearn.preprocessing import StandardScaler"
   ]
  },
  {
   "cell_type": "code",
   "execution_count": 2,
   "id": "36689fed",
   "metadata": {
    "id": "36689fed",
    "scrolled": true
   },
   "outputs": [],
   "source": [
    "user_stories_train = pd.read_csv('data/train.csv', low_memory=False)"
   ]
  },
  {
   "cell_type": "code",
   "execution_count": 3,
   "id": "Wsdp631-9TUx",
   "metadata": {
    "colab": {
     "base_uri": "https://localhost:8080/"
    },
    "id": "Wsdp631-9TUx",
    "outputId": "0430dfa1-5221-4f50-bcbc-17a1bfd536ae"
   },
   "outputs": [
    {
     "data": {
      "text/html": [
       "<div>\n",
       "<style scoped>\n",
       "    .dataframe tbody tr th:only-of-type {\n",
       "        vertical-align: middle;\n",
       "    }\n",
       "\n",
       "    .dataframe tbody tr th {\n",
       "        vertical-align: top;\n",
       "    }\n",
       "\n",
       "    .dataframe thead th {\n",
       "        text-align: right;\n",
       "    }\n",
       "</style>\n",
       "<table border=\"1\" class=\"dataframe\">\n",
       "  <thead>\n",
       "    <tr style=\"text-align: right;\">\n",
       "      <th></th>\n",
       "      <th>id</th>\n",
       "      <th>title</th>\n",
       "      <th>description</th>\n",
       "      <th>project</th>\n",
       "      <th>storypoint</th>\n",
       "    </tr>\n",
       "  </thead>\n",
       "  <tbody>\n",
       "    <tr>\n",
       "      <th>0</th>\n",
       "      <td>5660</td>\n",
       "      <td>Error enabling Appcelerator services during ap...</td>\n",
       "      <td>When creating the default app, I encountered t...</td>\n",
       "      <td>project8</td>\n",
       "      <td>3</td>\n",
       "    </tr>\n",
       "    <tr>\n",
       "      <th>1</th>\n",
       "      <td>9014</td>\n",
       "      <td>Create a maintenance branch</td>\n",
       "      <td>As a developer, I'd like to have a maintenance...</td>\n",
       "      <td>project6</td>\n",
       "      <td>5</td>\n",
       "    </tr>\n",
       "    <tr>\n",
       "      <th>2</th>\n",
       "      <td>4094</td>\n",
       "      <td>Service Activity Monitoring Backend integrated...</td>\n",
       "      <td>SAM API used by SAM GUI</td>\n",
       "      <td>project1</td>\n",
       "      <td>5</td>\n",
       "    </tr>\n",
       "    <tr>\n",
       "      <th>3</th>\n",
       "      <td>811</td>\n",
       "      <td>fs::enter(rootfs) does not work if 'rootfs' is...</td>\n",
       "      <td>I noticed this when I was testing the unified ...</td>\n",
       "      <td>project5</td>\n",
       "      <td>2</td>\n",
       "    </tr>\n",
       "    <tr>\n",
       "      <th>4</th>\n",
       "      <td>4459</td>\n",
       "      <td>transform processor with script option is broken</td>\n",
       "      <td>Creating the following stream throws exception...</td>\n",
       "      <td>project6</td>\n",
       "      <td>2</td>\n",
       "    </tr>\n",
       "  </tbody>\n",
       "</table>\n",
       "</div>"
      ],
      "text/plain": [
       "     id                                              title  \\\n",
       "0  5660  Error enabling Appcelerator services during ap...   \n",
       "1  9014                        Create a maintenance branch   \n",
       "2  4094  Service Activity Monitoring Backend integrated...   \n",
       "3   811  fs::enter(rootfs) does not work if 'rootfs' is...   \n",
       "4  4459   transform processor with script option is broken   \n",
       "\n",
       "                                         description   project  storypoint  \n",
       "0  When creating the default app, I encountered t...  project8           3  \n",
       "1  As a developer, I'd like to have a maintenance...  project6           5  \n",
       "2                            SAM API used by SAM GUI  project1           5  \n",
       "3  I noticed this when I was testing the unified ...  project5           2  \n",
       "4  Creating the following stream throws exception...  project6           2  "
      ]
     },
     "execution_count": 3,
     "metadata": {},
     "output_type": "execute_result"
    }
   ],
   "source": [
    "user_stories_train.head()"
   ]
  },
  {
   "cell_type": "code",
   "execution_count": 4,
   "id": "49ebf362",
   "metadata": {},
   "outputs": [
    {
     "data": {
      "text/plain": [
       "id              int64\n",
       "title          object\n",
       "description    object\n",
       "project        object\n",
       "storypoint      int64\n",
       "dtype: object"
      ]
     },
     "execution_count": 4,
     "metadata": {},
     "output_type": "execute_result"
    }
   ],
   "source": [
    "user_stories_train.dtypes"
   ]
  },
  {
   "cell_type": "code",
   "execution_count": 5,
   "id": "agVdguy6-pvx",
   "metadata": {
    "id": "agVdguy6-pvx"
   },
   "outputs": [
    {
     "name": "stdout",
     "output_type": "stream",
     "text": [
      "Cantidad de columnas: 5\n",
      "Cantidad de filas: 7900\n"
     ]
    }
   ],
   "source": [
    "# Vemos cantidad de filas y columnas\n",
    "user_stories_train_size = user_stories_train.shape\n",
    "print(\"Cantidad de columnas: %d\" % user_stories_train_size[1])\n",
    "print(\"Cantidad de filas: %d\" % user_stories_train_size[0])"
   ]
  },
  {
   "cell_type": "code",
   "execution_count": 6,
   "id": "9T8yqcOQFTi2",
   "metadata": {
    "id": "9T8yqcOQFTi2"
   },
   "outputs": [
    {
     "name": "stdout",
     "output_type": "stream",
     "text": [
      "Se eliminaron: 0 filas duplicadas\n"
     ]
    }
   ],
   "source": [
    "# Analizamos si hay filas duplicadas\n",
    "user_stories_train_total = len(user_stories_train)\n",
    "user_stories_train_unique = user_stories_train.drop_duplicates()\n",
    "user_stories_train_unique_size = len(user_stories_train_unique)\n",
    "print(f'Se eliminaron: {user_stories_train_total - user_stories_train_unique_size} filas duplicadas')"
   ]
  },
  {
   "cell_type": "code",
   "execution_count": 7,
   "id": "zt0V57ELFrU-",
   "metadata": {
    "id": "zt0V57ELFrU-"
   },
   "outputs": [
    {
     "data": {
      "text/plain": [
       "id             0\n",
       "title          0\n",
       "description    0\n",
       "project        0\n",
       "storypoint     0\n",
       "dtype: int64"
      ]
     },
     "execution_count": 7,
     "metadata": {},
     "output_type": "execute_result"
    }
   ],
   "source": [
    "# Vemos cantidad de datos faltantes\n",
    "user_stories_train.isna().sum()"
   ]
  },
  {
   "cell_type": "code",
   "execution_count": 8,
   "id": "n9MjyN8iFw1V",
   "metadata": {
    "colab": {
     "base_uri": "https://localhost:8080/"
    },
    "id": "n9MjyN8iFw1V",
    "outputId": "e6d0b23b-3376-4b35-b499-b250f89ef493"
   },
   "outputs": [
    {
     "data": {
      "text/plain": [
       "storypoint\n",
       "3     23.392405\n",
       "5     21.430380\n",
       "1     20.620253\n",
       "2     16.151899\n",
       "8     12.974684\n",
       "4      2.101266\n",
       "13     1.949367\n",
       "10     0.405063\n",
       "20     0.392405\n",
       "6      0.215190\n",
       "16     0.088608\n",
       "12     0.075949\n",
       "40     0.063291\n",
       "21     0.037975\n",
       "15     0.025316\n",
       "7      0.025316\n",
       "32     0.012658\n",
       "34     0.012658\n",
       "14     0.012658\n",
       "24     0.012658\n",
       "Name: proportion, dtype: float64"
      ]
     },
     "execution_count": 8,
     "metadata": {},
     "output_type": "execute_result"
    }
   ],
   "source": [
    "#Verifico balanceo de clases\n",
    "user_stories_train['storypoint'].value_counts(normalize=True)*100"
   ]
  },
  {
   "cell_type": "markdown",
   "id": "538bcda7",
   "metadata": {},
   "source": [
    "### Preparamos el dataset"
   ]
  },
  {
   "cell_type": "code",
   "execution_count": 9,
   "id": "xBfg8oHRGKFN",
   "metadata": {
    "colab": {
     "base_uri": "https://localhost:8080/"
    },
    "id": "xBfg8oHRGKFN",
    "outputId": "af44b244-57d8-44b1-955b-6ca04803bf8b"
   },
   "outputs": [],
   "source": [
    "#Creamos un dataset con features a usar para clasificar\n",
    "user_stories_x = user_stories_train['description'].copy()\n",
    "\n",
    "#Creamos un dataset con la variable target 'storypoint'\n",
    "user_stories_y = user_stories_train['storypoint'].copy()\n",
    "\n",
    "#Genero los conjuntos de train y test\n",
    "x_train, x_test, y_train, y_test = train_test_split(user_stories_x,\n",
    "                                                   user_stories_y,\n",
    "                                                   test_size=0.3,  #proporcion 70/30\n",
    "                                                   random_state=2) #semilla"
   ]
  },
  {
   "cell_type": "code",
   "execution_count": 10,
   "id": "JsWoAHk8GGcA",
   "metadata": {
    "colab": {
     "base_uri": "https://localhost:8080/"
    },
    "id": "JsWoAHk8GGcA",
    "outputId": "6ac11d56-6f99-44fa-8d35-ea560a669922"
   },
   "outputs": [
    {
     "data": {
      "text/plain": [
       "2646    The plugin will need to contribute the icon. W...\n",
       "2724    The timer: component is used to generate messa...\n",
       "5159    h5.Description:  In CLI we have the ability to...\n",
       "976     We need to refactor the way how we package and...\n",
       "2187    Standalone Admin currently has no shiny banner...\n",
       "                              ...                        \n",
       "3606    h5. Description:  When launching Studio with C...\n",
       "5704    When a .tss file contains certain grammars, Ti...\n",
       "6637    The data that is entering a broadcast stream c...\n",
       "2575    Provide the infrastructure for HTTP GET /compl...\n",
       "7336    Studio shows an Empty Preferences window when ...\n",
       "Name: description, Length: 5530, dtype: object"
      ]
     },
     "execution_count": 10,
     "metadata": {},
     "output_type": "execute_result"
    }
   ],
   "source": [
    "x_train"
   ]
  },
  {
   "cell_type": "code",
   "execution_count": 11,
   "id": "Vee6iDIHF05c",
   "metadata": {
    "colab": {
     "base_uri": "https://localhost:8080/"
    },
    "id": "Vee6iDIHF05c",
    "outputId": "caba3b93-589e-4be4-b6c7-c4e4f7fedefe"
   },
   "outputs": [
    {
     "data": {
      "text/plain": [
       "2646    8\n",
       "2724    2\n",
       "5159    8\n",
       "976     2\n",
       "2187    3\n",
       "       ..\n",
       "3606    5\n",
       "5704    2\n",
       "6637    2\n",
       "2575    3\n",
       "7336    3\n",
       "Name: storypoint, Length: 5530, dtype: int64"
      ]
     },
     "execution_count": 11,
     "metadata": {},
     "output_type": "execute_result"
    }
   ],
   "source": [
    "y_train"
   ]
  },
  {
   "cell_type": "markdown",
   "id": "a1088e33",
   "metadata": {
    "colab": {
     "base_uri": "https://localhost:8080/",
     "height": 363
    },
    "id": "gpKJEuTgF5E5",
    "outputId": "ebbe5343-62e4-4d34-b532-60138b42151c"
   },
   "source": [
    "## TensorFlow y Keras"
   ]
  },
  {
   "cell_type": "markdown",
   "id": "2bSB7j8BLtRB",
   "metadata": {
    "id": "2bSB7j8BLtRB"
   },
   "source": [
    "###Cross Validation"
   ]
  },
  {
   "cell_type": "code",
   "execution_count": 12,
   "id": "c26efa8c-1b2f-47ac-9925-8ced8968e624",
   "metadata": {},
   "outputs": [
    {
     "name": "stderr",
     "output_type": "stream",
     "text": [
      "[nltk_data] Downloading package punkt to\n",
      "[nltk_data]     /home/users/pablo.prieto/nltk_data...\n",
      "[nltk_data]   Package punkt is already up-to-date!\n",
      "[nltk_data] Downloading package stopwords to\n",
      "[nltk_data]     /home/users/pablo.prieto/nltk_data...\n",
      "[nltk_data]   Package stopwords is already up-to-date!\n",
      "[nltk_data] Downloading package wordnet to\n",
      "[nltk_data]     /home/users/pablo.prieto/nltk_data...\n",
      "[nltk_data]   Package wordnet is already up-to-date!\n"
     ]
    },
    {
     "data": {
      "text/plain": [
       "True"
      ]
     },
     "execution_count": 12,
     "metadata": {},
     "output_type": "execute_result"
    }
   ],
   "source": [
    "import nltk\n",
    "nltk.download('punkt')\n",
    "nltk.download('stopwords')\n",
    "nltk.download('wordnet')"
   ]
  },
  {
   "cell_type": "code",
   "execution_count": 13,
   "id": "3d57b61a-379d-4017-84d3-6aa584fcd71c",
   "metadata": {},
   "outputs": [],
   "source": [
    "import nltk\n",
    "from nltk.corpus import stopwords\n",
    "from nltk.tokenize import word_tokenize\n",
    "from nltk.stem import WordNetLemmatizer\n",
    "\n",
    "def lemmatizationAndStopwords(text):\n",
    "    wordNetLemmatizer = WordNetLemmatizer()\n",
    "    stopwordSets = set(stopwords.words('english'))\n",
    "    words = word_tokenize(text)\n",
    "    wordsFilter = [wordNetLemmatizer.lemmatize(word.lower()) for word in words if word.lower() not in stopwordSets and word.isalpha()]\n",
    "    if not wordsFilter:\n",
    "        return \"empty\"\n",
    "    return ' '.join(wordsFilter)"
   ]
  },
  {
   "cell_type": "code",
   "execution_count": 14,
   "id": "caf43dfa-4c6e-40aa-8eb3-98f0b1aa6c42",
   "metadata": {},
   "outputs": [],
   "source": [
    "from tensorflow.keras.callbacks import EarlyStopping\n",
    "\n",
    "early_stopping = EarlyStopping(\n",
    "    monitor='val_loss',  # Monitorea la pérdida en el conjunto de validación\n",
    "    patience=5,          # Detiene si no mejora en 5 épocas\n",
    "    restore_best_weights=True  # Restaura los mejores pesos encontrados\n",
    ")"
   ]
  },
  {
   "cell_type": "code",
   "execution_count": 15,
   "id": "248ebf44-8bf8-444e-b52b-c3990f0ad52e",
   "metadata": {},
   "outputs": [],
   "source": [
    "import tensorflow as tf\n",
    "from tensorflow.keras.layers import TextVectorization\n",
    "from tensorflow.keras.models import Sequential\n",
    "from tensorflow.keras.layers import Dense, Dropout, BatchNormalization\n",
    "from tensorflow.keras.regularizers import l2\n",
    "\n",
    "def build_model(input_dim, learning_rate=0.001, optimizer_name=\"Adam\", callbacks=[early_stopping]):\n",
    "    if optimizer_name == \"Adam\":\n",
    "        optimizer = tf.keras.optimizers.Adam(learning_rate=learning_rate)\n",
    "    elif optimizer_name == \"Adamax\":\n",
    "        optimizer = tf.keras.optimizers.Adamax(learning_rate=learning_rate)\n",
    "    elif optimizer_name == \"RMSprop\":\n",
    "        optimizer = tf.keras.optimizers.RMSprop(learning_rate=learning_rate)\n",
    "    elif optimizer_name == \"Nadam\":\n",
    "        optimizer = tf.keras.optimizers.Nadam(learning_rate=learning_rate)\n",
    "    elif optimizer_name == \"SGD\":\n",
    "        optimizer = tf.keras.optimizers.SGD(learning_rate=learning_rate, momentum=0.9)\n",
    "    else:\n",
    "        raise ValueError(f\"Parametrizar optimizer: {optimizer_name}\")\n",
    "\n",
    "    # Definición del modelo\n",
    "    model = Sequential([\n",
    "        Dense(128, activation=\"relu\", input_dim=input_dim),\n",
    "        BatchNormalization(),  # Normalización para estabilidad\n",
    "        Dropout(0.3), # Reduce el sobreajuste al apagar aleatoriamente el 30% de las unidades.\n",
    "        Dense(64, activation=\"elu\", kernel_regularizer=l2(0.01)), # Regularización L2: Penaliza pesos grandes, ayudando a evitar sobreajuste.\n",
    "        BatchNormalization(),  # Normalización para estabilidad\n",
    "        Dropout(0.4), # Reduce el sobreajuste al apagar aleatoriamente el 40% de las unidades.\n",
    "        Dense(32, activation=\"relu\"),\n",
    "        Dense(1, activation=\"linear\")  # Salida de regresión\n",
    "    ])\n",
    "    \n",
    "    model.compile(\n",
    "        optimizer=optimizer,\n",
    "        loss='mean_squared_error',\n",
    "        metrics=[tf.keras.metrics.RootMeanSquaredError()]\n",
    "    )\n",
    "    \n",
    "    return model\n",
    "    "
   ]
  },
  {
   "cell_type": "code",
   "execution_count": 16,
   "id": "61338929-ab1e-4d50-80d4-d41e8e71c950",
   "metadata": {},
   "outputs": [
    {
     "name": "stdout",
     "output_type": "stream",
     "text": [
      "dict_keys(['model', 'build_fn', 'warm_start', 'random_state', 'optimizer', 'loss', 'metrics', 'batch_size', 'validation_batch_size', 'verbose', 'callbacks', 'validation_split', 'shuffle', 'run_eagerly', 'epochs', 'input_dim', 'learning_rate', 'optimizer_name'])\n"
     ]
    }
   ],
   "source": [
    "keras_regressor = KerasRegressor(\n",
    "    model=build_model,\n",
    "    input_dim=100,\n",
    "    learning_rate=0.001,\n",
    "    optimizer_name=\"Adam\",\n",
    "    epochs=50,\n",
    "    batch_size=32,\n",
    "    verbose=0,\n",
    "    callbacks=[early_stopping],\n",
    "    warm_start=True # no recompilar innecesariamente trazas redundantes.\n",
    ")\n",
    "\n",
    "print(keras_regressor.get_params().keys())"
   ]
  },
  {
   "cell_type": "code",
   "execution_count": 17,
   "id": "03a12461-d10a-41ab-a64a-2b901008d492",
   "metadata": {
    "scrolled": true
   },
   "outputs": [
    {
     "name": "stdout",
     "output_type": "stream",
     "text": [
      "Fitting 5 folds for each of 20 candidates, totalling 100 fits\n"
     ]
    },
    {
     "name": "stderr",
     "output_type": "stream",
     "text": [
      "2024-12-01 22:05:01.641048: E external/local_xla/xla/stream_executor/cuda/cuda_driver.cc:152] failed call to cuInit: INTERNAL: CUDA error: Failed call to cuInit: UNKNOWN ERROR (303)\n"
     ]
    },
    {
     "name": "stdout",
     "output_type": "stream",
     "text": [
      "WARNING:tensorflow:5 out of the last 13 calls to <function TensorFlowTrainer.make_predict_function.<locals>.one_step_on_data_distributed at 0x7970d2aef9c0> triggered tf.function retracing. Tracing is expensive and the excessive number of tracings could be due to (1) creating @tf.function repeatedly in a loop, (2) passing tensors with different shapes, (3) passing Python objects instead of tensors. For (1), please define your @tf.function outside of the loop. For (2), @tf.function has reduce_retracing=True option that can avoid unnecessary retracing. For (3), please refer to https://www.tensorflow.org/guide/function#controlling_retracing and https://www.tensorflow.org/api_docs/python/tf/function for  more details.\n",
      "WARNING:tensorflow:6 out of the last 15 calls to <function TensorFlowTrainer.make_predict_function.<locals>.one_step_on_data_distributed at 0x7970d2aef9c0> triggered tf.function retracing. Tracing is expensive and the excessive number of tracings could be due to (1) creating @tf.function repeatedly in a loop, (2) passing tensors with different shapes, (3) passing Python objects instead of tensors. For (1), please define your @tf.function outside of the loop. For (2), @tf.function has reduce_retracing=True option that can avoid unnecessary retracing. For (3), please refer to https://www.tensorflow.org/guide/function#controlling_retracing and https://www.tensorflow.org/api_docs/python/tf/function for  more details.\n",
      "folds:  5\n",
      "{'tfidf__use_idf': False, 'tfidf__sublinear_tf': False, 'tfidf__stop_words': ['english'], 'tfidf__ngram_range': (1, 2), 'tfidf__min_df': 2, 'tfidf__max_features': 1000, 'tfidf__max_df': 0.75, 'tfidf__analyzer': 'word', 'svd__random_state': 42, 'svd__n_components': 100, 'keras_regressor__optimizer_name': 'SGD', 'keras_regressor__learning_rate': 0.01, 'keras_regressor__epochs': 20, 'keras_regressor__batch_size': 512}\n",
      "root_mean_squared_error:  3.26281727952131\n",
      " \n",
      "mean_test_score:  [2.92190262 2.95565237 2.86776445 2.84863755 2.89862098 2.95989368\n",
      " 2.96029748 3.26281728 2.87582244 2.87783348 2.9191342  2.8711147\n",
      " 2.8639707  3.1004485  2.90644675 3.11308121 2.92844907 2.91691988\n",
      " 2.99168075 2.93319896]\n",
      "Fitting 10 folds for each of 20 candidates, totalling 200 fits\n",
      "folds:  10\n",
      "{'tfidf__use_idf': False, 'tfidf__sublinear_tf': True, 'tfidf__stop_words': ['english'], 'tfidf__ngram_range': (1, 1), 'tfidf__min_df': 5, 'tfidf__max_features': 1000, 'tfidf__max_df': 0.75, 'tfidf__analyzer': 'word', 'svd__random_state': 42, 'svd__n_components': 100, 'keras_regressor__optimizer_name': 'Adamax', 'keras_regressor__learning_rate': 0.0005, 'keras_regressor__epochs': 20, 'keras_regressor__batch_size': 512}\n",
      "root_mean_squared_error:  3.357244104258018\n",
      " \n",
      "mean_test_score:  [2.89914723 2.95937091 2.92668345 2.92616807 2.88867763 2.9690071\n",
      " 2.89449446 2.87411832 2.88706559 2.81928696 3.06872755 2.98856916\n",
      " 2.89345025 2.93981881 2.88412441 3.3572441  2.90051281 2.92186443\n",
      " 2.90422291 2.91018927]\n"
     ]
    }
   ],
   "source": [
    "##KFOLD CV usando TensorFlow y Keras (los mejores atributos, hiperparametros,etc)\n",
    "from sklearn.pipeline import Pipeline\n",
    "\n",
    "parameters = {\n",
    "    \"tfidf__analyzer\": [\"word\"],\n",
    "    \"tfidf__ngram_range\": [(1, 1),(1, 2),(1, 3)],\n",
    "    \"tfidf__use_idf\": [True,False],\n",
    "    \"tfidf__stop_words\": [['english']],\n",
    "    \"tfidf__max_features\": [1000],\n",
    "    \"tfidf__min_df\": [2,3,5],\n",
    "    \"tfidf__max_df\": [0.75, 0.8],\n",
    "    \"tfidf__sublinear_tf\": [True,False],\n",
    "    \"svd__n_components\": [100],\n",
    "    \"svd__random_state\" :[42],\n",
    "    \"keras_regressor__learning_rate\": [0.01, 0.001, 0.0005],\n",
    "    \"keras_regressor__batch_size\": [16, 32, 64, 128, 256, 512],\n",
    "    \"keras_regressor__epochs\": [10, 20, 30, 50],\n",
    "    \"keras_regressor__optimizer_name\": [\"Adam\", \"Adamax\", \"RMSprop\", \"Nadam\", \"SGD\"]\n",
    "}\n",
    "\n",
    "randomcv_best_score = None\n",
    "\n",
    "#Iteración Cantidad de splits para el Cross Validation\n",
    "# for folds in [10,11,12,13,14,15,16,17,18,20]:\n",
    "# for folds in [6,7,8,9,10,11,12]:\n",
    "for folds in [5,10]:\n",
    "    \n",
    "    #Kfold\n",
    "    kfoldcv = KFold(n_splits=folds, shuffle=True, random_state=42)\n",
    "\n",
    "    #Regressors\n",
    "    pipeline = Pipeline(\n",
    "        steps=[\n",
    "            (\"tfidf\", TfidfVectorizer(preprocessor=lemmatizationAndStopwords)),\n",
    "            ('svd', TruncatedSVD()),\n",
    "            ('scaler', StandardScaler()),\n",
    "            (\"keras_regressor\", keras_regressor),\n",
    "        ]\n",
    "    )\n",
    "    \n",
    "    #Metrica que quiero optimizar root_mean_squared_error\n",
    "    scorer_fn = make_scorer(root_mean_squared_error)\n",
    "\n",
    "    #Random Search Cross Validation\n",
    "    #Cantidad de combinaciones que quiero probar\n",
    "    n=20\n",
    "    randomcv_it = RandomizedSearchCV(estimator = pipeline,\n",
    "                                     param_distributions = parameters,\n",
    "                                     scoring = scorer_fn,\n",
    "                                     cv = kfoldcv,\n",
    "                                     n_iter = n,\n",
    "                                     verbose=1, \n",
    "                                     n_jobs=1)\n",
    "\n",
    "    # #Grid Search Cross Validation\n",
    "    # randomcv_it = GridSearchCV(estimator = pipeline,\n",
    "    #                                  param_grid = parameters,\n",
    "    #                                  scoring = scorer_fn,\n",
    "    #                                  cv = kfoldcv) \n",
    "\n",
    "    #TensorFlow prefiere trabajar con tensores o matrices NumPy\n",
    "    x_train = x_train.to_numpy() if hasattr(x_train, \"to_numpy\") else x_train\n",
    "    y_train = y_train.to_numpy() if hasattr(y_train, \"to_numpy\") else y_train\n",
    "\n",
    "    \n",
    "    #Busco los hiperparamtros que optimizan F1 Score\n",
    "    randomcv_it.fit(x_train,y_train);\n",
    "    \n",
    "    #Mejores hiperparametros del arbol\n",
    "    print(\"folds: \", folds)\n",
    "    print(randomcv_it.best_params_)\n",
    "    #Mejor métrica\n",
    "    print(\"root_mean_squared_error: \", randomcv_it.best_score_)\n",
    "    print(\" \")\n",
    "    print(\"mean_test_score: \", randomcv_it.cv_results_['mean_test_score'])\n",
    "    \n",
    "    #Nos quedamos con el menor error root_mean_squared_error\n",
    "    if randomcv_best_score is None:\n",
    "        randomcv_best_score = randomcv_it\n",
    "    elif randomcv_it.best_score_ < randomcv_best_score.best_score_:\n",
    "        randomcv_best_score = randomcv_it"
   ]
  },
  {
   "cell_type": "code",
   "execution_count": 18,
   "id": "5c7aaa06-4012-4b50-af1e-7fad3ee6894a",
   "metadata": {},
   "outputs": [
    {
     "data": {
      "text/plain": [
       "{'tfidf__use_idf': False,\n",
       " 'tfidf__sublinear_tf': False,\n",
       " 'tfidf__stop_words': ['english'],\n",
       " 'tfidf__ngram_range': (1, 2),\n",
       " 'tfidf__min_df': 2,\n",
       " 'tfidf__max_features': 1000,\n",
       " 'tfidf__max_df': 0.75,\n",
       " 'tfidf__analyzer': 'word',\n",
       " 'svd__random_state': 42,\n",
       " 'svd__n_components': 100,\n",
       " 'keras_regressor__optimizer_name': 'SGD',\n",
       " 'keras_regressor__learning_rate': 0.01,\n",
       " 'keras_regressor__epochs': 20,\n",
       " 'keras_regressor__batch_size': 512}"
      ]
     },
     "execution_count": 18,
     "metadata": {},
     "output_type": "execute_result"
    }
   ],
   "source": [
    "randomcv_best_score.best_params_"
   ]
  },
  {
   "cell_type": "markdown",
   "id": "57d40fa6-ce23-4e0b-8b0d-465c32be3765",
   "metadata": {},
   "source": [
    "RANDOM SEARCH CV\n",
    "\n",
    "folds:  5\n",
    "{'tfidf__use_idf': True, 'tfidf__sublinear_tf': True, 'tfidf__stop_words': ['english'], 'tfidf__ngram_range': (1, 2), 'tfidf__min_df': 3, 'tfidf__max_features': 3000, 'tfidf__max_df': 0.75, 'tfidf__analyzer': 'word', 'svd__random_state': 42, 'svd__n_components': 100, 'keras_regressor__optimizer_name': 'SGD', 'keras_regressor__learning_rate': 0.01, 'keras_regressor__epochs': 10, 'keras_regressor__batch_size': 256}\n",
    "\n",
    "root_mean_squared_error:  3.0674813522442883\n",
    "\n",
    "\n",
    "folds:  7\n",
    "{'tfidf__use_idf': True, 'tfidf__sublinear_tf': True, 'tfidf__stop_words': ['english'], 'tfidf__ngram_range': (1, 1), 'tfidf__min_df': 5, 'tfidf__max_features': 1000, 'tfidf__max_df': 0.8, 'tfidf__analyzer': 'word', 'svd__random_state': 42, 'svd__n_components': 100, 'keras_regressor__optimizer_name': 'Nadam', 'keras_regressor__learning_rate': 0.01, 'keras_regressor__epochs': 20, 'keras_regressor__batch_size': 512}\n",
    "\n",
    "root_mean_squared_error:  3.1816264999054167\n",
    "\n",
    "\n",
    "folds:  10\n",
    "{'tfidf__use_idf': False, 'tfidf__sublinear_tf': True, 'tfidf__stop_words': ['english'], 'tfidf__ngram_range': (1, 1), 'tfidf__min_df': 5, 'tfidf__max_features': 1000, 'tfidf__max_df': 0.75, 'tfidf__analyzer': 'word', 'svd__random_state': 42, 'svd__n_components': 100, 'keras_regressor__optimizer_name': 'Adamax', 'keras_regressor__learning_rate': 0.0005, 'keras_regressor__epochs': 20, 'keras_regressor__batch_size': 512}\n",
    "\n",
    "root_mean_squared_error:  3.357244104258018\n",
    "\n",
    "\n",
    "\n"
   ]
  },
  {
   "cell_type": "code",
   "execution_count": 19,
   "id": "5a9467ca-ed26-4b28-8f23-e48c9ddcc322",
   "metadata": {},
   "outputs": [
    {
     "data": {
      "text/plain": [
       "np.float64(3.26281727952131)"
      ]
     },
     "execution_count": 19,
     "metadata": {},
     "output_type": "execute_result"
    }
   ],
   "source": [
    "randomcv_best_score.best_score_"
   ]
  },
  {
   "cell_type": "code",
   "execution_count": 20,
   "id": "KK7j2I5cPOf4",
   "metadata": {
    "colab": {
     "base_uri": "https://localhost:8080/"
    },
    "id": "KK7j2I5cPOf4",
    "outputId": "cedb38b5-48d1-4428-8ab9-6f32acbb0d4f",
    "scrolled": true
   },
   "outputs": [
    {
     "data": {
      "text/plain": [
       "array([2.92190262, 2.95565237, 2.86776445, 2.84863755, 2.89862098,\n",
       "       2.95989368, 2.96029748, 3.26281728, 2.87582244, 2.87783348,\n",
       "       2.9191342 , 2.8711147 , 2.8639707 , 3.1004485 , 2.90644675,\n",
       "       3.11308121, 2.92844907, 2.91691988, 2.99168075, 2.93319896])"
      ]
     },
     "execution_count": 20,
     "metadata": {},
     "output_type": "execute_result"
    }
   ],
   "source": [
    "randomcv_best_score.cv_results_['mean_test_score']"
   ]
  },
  {
   "cell_type": "markdown",
   "id": "d6745240-ae9f-4fe4-9eac-a5ec9fe42ef5",
   "metadata": {},
   "source": [
    "THE BEST: \n",
    "\n",
    "{'tfidf__use_idf': True, 'tfidf__sublinear_tf': True, 'tfidf__stop_words': ['english'], 'tfidf__ngram_range': (1, 2), 'tfidf__min_df': 3, 'tfidf__max_features': 3000, 'tfidf__max_df': 0.75, 'tfidf__analyzer': 'word', 'svd__random_state': 42, 'svd__n_components': 100, 'keras_regressor__optimizer_name': 'SGD', 'keras_regressor__learning_rate': 0.01, 'keras_regressor__epochs': 10, 'keras_regressor__batch_size': 256}\n",
    "\n",
    "root_mean_squared_error: 3.0674813522442883"
   ]
  },
  {
   "cell_type": "code",
   "execution_count": null,
   "id": "10116706-b552-44f5-92d1-4f46bbc91608",
   "metadata": {},
   "outputs": [],
   "source": []
  }
 ],
 "metadata": {
  "colab": {
   "provenance": []
  },
  "kernelspec": {
   "display_name": "Python 3 (ipykernel)",
   "language": "python",
   "name": "python3"
  },
  "language_info": {
   "codemirror_mode": {
    "name": "ipython",
    "version": 3
   },
   "file_extension": ".py",
   "mimetype": "text/x-python",
   "name": "python",
   "nbconvert_exporter": "python",
   "pygments_lexer": "ipython3",
   "version": "3.12.3"
  }
 },
 "nbformat": 4,
 "nbformat_minor": 5
}
