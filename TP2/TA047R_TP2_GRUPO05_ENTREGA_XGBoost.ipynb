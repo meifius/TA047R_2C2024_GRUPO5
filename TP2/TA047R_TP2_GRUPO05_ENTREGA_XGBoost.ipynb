{
 "cells": [
  {
   "cell_type": "code",
   "execution_count": 1,
   "id": "383458ff-4f5b-4724-9b63-1646576824b2",
   "metadata": {},
   "outputs": [
    {
     "name": "stderr",
     "output_type": "stream",
     "text": [
      "2024-11-12 13:00:03.458539: I external/local_xla/xla/tsl/cuda/cudart_stub.cc:32] Could not find cuda drivers on your machine, GPU will not be used.\n",
      "2024-11-12 13:00:03.461827: I external/local_xla/xla/tsl/cuda/cudart_stub.cc:32] Could not find cuda drivers on your machine, GPU will not be used.\n",
      "2024-11-12 13:00:03.472260: E external/local_xla/xla/stream_executor/cuda/cuda_fft.cc:477] Unable to register cuFFT factory: Attempting to register factory for plugin cuFFT when one has already been registered\n",
      "WARNING: All log messages before absl::InitializeLog() is called are written to STDERR\n",
      "E0000 00:00:1731427203.489837  266329 cuda_dnn.cc:8310] Unable to register cuDNN factory: Attempting to register factory for plugin cuDNN when one has already been registered\n",
      "E0000 00:00:1731427203.494870  266329 cuda_blas.cc:1418] Unable to register cuBLAS factory: Attempting to register factory for plugin cuBLAS when one has already been registered\n",
      "2024-11-12 13:00:03.512030: I tensorflow/core/platform/cpu_feature_guard.cc:210] This TensorFlow binary is optimized to use available CPU instructions in performance-critical operations.\n",
      "To enable the following instructions: AVX2 FMA, in other operations, rebuild TensorFlow with the appropriate compiler flags.\n"
     ]
    }
   ],
   "source": [
    "import pandas as pd\n",
    "import numpy as np\n",
    "import joblib\n",
    "\n",
    "#Visualización\n",
    "import matplotlib.pyplot as plt\n",
    "import matplotlib.colors as mcolors\n",
    "import seaborn as sns\n",
    "\n",
    "#Métricas\n",
    "import sklearn as sk\n",
    "from sklearn import tree\n",
    "from sklearn.model_selection import train_test_split, cross_val_score\n",
    "from sklearn.metrics import root_mean_squared_error\n",
    "from sklearn.metrics import confusion_matrix, classification_report, make_scorer\n",
    "\n",
    "#Configuración Warnings\n",
    "import warnings\n",
    "warnings.simplefilter(action='ignore', category=FutureWarning)\n",
    "warnings.simplefilter(action='ignore', category=UserWarning)\n",
    "\n",
    "#Regressors\n",
    "from xgboost import XGBRegressor\n",
    "\n",
    "from keras import backend as K\n",
    "from sklearn.model_selection import GridSearchCV, RandomizedSearchCV, KFold\n",
    "\n",
    "#Análisis de Sentimientos\n",
    "from sklearn.feature_extraction.text import CountVectorizer, TfidfVectorizer, TfidfTransformer\n",
    "from sklearn.decomposition import TruncatedSVD"
   ]
  },
  {
   "cell_type": "code",
   "execution_count": 2,
   "id": "36689fed",
   "metadata": {
    "id": "36689fed",
    "scrolled": true
   },
   "outputs": [],
   "source": [
    "user_stories_train = pd.read_csv('data/train.csv', low_memory=False)"
   ]
  },
  {
   "cell_type": "code",
   "execution_count": 3,
   "id": "Wsdp631-9TUx",
   "metadata": {
    "colab": {
     "base_uri": "https://localhost:8080/"
    },
    "id": "Wsdp631-9TUx",
    "outputId": "0430dfa1-5221-4f50-bcbc-17a1bfd536ae"
   },
   "outputs": [
    {
     "data": {
      "text/html": [
       "<div>\n",
       "<style scoped>\n",
       "    .dataframe tbody tr th:only-of-type {\n",
       "        vertical-align: middle;\n",
       "    }\n",
       "\n",
       "    .dataframe tbody tr th {\n",
       "        vertical-align: top;\n",
       "    }\n",
       "\n",
       "    .dataframe thead th {\n",
       "        text-align: right;\n",
       "    }\n",
       "</style>\n",
       "<table border=\"1\" class=\"dataframe\">\n",
       "  <thead>\n",
       "    <tr style=\"text-align: right;\">\n",
       "      <th></th>\n",
       "      <th>id</th>\n",
       "      <th>title</th>\n",
       "      <th>description</th>\n",
       "      <th>project</th>\n",
       "      <th>storypoint</th>\n",
       "    </tr>\n",
       "  </thead>\n",
       "  <tbody>\n",
       "    <tr>\n",
       "      <th>0</th>\n",
       "      <td>5660</td>\n",
       "      <td>Error enabling Appcelerator services during ap...</td>\n",
       "      <td>When creating the default app, I encountered t...</td>\n",
       "      <td>project8</td>\n",
       "      <td>3</td>\n",
       "    </tr>\n",
       "    <tr>\n",
       "      <th>1</th>\n",
       "      <td>9014</td>\n",
       "      <td>Create a maintenance branch</td>\n",
       "      <td>As a developer, I'd like to have a maintenance...</td>\n",
       "      <td>project6</td>\n",
       "      <td>5</td>\n",
       "    </tr>\n",
       "    <tr>\n",
       "      <th>2</th>\n",
       "      <td>4094</td>\n",
       "      <td>Service Activity Monitoring Backend integrated...</td>\n",
       "      <td>SAM API used by SAM GUI</td>\n",
       "      <td>project1</td>\n",
       "      <td>5</td>\n",
       "    </tr>\n",
       "    <tr>\n",
       "      <th>3</th>\n",
       "      <td>811</td>\n",
       "      <td>fs::enter(rootfs) does not work if 'rootfs' is...</td>\n",
       "      <td>I noticed this when I was testing the unified ...</td>\n",
       "      <td>project5</td>\n",
       "      <td>2</td>\n",
       "    </tr>\n",
       "    <tr>\n",
       "      <th>4</th>\n",
       "      <td>4459</td>\n",
       "      <td>transform processor with script option is broken</td>\n",
       "      <td>Creating the following stream throws exception...</td>\n",
       "      <td>project6</td>\n",
       "      <td>2</td>\n",
       "    </tr>\n",
       "  </tbody>\n",
       "</table>\n",
       "</div>"
      ],
      "text/plain": [
       "     id                                              title  \\\n",
       "0  5660  Error enabling Appcelerator services during ap...   \n",
       "1  9014                        Create a maintenance branch   \n",
       "2  4094  Service Activity Monitoring Backend integrated...   \n",
       "3   811  fs::enter(rootfs) does not work if 'rootfs' is...   \n",
       "4  4459   transform processor with script option is broken   \n",
       "\n",
       "                                         description   project  storypoint  \n",
       "0  When creating the default app, I encountered t...  project8           3  \n",
       "1  As a developer, I'd like to have a maintenance...  project6           5  \n",
       "2                            SAM API used by SAM GUI  project1           5  \n",
       "3  I noticed this when I was testing the unified ...  project5           2  \n",
       "4  Creating the following stream throws exception...  project6           2  "
      ]
     },
     "execution_count": 3,
     "metadata": {},
     "output_type": "execute_result"
    }
   ],
   "source": [
    "user_stories_train.head()"
   ]
  },
  {
   "cell_type": "code",
   "execution_count": 4,
   "id": "49ebf362",
   "metadata": {},
   "outputs": [
    {
     "data": {
      "text/plain": [
       "id              int64\n",
       "title          object\n",
       "description    object\n",
       "project        object\n",
       "storypoint      int64\n",
       "dtype: object"
      ]
     },
     "execution_count": 4,
     "metadata": {},
     "output_type": "execute_result"
    }
   ],
   "source": [
    "user_stories_train.dtypes"
   ]
  },
  {
   "cell_type": "code",
   "execution_count": 5,
   "id": "agVdguy6-pvx",
   "metadata": {
    "id": "agVdguy6-pvx"
   },
   "outputs": [
    {
     "name": "stdout",
     "output_type": "stream",
     "text": [
      "Cantidad de columnas: 5\n",
      "Cantidad de filas: 7900\n"
     ]
    }
   ],
   "source": [
    "# Vemos cantidad de filas y columnas\n",
    "user_stories_train_size = user_stories_train.shape\n",
    "print(\"Cantidad de columnas: %d\" % user_stories_train_size[1])\n",
    "print(\"Cantidad de filas: %d\" % user_stories_train_size[0])"
   ]
  },
  {
   "cell_type": "code",
   "execution_count": 6,
   "id": "9T8yqcOQFTi2",
   "metadata": {
    "id": "9T8yqcOQFTi2"
   },
   "outputs": [
    {
     "name": "stdout",
     "output_type": "stream",
     "text": [
      "Se eliminaron: 0 filas duplicadas\n"
     ]
    }
   ],
   "source": [
    "# Analizamos si hay filas duplicadas\n",
    "user_stories_train_total = len(user_stories_train)\n",
    "user_stories_train_unique = user_stories_train.drop_duplicates()\n",
    "user_stories_train_unique_size = len(user_stories_train_unique)\n",
    "print(f'Se eliminaron: {user_stories_train_total - user_stories_train_unique_size} filas duplicadas')"
   ]
  },
  {
   "cell_type": "code",
   "execution_count": 7,
   "id": "zt0V57ELFrU-",
   "metadata": {
    "id": "zt0V57ELFrU-"
   },
   "outputs": [
    {
     "data": {
      "text/plain": [
       "id             0\n",
       "title          0\n",
       "description    0\n",
       "project        0\n",
       "storypoint     0\n",
       "dtype: int64"
      ]
     },
     "execution_count": 7,
     "metadata": {},
     "output_type": "execute_result"
    }
   ],
   "source": [
    "# Vemos cantidad de datos faltantes\n",
    "user_stories_train.isna().sum()"
   ]
  },
  {
   "cell_type": "code",
   "execution_count": 8,
   "id": "n9MjyN8iFw1V",
   "metadata": {
    "colab": {
     "base_uri": "https://localhost:8080/"
    },
    "id": "n9MjyN8iFw1V",
    "outputId": "e6d0b23b-3376-4b35-b499-b250f89ef493"
   },
   "outputs": [
    {
     "data": {
      "text/plain": [
       "storypoint\n",
       "3     23.392405\n",
       "5     21.430380\n",
       "1     20.620253\n",
       "2     16.151899\n",
       "8     12.974684\n",
       "4      2.101266\n",
       "13     1.949367\n",
       "10     0.405063\n",
       "20     0.392405\n",
       "6      0.215190\n",
       "16     0.088608\n",
       "12     0.075949\n",
       "40     0.063291\n",
       "21     0.037975\n",
       "15     0.025316\n",
       "7      0.025316\n",
       "32     0.012658\n",
       "34     0.012658\n",
       "14     0.012658\n",
       "24     0.012658\n",
       "Name: proportion, dtype: float64"
      ]
     },
     "execution_count": 8,
     "metadata": {},
     "output_type": "execute_result"
    }
   ],
   "source": [
    "#Verifico balanceo de clases\n",
    "user_stories_train['storypoint'].value_counts(normalize=True)*100"
   ]
  },
  {
   "cell_type": "markdown",
   "id": "538bcda7",
   "metadata": {},
   "source": [
    "### Preparamos el dataset"
   ]
  },
  {
   "cell_type": "code",
   "execution_count": 9,
   "id": "xBfg8oHRGKFN",
   "metadata": {
    "colab": {
     "base_uri": "https://localhost:8080/"
    },
    "id": "xBfg8oHRGKFN",
    "outputId": "af44b244-57d8-44b1-955b-6ca04803bf8b"
   },
   "outputs": [],
   "source": [
    "#Creamos un dataset con features a usar para clasificar\n",
    "user_stories_x = user_stories_train['description'].copy()\n",
    "\n",
    "#Creamos un dataset con la variable target 'storypoint'\n",
    "user_stories_y = user_stories_train['storypoint'].copy()\n",
    "\n",
    "#Genero los conjuntos de train y test\n",
    "x_train, x_test, y_train, y_test = train_test_split(user_stories_x,\n",
    "                                                   user_stories_y,\n",
    "                                                   test_size=0.3,  #proporcion 70/30\n",
    "                                                   random_state=2) #semilla"
   ]
  },
  {
   "cell_type": "code",
   "execution_count": 10,
   "id": "JsWoAHk8GGcA",
   "metadata": {
    "colab": {
     "base_uri": "https://localhost:8080/"
    },
    "id": "JsWoAHk8GGcA",
    "outputId": "6ac11d56-6f99-44fa-8d35-ea560a669922"
   },
   "outputs": [
    {
     "data": {
      "text/plain": [
       "2646    The plugin will need to contribute the icon. W...\n",
       "2724    The timer: component is used to generate messa...\n",
       "5159    h5.Description:  In CLI we have the ability to...\n",
       "976     We need to refactor the way how we package and...\n",
       "2187    Standalone Admin currently has no shiny banner...\n",
       "                              ...                        \n",
       "3606    h5. Description:  When launching Studio with C...\n",
       "5704    When a .tss file contains certain grammars, Ti...\n",
       "6637    The data that is entering a broadcast stream c...\n",
       "2575    Provide the infrastructure for HTTP GET /compl...\n",
       "7336    Studio shows an Empty Preferences window when ...\n",
       "Name: description, Length: 5530, dtype: object"
      ]
     },
     "execution_count": 10,
     "metadata": {},
     "output_type": "execute_result"
    }
   ],
   "source": [
    "x_train"
   ]
  },
  {
   "cell_type": "code",
   "execution_count": 11,
   "id": "Vee6iDIHF05c",
   "metadata": {
    "colab": {
     "base_uri": "https://localhost:8080/"
    },
    "id": "Vee6iDIHF05c",
    "outputId": "caba3b93-589e-4be4-b6c7-c4e4f7fedefe"
   },
   "outputs": [
    {
     "data": {
      "text/plain": [
       "2646    8\n",
       "2724    2\n",
       "5159    8\n",
       "976     2\n",
       "2187    3\n",
       "       ..\n",
       "3606    5\n",
       "5704    2\n",
       "6637    2\n",
       "2575    3\n",
       "7336    3\n",
       "Name: storypoint, Length: 5530, dtype: int64"
      ]
     },
     "execution_count": 11,
     "metadata": {},
     "output_type": "execute_result"
    }
   ],
   "source": [
    "y_train"
   ]
  },
  {
   "cell_type": "markdown",
   "id": "a1088e33",
   "metadata": {
    "colab": {
     "base_uri": "https://localhost:8080/",
     "height": 363
    },
    "id": "gpKJEuTgF5E5",
    "outputId": "ebbe5343-62e4-4d34-b532-60138b42151c"
   },
   "source": [
    "## XGBoost"
   ]
  },
  {
   "cell_type": "markdown",
   "id": "2bSB7j8BLtRB",
   "metadata": {
    "id": "2bSB7j8BLtRB"
   },
   "source": [
    "###Cross Validation"
   ]
  },
  {
   "cell_type": "code",
   "execution_count": 12,
   "id": "c26efa8c-1b2f-47ac-9925-8ced8968e624",
   "metadata": {},
   "outputs": [
    {
     "name": "stderr",
     "output_type": "stream",
     "text": [
      "[nltk_data] Downloading package punkt to\n",
      "[nltk_data]     /home/users/pablo.prieto/nltk_data...\n",
      "[nltk_data]   Package punkt is already up-to-date!\n",
      "[nltk_data] Downloading package stopwords to\n",
      "[nltk_data]     /home/users/pablo.prieto/nltk_data...\n",
      "[nltk_data]   Package stopwords is already up-to-date!\n",
      "[nltk_data] Downloading package wordnet to\n",
      "[nltk_data]     /home/users/pablo.prieto/nltk_data...\n",
      "[nltk_data]   Package wordnet is already up-to-date!\n"
     ]
    },
    {
     "data": {
      "text/plain": [
       "True"
      ]
     },
     "execution_count": 12,
     "metadata": {},
     "output_type": "execute_result"
    }
   ],
   "source": [
    "import nltk\n",
    "nltk.download('punkt')\n",
    "nltk.download('stopwords')\n",
    "nltk.download('wordnet')"
   ]
  },
  {
   "cell_type": "code",
   "execution_count": 13,
   "id": "3d57b61a-379d-4017-84d3-6aa584fcd71c",
   "metadata": {},
   "outputs": [],
   "source": [
    "import nltk\n",
    "from nltk.corpus import stopwords\n",
    "from nltk.tokenize import word_tokenize\n",
    "from nltk.stem import WordNetLemmatizer\n",
    "\n",
    "def lemmatizationAndStopwords(text):\n",
    "    wordNetLemmatizer = WordNetLemmatizer()\n",
    "    stopwordSets = set(stopwords.words('english'))\n",
    "    words = word_tokenize(text)\n",
    "    wordsFilter = [wordNetLemmatizer.lemmatize(word.lower()) for word in words if word.lower() not in stopwordSets and word.isalpha()]\n",
    "    if not wordsFilter:\n",
    "        return \"empty\"\n",
    "    return ' '.join(wordsFilter)"
   ]
  },
  {
   "cell_type": "code",
   "execution_count": null,
   "id": "03a12461-d10a-41ab-a64a-2b901008d492",
   "metadata": {},
   "outputs": [],
   "source": [
    "##KFOLD CV usando XGBRegressor (los mejores atributos, hiperparametros,etc)\n",
    "from sklearn.pipeline import Pipeline\n",
    "\n",
    "#The Best\n",
    "# {'xgb_regressor__subsample': 0.7, 'xgb_regressor__reg_lambda': 0.1, 'xgb_regressor__reg_alpha': 0, 'xgb_regressor__random_state': 42, \n",
    "#  'xgb_regressor__objective': 'reg:squarederror', 'xgb_regressor__n_estimators': 500, 'xgb_regressor__max_depth': 10, \n",
    "#  'xgb_regressor__learning_rate': 0.3, 'xgb_regressor__gamma': 0.1, 'xgb_regressor__colsample_bytree': 1, 'tfidf__use_idf': False, \n",
    "#  'tfidf__sublinear_tf': True, 'tfidf__stop_words': ['english'], 'tfidf__ngram_range': (1, 1), 'tfidf__min_df': 5, \n",
    "#  'tfidf__max_features': 2000, 'tfidf__max_df': 0.8, 'tfidf__analyzer': 'word'} \n",
    "\n",
    "parameters = {\n",
    "    \"tfidf__analyzer\": [\"word\"],\n",
    "    # \"tfidf__smooth_idf\": [True,False],\n",
    "    \"tfidf__ngram_range\": [(1, 1),(1, 2)],\n",
    "    # \"tfidf__ngram_range\": [(1, 2)],\n",
    "    \"tfidf__use_idf\": [True,False],\n",
    "    \"tfidf__stop_words\": [['english']],\n",
    "    \"tfidf__max_features\": [1000, 2000],\n",
    "    \"tfidf__min_df\": [2,5],\n",
    "    # 'tfidf__max_df': [0.75, 0.8, 1.0],\n",
    "    \"tfidf__max_df\": [0.75, 0.8],\n",
    "     # \"tfidf__max_features\": [2000],\n",
    "    # \"tfidf__min_df\": [2],\n",
    "    # 'tfidf__max_df': [0.8],\n",
    "    \"tfidf__sublinear_tf\": [True,False],\n",
    "    \"svd__n_components\": [100, 200, 300, 400, 500],\n",
    "    \"svd__random_state\" :[42],\n",
    "    'xgb_regressor__objective': ['reg:squarederror'],\n",
    "    'xgb_regressor__random_state' :[42], \n",
    "    'xgb_regressor__n_estimators': [100,200,500],\n",
    "    'xgb_regressor__max_depth': [10,20,30],\n",
    "    'xgb_regressor__learning_rate': [0.01, 0.05, 0.1, 0.2, 0.3],\n",
    "    'xgb_regressor__subsample': [0.6, 0.7, 0.8, 0.9, 1],\n",
    "    'xgb_regressor__colsample_bytree': [0.6, 0.7, 0.8, 0.9, 1],\n",
    "    'xgb_regressor__gamma': [0, 0.1, 0.2, 0.3, 0.4, 0.5],\n",
    "    'xgb_regressor__reg_alpha': [0, 0.01, 0.1, 1, 10],\n",
    "    'xgb_regressor__reg_lambda': [0, 0.01, 0.1, 1, 10]\n",
    "}\n",
    "\n",
    "randomcv_best_score = None\n",
    "\n",
    "#Iteración Cantidad de splits para el Cross Validation\n",
    "# for folds in [9,10,12,15,18]:\n",
    "for folds in [5,6,7,8,9,10]:\n",
    "# for folds in [5,10]:\n",
    "    \n",
    "    #Kfold\n",
    "    kfoldcv = KFold(n_splits=folds, shuffle=True, random_state=42)\n",
    "\n",
    "    #Regressors\n",
    "    pipeline = Pipeline(\n",
    "        steps=[\n",
    "            (\"tfidf\", TfidfVectorizer(preprocessor=lemmatizationAndStopwords)),\n",
    "            # (\"tfidf\", TfidfVectorizer()),\n",
    "            ('svd', TruncatedSVD()),\n",
    "            (\"xgb_regressor\", XGBRegressor()),\n",
    "        ]\n",
    "    )\n",
    "    \n",
    "    #Metrica que quiero optimizar root_mean_squared_error\n",
    "    scorer_fn = make_scorer(root_mean_squared_error)\n",
    "\n",
    "    #Random Search Cross Validation\n",
    "    #Cantidad de combinaciones que quiero probar\n",
    "    n=10\n",
    "    randomcv_it = RandomizedSearchCV(estimator = pipeline,\n",
    "                                     param_distributions = parameters,\n",
    "                                     scoring = scorer_fn,\n",
    "                                     cv = kfoldcv,\n",
    "                                     n_iter = n) \n",
    "\n",
    "    # #Grid Search Cross Validation\n",
    "    # randomcv_it = GridSearchCV(estimator = pipeline,\n",
    "    #                                  param_grid = parameters,\n",
    "    #                                  scoring = scorer_fn,\n",
    "    #                                  cv = kfoldcv) \n",
    "\n",
    "    #Busco los hiperparamtros que optimizan F1 Score\n",
    "    randomcv_it.fit(x_train,y_train);\n",
    "    \n",
    "    #Mejores hiperparametros del arbol\n",
    "    print(\"folds: \", folds)\n",
    "    print(randomcv_it.best_params_)\n",
    "    #Mejor métrica\n",
    "    print(\"root_mean_squared_error: \", randomcv_it.best_score_)\n",
    "    print(\" \")\n",
    "    print(\"mean_test_score: \", randomcv_it.cv_results_['mean_test_score'])\n",
    "    \n",
    "    #Nos quedamos con el menor error root_mean_squared_error\n",
    "    if randomcv_best_score is None:\n",
    "        randomcv_best_score = randomcv_it\n",
    "    elif randomcv_it.best_score_ < randomcv_best_score.best_score_:\n",
    "        randomcv_best_score = randomcv_it"
   ]
  },
  {
   "cell_type": "markdown",
   "id": "c48f40f4-b7dc-49d5-af9d-22d5d24bf860",
   "metadata": {},
   "source": [
    "folds:  5\n",
    "{'xgb_regressor__subsample': 0.7, 'xgb_regressor__reg_lambda': 0.1, 'xgb_regressor__reg_alpha': 0, 'xgb_regressor__random_state': 42, 'xgb_regressor__objective': 'reg:squarederror', 'xgb_regressor__n_estimators': 500, 'xgb_regressor__max_depth': 10, 'xgb_regressor__learning_rate': 0.3, 'xgb_regressor__gamma': 0.1, 'xgb_regressor__colsample_bytree': 1, 'tfidf__use_idf': False, 'tfidf__sublinear_tf': True, 'tfidf__stop_words': ['english'], 'tfidf__ngram_range': (1, 1), 'tfidf__min_df': 5, 'tfidf__max_features': 2000, 'tfidf__max_df': 0.8, 'tfidf__analyzer': 'word'}\n",
    "root_mean_squared_error:  3.0159159380511493\n",
    " \n",
    "mean_test_score:  [2.92330621 2.85599097 2.85119092 2.82276505 2.97847267 2.8901417\n",
    " 2.82367213 2.87125503 2.82065449 3.01591594]\n",
    "\n",
    "\n",
    "folds:  6\n",
    "{'xgb_regressor__subsample': 0.6, 'xgb_regressor__reg_lambda': 1, 'xgb_regressor__reg_alpha': 0.1, 'xgb_regressor__random_state': 42, 'xgb_regressor__objective': 'reg:squarederror', 'xgb_regressor__n_estimators': 500, 'xgb_regressor__max_depth': 30, 'xgb_regressor__learning_rate': 0.3, 'xgb_regressor__gamma': 0.2, 'xgb_regressor__colsample_bytree': 0.6, 'tfidf__use_idf': False, 'tfidf__sublinear_tf': False, 'tfidf__stop_words': ['english'], 'tfidf__ngram_range': (1, 2), 'tfidf__min_df': 2, 'tfidf__max_features': 1000, 'tfidf__max_df': 0.75, 'tfidf__analyzer': 'word'}\n",
    "root_mean_squared_error:  3.0278597575327697\n",
    " \n",
    "mean_test_score:  [2.84593805 2.78977691 2.84076132 2.89010363 3.02785976 2.97155373\n",
    " 2.79617854 2.85241136 2.94934541 2.86745071]\n",
    "\n",
    "\n",
    "folds:  7\n",
    "{'xgb_regressor__subsample': 0.6, 'xgb_regressor__reg_lambda': 0.1, 'xgb_regressor__reg_alpha': 1, 'xgb_regressor__random_state': 42, 'xgb_regressor__objective': 'reg:squarederror', 'xgb_regressor__n_estimators': 500, 'xgb_regressor__max_depth': 30, 'xgb_regressor__learning_rate': 0.3, 'xgb_regressor__gamma': 0.4, 'xgb_regressor__colsample_bytree': 1, 'tfidf__use_idf': False, 'tfidf__sublinear_tf': False, 'tfidf__stop_words': ['english'], 'tfidf__ngram_range': (1, 1), 'tfidf__min_df': 2, 'tfidf__max_features': 1000, 'tfidf__max_df': 0.8, 'tfidf__analyzer': 'word'}\n",
    "root_mean_squared_error:  3.05369929415108\n",
    " \n",
    "mean_test_score:  [2.77242345 2.86406871 2.79105078 3.05369929 2.78438385 2.80885404\n",
    " 2.78349135 2.83704796 2.77721711 2.78574801]\n",
    "\n",
    " \n",
    "folds:  8\n",
    "{'xgb_regressor__subsample': 0.7, 'xgb_regressor__reg_lambda': 0.1, 'xgb_regressor__reg_alpha': 0.1, 'xgb_regressor__random_state': 42, 'xgb_regressor__objective': 'reg:squarederror', 'xgb_regressor__n_estimators': 100, 'xgb_regressor__max_depth': 20, 'xgb_regressor__learning_rate': 0.3, 'xgb_regressor__gamma': 0.2, 'xgb_regressor__colsample_bytree': 1, 'tfidf__use_idf': False, 'tfidf__sublinear_tf': False, 'tfidf__stop_words': ['english'], 'tfidf__ngram_range': (1, 2), 'tfidf__min_df': 2, 'tfidf__max_features': 1000, 'tfidf__max_df': 0.8, 'tfidf__analyzer': 'word'}\n",
    "root_mean_squared_error:  3.0248804916226493\n",
    " \n",
    "mean_test_score:  [2.86963099 2.76547353 2.80707325 2.90352536 3.02488049 2.84326477\n",
    " 2.83608983 2.83321976 2.76955352 2.8674714 ]\n",
    "\n",
    " \n",
    "folds:  9\n",
    "{'xgb_regressor__subsample': 0.6, 'xgb_regressor__reg_lambda': 10, 'xgb_regressor__reg_alpha': 0.01, 'xgb_regressor__random_state': 42, 'xgb_regressor__objective': 'reg:squarederror', 'xgb_regressor__n_estimators': 200, 'xgb_regressor__max_depth': 30, 'xgb_regressor__learning_rate': 0.3, 'xgb_regressor__gamma': 0.5, 'xgb_regressor__colsample_bytree': 0.6, 'tfidf__use_idf': False, 'tfidf__sublinear_tf': True, 'tfidf__stop_words': ['english'], 'tfidf__ngram_range': (1, 1), 'tfidf__min_df': 5, 'tfidf__max_features': 1000, 'tfidf__max_df': 0.8, 'tfidf__analyzer': 'word'}\n",
    "root_mean_squared_error:  3.025883362449136\n",
    " \n",
    "mean_test_score:  [3.00047719 3.02588336 2.81219351 2.76970398 2.84235971 2.9217593\n",
    " 2.86698834 3.00350766 2.80968068 2.8480495 ]\n",
    "\n",
    "\n",
    "\n",
    " #CON SVD\n",
    "\n",
    "folds:  5\n",
    "{'xgb_regressor__subsample': 1, 'xgb_regressor__reg_lambda': 0, 'xgb_regressor__reg_alpha': 0.1, 'xgb_regressor__random_state': 42, 'xgb_regressor__objective': 'reg:squarederror', 'xgb_regressor__n_estimators': 100, 'xgb_regressor__max_depth': 20, 'xgb_regressor__learning_rate': 0.05, 'xgb_regressor__gamma': 0, 'xgb_regressor__colsample_bytree': 1, 'tfidf__use_idf': False, 'tfidf__sublinear_tf': True, 'tfidf__stop_words': ['english'], 'tfidf__ngram_range': (1, 1), 'tfidf__min_df': 5, 'tfidf__max_features': 2000, 'tfidf__max_df': 0.8, 'tfidf__analyzer': 'word', 'svd__random_state': 42, 'svd__n_components': 100}\n",
    "root_mean_squared_error:  3.4395795757043617\n",
    " \n",
    "mean_test_score:  [2.83122156 2.96515367 3.09699659 2.86170339 2.88602632 3.43957958\n",
    " 3.04399317 2.88464823 2.85373039 2.90546938]\n",
    "\n",
    "\n",
    "folds:  6\n",
    "{'xgb_regressor__subsample': 1, 'xgb_regressor__reg_lambda': 0.1, 'xgb_regressor__reg_alpha': 0.1, 'xgb_regressor__random_state': 42, 'xgb_regressor__objective': 'reg:squarederror', 'xgb_regressor__n_estimators': 500, 'xgb_regressor__max_depth': 20, 'xgb_regressor__learning_rate': 0.05, 'xgb_regressor__gamma': 0.4, 'xgb_regressor__colsample_bytree': 1, 'tfidf__use_idf': False, 'tfidf__sublinear_tf': False, 'tfidf__stop_words': ['english'], 'tfidf__ngram_range': (1, 2), 'tfidf__min_df': 2, 'tfidf__max_features': 2000, 'tfidf__max_df': 0.75, 'tfidf__analyzer': 'word', 'svd__random_state': 42, 'svd__n_components': 300}\n",
    "root_mean_squared_error:  3.1174904016280647\n",
    " \n",
    "mean_test_score:  [2.90251648 2.98732675 2.94979991 2.91589344 2.89705201 3.1105241\n",
    " 3.1174904  2.97058267 2.8984135  2.94111667]\n",
    "\n",
    "\n",
    "folds:  7\n",
    "{'xgb_regressor__subsample': 0.8, 'xgb_regressor__reg_lambda': 0.01, 'xgb_regressor__reg_alpha': 1, 'xgb_regressor__random_state': 42, 'xgb_regressor__objective': 'reg:squarederror', 'xgb_regressor__n_estimators': 500, 'xgb_regressor__max_depth': 10, 'xgb_regressor__learning_rate': 0.3, 'xgb_regressor__gamma': 0.3, 'xgb_regressor__colsample_bytree': 0.7, 'tfidf__use_idf': True, 'tfidf__sublinear_tf': True, 'tfidf__stop_words': ['english'], 'tfidf__ngram_range': (1, 1), 'tfidf__min_df': 2, 'tfidf__max_features': 2000, 'tfidf__max_df': 0.8, 'tfidf__analyzer': 'word', 'svd__random_state': 42, 'svd__n_components': 400}\n",
    "root_mean_squared_error:  3.072295950916678\n",
    " \n",
    "mean_test_score:  [2.8882336  2.99625175 2.96012651 2.88654206 2.82097511 2.87765466\n",
    " 2.86609657 3.07229595 2.86111338 2.89542429]\n",
    "\n",
    "\n",
    "folds:  8\n",
    "{'xgb_regressor__subsample': 0.9, 'xgb_regressor__reg_lambda': 1, 'xgb_regressor__reg_alpha': 1, 'xgb_regressor__random_state': 42, 'xgb_regressor__objective': 'reg:squarederror', 'xgb_regressor__n_estimators': 500, 'xgb_regressor__max_depth': 20, 'xgb_regressor__learning_rate': 0.3, 'xgb_regressor__gamma': 0.5, 'xgb_regressor__colsample_bytree': 1, 'tfidf__use_idf': True, 'tfidf__sublinear_tf': False, 'tfidf__stop_words': ['english'], 'tfidf__ngram_range': (1, 1), 'tfidf__min_df': 2, 'tfidf__max_features': 1000, 'tfidf__max_df': 0.75, 'tfidf__analyzer': 'word', 'svd__random_state': 42, 'svd__n_components': 300}\n",
    "root_mean_squared_error:  3.0462914103801038\n",
    " \n",
    "mean_test_score:  [3.00735441 2.89548136 3.04629141 2.89458644 2.85132475 2.80295479\n",
    " 2.8394033  2.8548867  2.9969562  2.77377019]\n",
    "\n",
    "\n",
    "folds:  9\n",
    "{'xgb_regressor__subsample': 0.7, 'xgb_regressor__reg_lambda': 0.1, 'xgb_regressor__reg_alpha': 0, 'xgb_regressor__random_state': 42, 'xgb_regressor__objective': 'reg:squarederror', 'xgb_regressor__n_estimators': 100, 'xgb_regressor__max_depth': 10, 'xgb_regressor__learning_rate': 0.3, 'xgb_regressor__gamma': 0.4, 'xgb_regressor__colsample_bytree': 0.7, 'tfidf__use_idf': True, 'tfidf__sublinear_tf': True, 'tfidf__stop_words': ['english'], 'tfidf__ngram_range': (1, 1), 'tfidf__min_df': 5, 'tfidf__max_features': 2000, 'tfidf__max_df': 0.8, 'tfidf__analyzer': 'word', 'svd__random_state': 42, 'svd__n_components': 100}\n",
    "root_mean_squared_error:  3.1054041166941264\n",
    " \n",
    "mean_test_score:  [2.89459705 2.82756804 3.02581797 2.8293994  2.98901009 2.85505087\n",
    " 2.82793389 3.10540412 2.89859089 2.87424321]\n",
    "\n",
    "\n",
    "folds:  10\n",
    "{'xgb_regressor__subsample': 0.6, 'xgb_regressor__reg_lambda': 1, 'xgb_regressor__reg_alpha': 0.1, 'xgb_regressor__random_state': 42, 'xgb_regressor__objective': 'reg:squarederror', 'xgb_regressor__n_estimators': 500, 'xgb_regressor__max_depth': 20, 'xgb_regressor__learning_rate': 0.3, 'xgb_regressor__gamma': 0, 'xgb_regressor__colsample_bytree': 0.6, 'tfidf__use_idf': False, 'tfidf__sublinear_tf': True, 'tfidf__stop_words': ['english'], 'tfidf__ngram_range': (1, 1), 'tfidf__min_df': 2, 'tfidf__max_features': 1000, 'tfidf__max_df': 0.75, 'tfidf__analyzer': 'word', 'svd__random_state': 42, 'svd__n_components': 400}\n",
    "root_mean_squared_error:  3.1751849588891394\n",
    " \n",
    "mean_test_score:  [2.83595358 2.93062112 2.8248009  2.88451685 2.86182348 3.17518496\n",
    " 3.10279488 3.12063031 2.89006735 2.89186031]\n"
   ]
  },
  {
   "cell_type": "code",
   "execution_count": null,
   "id": "5c7aaa06-4012-4b50-af1e-7fad3ee6894a",
   "metadata": {},
   "outputs": [],
   "source": [
    "randomcv_best_score.best_params_"
   ]
  },
  {
   "cell_type": "code",
   "execution_count": null,
   "id": "5a9467ca-ed26-4b28-8f23-e48c9ddcc322",
   "metadata": {},
   "outputs": [],
   "source": [
    "randomcv_best_score.best_score_"
   ]
  },
  {
   "cell_type": "code",
   "execution_count": null,
   "id": "KK7j2I5cPOf4",
   "metadata": {
    "colab": {
     "base_uri": "https://localhost:8080/"
    },
    "id": "KK7j2I5cPOf4",
    "outputId": "cedb38b5-48d1-4428-8ab9-6f32acbb0d4f",
    "scrolled": true
   },
   "outputs": [],
   "source": [
    "randomcv_best_score.cv_results_['mean_test_score']"
   ]
  },
  {
   "cell_type": "markdown",
   "id": "ccc09200-e21a-49f8-aa56-b0d29192010f",
   "metadata": {},
   "source": [
    "THE BEST\n",
    "\n",
    "folds: 5 {'xgb_regressor__subsample': 0.7, 'xgb_regressor__reg_lambda': 0.1, 'xgb_regressor__reg_alpha': 0, 'xgb_regressor__random_state': 42, 'xgb_regressor__objective': 'reg:squarederror', 'xgb_regressor__n_estimators': 500, 'xgb_regressor__max_depth': 10, 'xgb_regressor__learning_rate': 0.3, 'xgb_regressor__gamma': 0.1, 'xgb_regressor__colsample_bytree': 1, 'tfidf__use_idf': False, 'tfidf__sublinear_tf': True, 'tfidf__stop_words': ['english'], 'tfidf__ngram_range': (1, 1), 'tfidf__min_df': 5, 'tfidf__max_features': 2000, 'tfidf__max_df': 0.8, 'tfidf__analyzer': 'word'} root_mean_squared_error: 3.0159159380511493\n",
    "\n",
    "#CON SVD\n",
    "\n",
    "folds: 8 {'xgb_regressor__subsample': 0.9, 'xgb_regressor__reg_lambda': 1, 'xgb_regressor__reg_alpha': 1, 'xgb_regressor__random_state': 42, 'xgb_regressor__objective': 'reg:squarederror', 'xgb_regressor__n_estimators': 500, 'xgb_regressor__max_depth': 20, 'xgb_regressor__learning_rate': 0.3, 'xgb_regressor__gamma': 0.5, 'xgb_regressor__colsample_bytree': 1, 'tfidf__use_idf': True, 'tfidf__sublinear_tf': False, 'tfidf__stop_words': ['english'], 'tfidf__ngram_range': (1, 1), 'tfidf__min_df': 2, 'tfidf__max_features': 1000, 'tfidf__max_df': 0.75, 'tfidf__analyzer': 'word', 'svd__random_state': 42, 'svd__n_components': 300} root_mean_squared_error: 3.0462914103801038"
   ]
  },
  {
   "cell_type": "code",
   "execution_count": null,
   "id": "9151eb22",
   "metadata": {},
   "outputs": [],
   "source": []
  }
 ],
 "metadata": {
  "colab": {
   "provenance": []
  },
  "kernelspec": {
   "display_name": "Python 3 (ipykernel)",
   "language": "python",
   "name": "python3"
  },
  "language_info": {
   "codemirror_mode": {
    "name": "ipython",
    "version": 3
   },
   "file_extension": ".py",
   "mimetype": "text/x-python",
   "name": "python",
   "nbconvert_exporter": "python",
   "pygments_lexer": "ipython3",
   "version": "3.12.3"
  }
 },
 "nbformat": 4,
 "nbformat_minor": 5
}
